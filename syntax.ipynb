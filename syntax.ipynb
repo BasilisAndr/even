{
 "cells": [
  {
   "cell_type": "markdown",
   "metadata": {},
   "source": [
    "Задачи здесь:\n",
    "\n",
    "- посчитать количество союзов\n",
    "- вытащить цепочки морфем так, чтобы \n",
    "    - на месте конвербов стояли конвербы, а не глаголы\n",
    "    - запятые стояли там где они стоят (это вообще можно??)\n",
    "- посмотреть как с полипредикативами и там и там"
   ]
  },
  {
   "cell_type": "code",
   "execution_count": 1,
   "metadata": {
    "collapsed": true
   },
   "outputs": [],
   "source": [
    "import os, re, pickle\n",
    "from pprint import pprint\n",
    "import numpy as np\n",
    "import pandas as pd"
   ]
  },
  {
   "cell_type": "code",
   "execution_count": 24,
   "metadata": {
    "collapsed": false
   },
   "outputs": [
    {
     "name": "stdout",
     "output_type": "stream",
     "text": [
      "Kejmetinova_AA_headmistress_Yakutsk_310310_LZ.txt\n"
     ]
    }
   ],
   "source": [
    "def get_poschains(corp):\n",
    "    cvbs = set(['-ant.cvb',\n",
    "     '-caus.neg.cvb',\n",
    "     '-cond.cvb',\n",
    "     '-des.neg.cvb',\n",
    "     '-dur.cvb',\n",
    "     '-imm.cvb',\n",
    "     '-impf.cvb',\n",
    "     '-mult.cvb',\n",
    "     '-neg.cvb',\n",
    "     '-nmdl.cvb',\n",
    "     '-pf.cvb.Y',\n",
    "     '-purp.cvb',\n",
    "     '-sim.cvb',\n",
    "     '-trm.cvb',\n",
    "     '-vr.cvb.Y'])\n",
    "    res = []\n",
    "    for doc in corp:\n",
    "        for sent in corp[doc]['text']:\n",
    "            if 'ps' in sent:\n",
    "                if len(sent['ps'])!=len(sent['mb']):\n",
    "                    print(doc)\n",
    "                    continue\n",
    "                s = [sent['ps'][i][0] if len(set(sent['ge'][i])&cvbs)==0 else 'cvb' for i in range(len(sent['ps']))]\n",
    "                res.append(s)\n",
    "    return res\n",
    "\n",
    "with open('Sebjan.pickle', 'rb') as f:\n",
    "    seb = pickle.load(f)\n",
    "with open('Kamchatka.pickle', 'rb') as f:\n",
    "    kam = pickle.load(f)\n",
    "\n",
    "seb_ch = get_poschains(seb)\n",
    "kam_ch = get_poschains(kam)"
   ]
  },
  {
   "cell_type": "code",
   "execution_count": 16,
   "metadata": {
    "collapsed": false
   },
   "outputs": [
    {
     "data": {
      "text/plain": [
       "6.2668931672329178"
      ]
     },
     "execution_count": 16,
     "metadata": {},
     "output_type": "execute_result"
    }
   ],
   "source": [
    "np.mean(list(map(lambda x: len(x), seb_ch)))"
   ]
  },
  {
   "cell_type": "code",
   "execution_count": 17,
   "metadata": {
    "collapsed": false
   },
   "outputs": [
    {
     "data": {
      "text/plain": [
       "5.9835706462212483"
      ]
     },
     "execution_count": 17,
     "metadata": {},
     "output_type": "execute_result"
    }
   ],
   "source": [
    "np.mean(list(map(lambda x: len(x), kam_ch)))"
   ]
  },
  {
   "cell_type": "code",
   "execution_count": 25,
   "metadata": {
    "collapsed": false
   },
   "outputs": [
    {
     "data": {
      "text/plain": [
       "0.48861205486347048"
      ]
     },
     "execution_count": 25,
     "metadata": {},
     "output_type": "execute_result"
    }
   ],
   "source": [
    "np.mean(list(map(lambda x: sum([y=='cvb' for y in x]), seb_ch)))"
   ]
  },
  {
   "cell_type": "code",
   "execution_count": 26,
   "metadata": {
    "collapsed": false
   },
   "outputs": [
    {
     "data": {
      "text/plain": [
       "0.28075940124132898"
      ]
     },
     "execution_count": 26,
     "metadata": {},
     "output_type": "execute_result"
    }
   ],
   "source": [
    "np.mean(list(map(lambda x: sum([y=='cvb' for y in x]), kam_ch)))"
   ]
  },
  {
   "cell_type": "code",
   "execution_count": 27,
   "metadata": {
    "collapsed": false
   },
   "outputs": [
    {
     "data": {
      "text/plain": [
       "7947"
      ]
     },
     "execution_count": 27,
     "metadata": {},
     "output_type": "execute_result"
    }
   ],
   "source": [
    "len(seb_ch)"
   ]
  },
  {
   "cell_type": "code",
   "execution_count": 28,
   "metadata": {
    "collapsed": false
   },
   "outputs": [
    {
     "data": {
      "text/plain": [
       "5478"
      ]
     },
     "execution_count": 28,
     "metadata": {},
     "output_type": "execute_result"
    }
   ],
   "source": [
    "len(kam_ch)"
   ]
  },
  {
   "cell_type": "code",
   "execution_count": 40,
   "metadata": {
    "collapsed": false
   },
   "outputs": [
    {
     "name": "stdout",
     "output_type": "stream",
     "text": [
      "Number of sentences in corpora:\n",
      "\tSebjan: 7947\n",
      "\tKamchatka: 5478\n",
      "\n",
      "Average length of a sentence:\n",
      "\tSebjan: 6.27\n",
      "\tKamchatka: 5.98\n",
      "\n",
      "Average number of converbs in a sentence:\n",
      "\tSebjan: 0.49\n",
      "\tKamchatka: 0.28\n",
      "\n",
      "Average number of verbs in a sentence:\n",
      "\tSebjan: 1.37\n",
      "\tKamchatka: 1.55\n",
      "\n",
      "Average number of conj in a sentence:\n",
      "\tSebjan: 0.03\n",
      "\tKamchatka: 0.08\n",
      "\n",
      "Share of polipredicative sentences:\n",
      "\tSebjan: 0.36\n",
      "\tKamchatka: 0.43\n",
      "\n",
      "Share of v+cvb sentences:\n",
      "\tSebjan: 0.27\n",
      "\tKamchatka: 0.21\n",
      "\n"
     ]
    }
   ],
   "source": [
    "print('Number of sentences in corpora:')\n",
    "print('\\tSebjan: {}'.format(len(seb_ch)))\n",
    "print('\\tKamchatka: {}'.format(len(kam_ch)))\n",
    "print()\n",
    "print('Average length of a sentence:')\n",
    "print('\\tSebjan: {:0.2f}'.format(np.mean(list(map(lambda x: len(x), seb_ch)))))\n",
    "print('\\tKamchatka: {:0.2f}'.format(np.mean(list(map(lambda x: len(x), kam_ch)))))\n",
    "print()\n",
    "print('Average number of converbs in a sentence:')\n",
    "print('\\tSebjan: {:0.2f}'.format(np.mean(list(map(lambda x: sum([y=='cvb' for y in x]), seb_ch)))))\n",
    "print('\\tKamchatka: {:0.2f}'.format(np.mean(list(map(lambda x: sum([y=='cvb' for y in x]), kam_ch)))))\n",
    "print()\n",
    "# на этом можно посчитать хиквадрат\n",
    "print('Average number of verbs in a sentence:')\n",
    "print('\\tSebjan: {:0.2f}'.format(np.mean(list(map(lambda x: sum([y=='v' for y in x]), seb_ch)))))\n",
    "print('\\tKamchatka: {:0.2f}'.format(np.mean(list(map(lambda x: sum([y=='v' for y in x]), kam_ch)))))\n",
    "print()\n",
    "print('Average number of conj in a sentence:')\n",
    "print('\\tSebjan: {:0.2f}'.format(np.mean(list(map(lambda x: sum([y=='conj' for y in x]), seb_ch)))))\n",
    "print('\\tKamchatka: {:0.2f}'.format(np.mean(list(map(lambda x: sum([y=='conj' for y in x]), kam_ch)))))\n",
    "print()\n",
    "\n",
    "seb_polipred = [x for x in seb_ch if sum([y=='v' for y in x])>1]\n",
    "kam_polipred = [x for x in kam_ch if sum([y=='v' for y in x])>1]\n",
    "\n",
    "print('Share of polipredicative sentences:')\n",
    "print('\\tSebjan: {:0.2f}'.format(len(seb_polipred)/len(seb_ch)))\n",
    "print('\\tKamchatka: {:0.2f}'.format(len(kam_polipred)/len(kam_ch)))\n",
    "print()\n",
    "\n",
    "seb_policvb = [x for x in seb_ch if 'v' in x and 'cvb' in x]\n",
    "kam_policvb = [x for x in kam_ch if 'v' in x and 'cvb' in x]\n",
    "\n",
    "print('Share of v+cvb sentences:')\n",
    "print('\\tSebjan: {:0.2f}'.format(len(seb_policvb)/len(seb_ch)))\n",
    "print('\\tKamchatka: {:0.2f}'.format(len(kam_policvb)/len(kam_ch)))\n",
    "print()"
   ]
  },
  {
   "cell_type": "code",
   "execution_count": null,
   "metadata": {
    "collapsed": true
   },
   "outputs": [],
   "source": []
  }
 ],
 "metadata": {
  "kernelspec": {
   "display_name": "Python 3",
   "language": "python",
   "name": "python3"
  },
  "language_info": {
   "codemirror_mode": {
    "name": "ipython",
    "version": 3
   },
   "file_extension": ".py",
   "mimetype": "text/x-python",
   "name": "python",
   "nbconvert_exporter": "python",
   "pygments_lexer": "ipython3",
   "version": "3.5.2"
  }
 },
 "nbformat": 4,
 "nbformat_minor": 0
}
