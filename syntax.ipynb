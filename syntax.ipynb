{
 "cells": [
  {
   "cell_type": "markdown",
   "metadata": {},
   "source": [
    "Задачи здесь:\n",
    "\n",
    "- посчитать количество союзов\n",
    "- вытащить цепочки морфем так, чтобы \n",
    "    - на месте конвербов стояли конвербы, а не глаголы\n",
    "    - запятые стояли там где они стоят (это вообще можно??)\n",
    "- посмотреть как с полипредикативами и там и там"
   ]
  },
  {
   "cell_type": "code",
   "execution_count": 1,
   "metadata": {
    "collapsed": true
   },
   "outputs": [],
   "source": [
    "import os, re, pickle\n",
    "from pprint import pprint\n",
    "import numpy as np\n",
    "import pandas as pd"
   ]
  },
  {
   "cell_type": "code",
   "execution_count": 24,
   "metadata": {
    "collapsed": false
   },
   "outputs": [
    {
     "name": "stdout",
     "output_type": "stream",
     "text": [
      "Kejmetinova_AA_headmistress_Yakutsk_310310_LZ.txt\n"
     ]
    }
   ],
   "source": [
    "def get_poschains(corp):\n",
    "    cvbs = set(['-ant.cvb',\n",
    "     '-caus.neg.cvb',\n",
    "     '-cond.cvb',\n",
    "     '-des.neg.cvb',\n",
    "     '-dur.cvb',\n",
    "     '-imm.cvb',\n",
    "     '-impf.cvb',\n",
    "     '-mult.cvb',\n",
    "     '-neg.cvb',\n",
    "     '-nmdl.cvb',\n",
    "     '-pf.cvb.Y',\n",
    "     '-purp.cvb',\n",
    "     '-sim.cvb',\n",
    "     '-trm.cvb',\n",
    "     '-vr.cvb.Y'])\n",
    "    res = []\n",
    "    for doc in corp:\n",
    "        for sent in corp[doc]['text']:\n",
    "            if 'ps' in sent:\n",
    "                if len(sent['ps'])!=len(sent['mb']):\n",
    "                    print(doc)\n",
    "                    continue\n",
    "                s = [sent['ps'][i][0] if len(set(sent['ge'][i])&cvbs)==0 else 'cvb' for i in range(len(sent['ps']))]\n",
    "                res.append(s)\n",
    "    return res\n",
    "\n",
    "with open('Sebjan.pickle', 'rb') as f:\n",
    "    seb = pickle.load(f)\n",
    "with open('Kamchatka.pickle', 'rb') as f:\n",
    "    kam = pickle.load(f)\n",
    "\n",
    "seb_ch = get_poschains(seb)\n",
    "kam_ch = get_poschains(kam)"
   ]
  },
  {
   "cell_type": "code",
   "execution_count": 16,
   "metadata": {
    "collapsed": false
   },
   "outputs": [
    {
     "data": {
      "text/plain": [
       "6.2668931672329178"
      ]
     },
     "execution_count": 16,
     "metadata": {},
     "output_type": "execute_result"
    }
   ],
   "source": [
    "np.mean(list(map(lambda x: len(x), seb_ch)))"
   ]
  },
  {
   "cell_type": "code",
   "execution_count": 17,
   "metadata": {
    "collapsed": false
   },
   "outputs": [
    {
     "data": {
      "text/plain": [
       "5.9835706462212483"
      ]
     },
     "execution_count": 17,
     "metadata": {},
     "output_type": "execute_result"
    }
   ],
   "source": [
    "np.mean(list(map(lambda x: len(x), kam_ch)))"
   ]
  },
  {
   "cell_type": "code",
   "execution_count": 25,
   "metadata": {
    "collapsed": false
   },
   "outputs": [
    {
     "data": {
      "text/plain": [
       "0.48861205486347048"
      ]
     },
     "execution_count": 25,
     "metadata": {},
     "output_type": "execute_result"
    }
   ],
   "source": [
    "np.mean(list(map(lambda x: sum([y=='cvb' for y in x]), seb_ch)))"
   ]
  },
  {
   "cell_type": "code",
   "execution_count": 26,
   "metadata": {
    "collapsed": false
   },
   "outputs": [
    {
     "data": {
      "text/plain": [
       "0.28075940124132898"
      ]
     },
     "execution_count": 26,
     "metadata": {},
     "output_type": "execute_result"
    }
   ],
   "source": [
    "np.mean(list(map(lambda x: sum([y=='cvb' for y in x]), kam_ch)))"
   ]
  },
  {
   "cell_type": "code",
   "execution_count": 27,
   "metadata": {
    "collapsed": false
   },
   "outputs": [
    {
     "data": {
      "text/plain": [
       "7947"
      ]
     },
     "execution_count": 27,
     "metadata": {},
     "output_type": "execute_result"
    }
   ],
   "source": [
    "len(seb_ch)"
   ]
  },
  {
   "cell_type": "code",
   "execution_count": 28,
   "metadata": {
    "collapsed": false
   },
   "outputs": [
    {
     "data": {
      "text/plain": [
       "5478"
      ]
     },
     "execution_count": 28,
     "metadata": {},
     "output_type": "execute_result"
    }
   ],
   "source": [
    "len(kam_ch)"
   ]
  },
  {
   "cell_type": "code",
   "execution_count": 40,
   "metadata": {
    "collapsed": false
   },
   "outputs": [
    {
     "name": "stdout",
     "output_type": "stream",
     "text": [
      "Number of sentences in corpora:\n",
      "\tSebjan: 7947\n",
      "\tKamchatka: 5478\n",
      "\n",
      "Average length of a sentence:\n",
      "\tSebjan: 6.27\n",
      "\tKamchatka: 5.98\n",
      "\n",
      "Average number of converbs in a sentence:\n",
      "\tSebjan: 0.49\n",
      "\tKamchatka: 0.28\n",
      "\n",
      "Average number of verbs in a sentence:\n",
      "\tSebjan: 1.37\n",
      "\tKamchatka: 1.55\n",
      "\n",
      "Average number of conj in a sentence:\n",
      "\tSebjan: 0.03\n",
      "\tKamchatka: 0.08\n",
      "\n",
      "Share of polipredicative sentences:\n",
      "\tSebjan: 0.36\n",
      "\tKamchatka: 0.43\n",
      "\n",
      "Share of v+cvb sentences:\n",
      "\tSebjan: 0.27\n",
      "\tKamchatka: 0.21\n",
      "\n"
     ]
    }
   ],
   "source": [
    "print('Number of sentences in corpora:')\n",
    "print('\\tSebjan: {}'.format(len(seb_ch)))\n",
    "print('\\tKamchatka: {}'.format(len(kam_ch)))\n",
    "print()\n",
    "print('Average length of a sentence:')\n",
    "print('\\tSebjan: {:0.2f}'.format(np.mean(list(map(lambda x: len(x), seb_ch)))))\n",
    "print('\\tKamchatka: {:0.2f}'.format(np.mean(list(map(lambda x: len(x), kam_ch)))))\n",
    "print()\n",
    "print('Average number of converbs in a sentence:')\n",
    "print('\\tSebjan: {:0.2f}'.format(np.mean(list(map(lambda x: sum([y=='cvb' for y in x]), seb_ch)))))\n",
    "print('\\tKamchatka: {:0.2f}'.format(np.mean(list(map(lambda x: sum([y=='cvb' for y in x]), kam_ch)))))\n",
    "print()\n",
    "# на этом можно посчитать хиквадрат\n",
    "print('Average number of verbs in a sentence:')\n",
    "print('\\tSebjan: {:0.2f}'.format(np.mean(list(map(lambda x: sum([y=='v' for y in x]), seb_ch)))))\n",
    "print('\\tKamchatka: {:0.2f}'.format(np.mean(list(map(lambda x: sum([y=='v' for y in x]), kam_ch)))))\n",
    "print()\n",
    "print('Average number of conj in a sentence:')\n",
    "print('\\tSebjan: {:0.2f}'.format(np.mean(list(map(lambda x: sum([y=='conj' for y in x]), seb_ch)))))\n",
    "print('\\tKamchatka: {:0.2f}'.format(np.mean(list(map(lambda x: sum([y=='conj' for y in x]), kam_ch)))))\n",
    "print()\n",
    "\n",
    "seb_polipred = [x for x in seb_ch if sum([y=='v' for y in x])>1]\n",
    "kam_polipred = [x for x in kam_ch if sum([y=='v' for y in x])>1]\n",
    "\n",
    "print('Share of polipredicative sentences:')\n",
    "print('\\tSebjan: {:0.2f}'.format(len(seb_polipred)/len(seb_ch)))\n",
    "print('\\tKamchatka: {:0.2f}'.format(len(kam_polipred)/len(kam_ch)))\n",
    "print()\n",
    "\n",
    "seb_policvb = [x for x in seb_ch if 'v' in x and 'cvb' in x]\n",
    "kam_policvb = [x for x in kam_ch if 'v' in x and 'cvb' in x]\n",
    "\n",
    "print('Share of v+cvb sentences:')\n",
    "print('\\tSebjan: {:0.2f}'.format(len(seb_policvb)/len(seb_ch)))\n",
    "print('\\tKamchatka: {:0.2f}'.format(len(kam_policvb)/len(kam_ch)))\n",
    "print()"
   ]
  },
  {
   "cell_type": "code",
   "execution_count": 8,
   "metadata": {
    "collapsed": false
   },
   "outputs": [
    {
     "name": "stdout",
     "output_type": "stream",
     "text": [
      "Kejmetinova_AA_headmistress_Yakutsk_310310_LZ.txt\n"
     ]
    }
   ],
   "source": [
    "def get_polypr(corp):\n",
    "    res = []\n",
    "    for doc in corp:\n",
    "        for sent in corp[doc]['text']:\n",
    "            if 'ps' in sent:\n",
    "                if len(sent['ps'])!=len(sent['mb']):\n",
    "                    print(doc)\n",
    "                    continue\n",
    "                s = [(sent['mb'][i], sent['ge'][i], sent['ps'][i]) for i in range(len(sent['ps'])) \n",
    "                     if 'v' in sent['ps'][i] and not '-agnr' in sent['ge'][i] and not '-nr' in sent['ge'][i]]\n",
    "                if len(s)>1:\n",
    "                    res.append(s)\n",
    "    return res\n",
    "\n",
    "with open('Sebjan.pickle', 'rb') as f:\n",
    "    seb = pickle.load(f)\n",
    "with open('Kamchatka.pickle', 'rb') as f:\n",
    "    kam = pickle.load(f)\n",
    "\n",
    "seb_ch = get_polypr(seb)\n",
    "kam_ch = get_polypr(kam)"
   ]
  },
  {
   "cell_type": "code",
   "execution_count": 14,
   "metadata": {
    "collapsed": false
   },
   "outputs": [
    {
     "data": {
      "text/plain": [
       "[[(['bak', '-E', '-L', '-B', '-E', '-RI', '-W'],\n",
       "   ['find', '-ep', '-inch', '-med', '-ep', '-pst', '-poss.1sg'],\n",
       "   ['v']),\n",
       "  (['hor', '-RI', '-WUn'], ['go', '-pst', '-poss.1pl.ex'], ['v'])],\n",
       " [(['hor', '-WkEn', '-RI', '-tEn'],\n",
       "   ['go', '-caus', '-pst', '-poss.3pl'],\n",
       "   ['v']),\n",
       "  (['hor', '-RI', '-WUn'], ['go', '-pst', '-poss.1pl.ex'], ['v']),\n",
       "  (['teg', '-RI', '-WUn'], ['sit.down', '-pst', '-poss.1pl.ex'], ['v']),\n",
       "  (['hor', '-RI', '-WUn'], ['go', '-pst', '-poss.1pl.ex'], ['v'])],\n",
       " [(['hor', '-RI', '-W'], ['go', '-pst', '-poss.1sg'], ['v']),\n",
       "  (['hupkut', '-E', '-D', '-nE', '-DE', '-J'],\n",
       "   ['learn', '-ep', '-prog', '-intent', '-purp.cvb', '-prfl.sg'],\n",
       "   ['v'])],\n",
       " [(['hupkut', '-E', '-D', '-mI'], ['learn', '-ep', '-prog', '-vr'], ['v']),\n",
       "  (['ikeː', '-n', '-E', '-L', '-RI', '-W'],\n",
       "   ['sing', '-mult', '-ep', '-inch', '-pst', '-poss.1sg'],\n",
       "   ['v'])],\n",
       " [(['ewiː', '-D', '-RI', '-W'], ['play', '-prog', '-pst', '-poss.1sg'], ['v']),\n",
       "  (['bi', '-čE'], ['be', '-pf.ptc'], ['v'])],\n",
       " [(['hollot', '-RI', '-WUn'], ['go', '-pst', '-poss.1pl.ex'], ['v']),\n",
       "  (['hollot', '-RI', '-WUn'], ['go', '-pst', '-poss.1pl.ex'], ['v'])],\n",
       " [(['talal'], ['shine'], ['v']),\n",
       "  (['it', '-RIdʒI'], ['see', '-ant.cvb'], ['v']),\n",
       "  (['ulgim', '-E', '-D', '-WEːČ', '-R(E)', '-m'],\n",
       "   ['ask', '-ep', '-prog', '-gnr', '-nonfut', '-1sg'],\n",
       "   ['v'])],\n",
       " [(['bel', '-RI', '-tEn'], ['help', '-pst', '-poss.3pl'], ['v']),\n",
       "  (['ụnụ', '-DE', '-W'], ['understand', '-purp.cvb', '-poss.1sg'], ['v'])],\n",
       " [(['ọd', '-RIdʒI'], ['stop', '-ant.cvb'], ['v']),\n",
       "  (['em', '-RI', '-W'], ['come', '-pst', '-poss.1sg'], ['v']),\n",
       "  (['hor', '-WkEn', '-RI', '-tEn'],\n",
       "   ['go', '-caus', '-pst', '-poss.3pl'],\n",
       "   ['v'])],\n",
       " [(['gurgeːwči', '-D', '-mI'], ['work', '-prog', '-cond.cvb'], ['v']),\n",
       "  (['nurge', '-D', '-RI', '-W'],\n",
       "   ['dance', '-prog', '-pst', '-poss.1sg'],\n",
       "   ['v']),\n",
       "  (['tore', '-ŋ', '-t(I)'], ['speak', '-aln', '-poss.1pl.in'], ['v'])],\n",
       " [(['deg', '-WEːČ', '-(R)U', '=DE'],\n",
       "   ['fly', '-gnr', '-1pl.ex', '=ptl'],\n",
       "   ['v']),\n",
       "  (['deg', '-WEːČ'], ['fly', '-gnr'], ['v'])],\n",
       " [(['buteːn', '-E', '-L', '-REk', '-E', '-tEn'],\n",
       "   ['be.ill', '-ep', '-inch', '-cond.cvb', '-ep', '-poss.3pl'],\n",
       "   ['v']),\n",
       "  (['nulge', '-n', '-WkEn', '-RI', '-W'],\n",
       "   ['migrate', '-mult', '-caus', '-pst', '-poss.1sg'],\n",
       "   ['v'])],\n",
       " [(['bi', '-D', '-RI', '-W'], ['be', '-prog', '-pst', '-poss.1sg'], ['v']),\n",
       "  (['bi', '-D', '-RI', '-W'], ['be', '-prog', '-pst', '-poss.1sg'], ['v'])],\n",
       " [(['eːri', '-RI', '-tEn'], ['call', '-pst', '-poss.3pl'], ['v']),\n",
       "  (['em', '-DE', '-W'], ['come', '-purp.cvb', '-poss.1sg'], ['v'])],\n",
       " [(['eːri', '-RI', '-n(I)'], ['call', '-pst', '-poss.3sg'], ['v']),\n",
       "  (['gurgeː', '-nE', '-DE', '-W'],\n",
       "   ['work', '-intent', '-purp.cvb', '-poss.1sg'],\n",
       "   ['v'])]]"
      ]
     },
     "execution_count": 14,
     "metadata": {},
     "output_type": "execute_result"
    }
   ],
   "source": [
    "kam_ch[:15]"
   ]
  },
  {
   "cell_type": "code",
   "execution_count": 23,
   "metadata": {
    "collapsed": false
   },
   "outputs": [
    {
     "name": "stdout",
     "output_type": "stream",
     "text": [
      "0.4139387539598733\n",
      "0.6004331348132106\n"
     ]
    }
   ],
   "source": [
    "def get_proportion(poly, what):\n",
    "    indice = []\n",
    "    for i in range(len(poly)):\n",
    "        for v in poly[i]:\n",
    "            if what in ' '.join(v[1]):\n",
    "                indice.append(i)\n",
    "    return len(set(indice))/len(poly), indice\n",
    "\n",
    "print(get_proportion(kam_ch, 'cvb')[0])\n",
    "print(get_proportion(seb_ch, 'cvb')[0])"
   ]
  },
  {
   "cell_type": "code",
   "execution_count": 24,
   "metadata": {
    "collapsed": false
   },
   "outputs": [
    {
     "name": "stdout",
     "output_type": "stream",
     "text": [
      "0.0936290038718761\n",
      "0.43069842988630214\n"
     ]
    }
   ],
   "source": [
    "print(get_proportion(kam_ch, 'ptc')[0])\n",
    "print(get_proportion(seb_ch, 'ptc')[0])"
   ]
  },
  {
   "cell_type": "code",
   "execution_count": 25,
   "metadata": {
    "collapsed": false
   },
   "outputs": [
    {
     "data": {
      "text/plain": [
       "0.027807110172474482"
      ]
     },
     "execution_count": 25,
     "metadata": {},
     "output_type": "execute_result"
    }
   ],
   "source": [
    "len(set(get_proportion(kam_ch, 'cvb')[1])&set(get_proportion(kam_ch, 'ptc')[1]))/len(kam_ch)"
   ]
  },
  {
   "cell_type": "code",
   "execution_count": 26,
   "metadata": {
    "collapsed": false
   },
   "outputs": [
    {
     "data": {
      "text/plain": [
       "0.23768272874932322"
      ]
     },
     "execution_count": 26,
     "metadata": {},
     "output_type": "execute_result"
    }
   ],
   "source": [
    "len(set(get_proportion(seb_ch, 'cvb')[1])&set(get_proportion(seb_ch, 'ptc')[1]))/len(seb_ch)"
   ]
  },
  {
   "cell_type": "code",
   "execution_count": 27,
   "metadata": {
    "collapsed": false
   },
   "outputs": [
    {
     "name": "stdout",
     "output_type": "stream",
     "text": [
      "-ant.cvb\n",
      "Kamchatka:  0.0781414994720169\n",
      "Sebjan:  0.14537087168381158\n",
      "-cond.cvb\n",
      "Kamchatka:  0.12953185498064063\n",
      "Sebjan:  0.18543584190579318\n",
      "-neg.cvb\n",
      "Kamchatka:  0.11334037310806054\n",
      "Sebjan:  0.14266377910124525\n",
      "-nmdl.cvb\n",
      "Kamchatka:  0.011263639563533967\n",
      "Sebjan:  0.0018949648077964266\n",
      "-purp.cvb\n",
      "Kamchatka:  0.11122844068989793\n",
      "Sebjan:  0.058743909041689225\n",
      "-sim.cvb\n",
      "Kamchatka:  0.019711369236184443\n",
      "Sebjan:  0.21331889550622632\n"
     ]
    }
   ],
   "source": [
    "cvbs = ['-ant.cvb',\n",
    "     '-cond.cvb',\n",
    "     '-neg.cvb',\n",
    "     '-nmdl.cvb',\n",
    "     '-purp.cvb',\n",
    "     '-sim.cvb']\n",
    "\n",
    "for cvb in cvbs:\n",
    "    print(cvb)\n",
    "    print(\"Kamchatka: \", get_proportion(kam_ch, cvb)[0])\n",
    "    print(\"Sebjan: \", get_proportion(seb_ch, cvb)[0])\n"
   ]
  },
  {
   "cell_type": "code",
   "execution_count": 47,
   "metadata": {
    "collapsed": false
   },
   "outputs": [
    {
     "data": {
      "text/plain": [
       "0.2555438225976769"
      ]
     },
     "execution_count": 47,
     "metadata": {},
     "output_type": "execute_result"
    }
   ],
   "source": [
    "len(\n",
    "    set(get_proportion(kam_ch, 'poss')[1]) #| \n",
    "#     set(get_proportion(kam_ch, '-1sg')[1]) | set(get_proportion(kam_ch, '-2sg')[1]) | \n",
    "#     set(get_proportion(kam_ch, '-3sg')[1]) - \n",
    "    - set(get_proportion(kam_ch, 'cvb')[1]) - set(get_proportion(kam_ch, 'ptc')[1])\n",
    ") / len(kam_ch)"
   ]
  },
  {
   "cell_type": "code",
   "execution_count": 38,
   "metadata": {
    "collapsed": false
   },
   "outputs": [
    {
     "data": {
      "text/plain": [
       "0.5917704385489984"
      ]
     },
     "execution_count": 38,
     "metadata": {},
     "output_type": "execute_result"
    }
   ],
   "source": [
    "len(\n",
    "    set(get_proportion(seb_ch, 'poss')[1]) | \n",
    "    set(get_proportion(seb_ch, '-1sg')[1]) | set(get_proportion(seb_ch, '-2sg')[1]) | \n",
    "    set(get_proportion(seb_ch, '-3sg')[1]) - \n",
    "    set(get_proportion(seb_ch, 'cvb')[1]) - set(get_proportion(seb_ch, 'ptc')[1])\n",
    ") / len(seb_ch)"
   ]
  },
  {
   "cell_type": "code",
   "execution_count": 45,
   "metadata": {
    "collapsed": false
   },
   "outputs": [],
   "source": [
    "import seaborn as sns"
   ]
  },
  {
   "cell_type": "code",
   "execution_count": 46,
   "metadata": {
    "collapsed": true
   },
   "outputs": [],
   "source": [
    "import numpy as np"
   ]
  },
  {
   "cell_type": "code",
   "execution_count": null,
   "metadata": {
    "collapsed": true
   },
   "outputs": [],
   "source": [
    "arr = [get_proportion(kam_ch, 'cvb')[0], get_proportion(seb_ch, 'cvb')[0], \n",
    "       get_proportion(kam_ch, 'ptc')[0], get_proportion(seb_ch, 'ptc')[0]]"
   ]
  },
  {
   "cell_type": "code",
   "execution_count": 40,
   "metadata": {
    "collapsed": false
   },
   "outputs": [
    {
     "data": {
      "text/plain": [
       "1808"
      ]
     },
     "execution_count": 40,
     "metadata": {},
     "output_type": "execute_result"
    }
   ],
   "source": [
    "len(set(get_proportion(seb_ch, 'poss')[1]) | \n",
    "    set(get_proportion(seb_ch, '-1sg')[1]))"
   ]
  },
  {
   "cell_type": "code",
   "execution_count": 42,
   "metadata": {
    "collapsed": false
   },
   "outputs": [
    {
     "data": {
      "text/plain": [
       "1476"
      ]
     },
     "execution_count": 42,
     "metadata": {},
     "output_type": "execute_result"
    }
   ],
   "source": [
    "len(set(get_proportion(seb_ch, 'poss')[1]))"
   ]
  },
  {
   "cell_type": "code",
   "execution_count": 43,
   "metadata": {
    "collapsed": false
   },
   "outputs": [
    {
     "data": {
      "text/plain": [
       "479"
      ]
     },
     "execution_count": 43,
     "metadata": {},
     "output_type": "execute_result"
    }
   ],
   "source": [
    "len(set(get_proportion(seb_ch, '-1sg')[1]))"
   ]
  },
  {
   "cell_type": "code",
   "execution_count": null,
   "metadata": {
    "collapsed": true
   },
   "outputs": [],
   "source": []
  }
 ],
 "metadata": {
  "kernelspec": {
   "display_name": "Python 3",
   "language": "python",
   "name": "python3"
  },
  "language_info": {
   "codemirror_mode": {
    "name": "ipython",
    "version": 3
   },
   "file_extension": ".py",
   "mimetype": "text/x-python",
   "name": "python",
   "nbconvert_exporter": "python",
   "pygments_lexer": "ipython3",
   "version": "3.5.2"
  }
 },
 "nbformat": 4,
 "nbformat_minor": 0
}
