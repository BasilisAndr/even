{
 "cells": [
  {
   "cell_type": "markdown",
   "metadata": {},
   "source": [
    "List of datasets:\n",
    "\n",
    "## Everything\n",
    "\n",
    "Sebjan.pickle, Kamchatka.pickle -- словари формата\n",
    "\n",
    "`{\n",
    "    doc:{    # in a dict, named\n",
    "        meta:[meta],    # metainfo at the head\n",
    "        text:[\n",
    "            {        # sentence (in a list, numbered)\n",
    "                layer:[\n",
    "                    morphs    # for mb, ge, ps\n",
    "                    ],\n",
    "                layer:''    # e.g. translation\n",
    "            }\n",
    "        ]\n",
    "    }\n",
    "}`\n",
    "\n",
    "## Converbs\n",
    "\n",
    "converbs.pickle -- таблица с конвербами + логлайк\n",
    "\n",
    "\n",
    "## Morphemes\n",
    "\n",
    "### Raw\n",
    "\n",
    "Sebjan_morphemes.pickle, Kamchatka_morphemes.pickle -- raw succession of words like this\n",
    "\n",
    "` (0,),    # root\n",
    " ('-B', '-med', 'v'),\n",
    " ('-DEŋ', '-pst.ptc', 'v'),\n",
    " ('-E', '-ep', 'v')\n",
    " (1,)]     # end of the word`\n",
    "\n",
    "### Single morphemes\n",
    " \n",
    "Sebjan_morphemes_only.pickle, Kamchatka_morphemes_only.pickle -- pd of morphemes with counts only\n",
    "\n",
    "morphemes_count.pickle -- pd of morphemes with counts only by two corp together\n",
    "\n",
    "total_morphemes.pickle -- таблица с морфемами + логлайк\n",
    "\n",
    "\n",
    " \n",
    " ### Pairs\n",
    " \n",
    " Sebjan_pairs_dict.pickle, Kamchatka_pairs_dict.pickle -- dicts of (morph): {morph_after: N}\n",
    " \n",
    " pairs.pickle -- pd with pairs and count only\n",
    " \n",
    " pairs_by_ll.pickle -- pd with pairs and all the stats\n",
    " \n",
    "\n"
   ]
  },
  {
   "cell_type": "markdown",
   "metadata": {},
   "source": [
    "# Здесь я буду группировать части речи по noun-like/verb-like"
   ]
  },
  {
   "cell_type": "markdown",
   "metadata": {},
   "source": [
    "## Сначала для одиночных морфем"
   ]
  },
  {
   "cell_type": "code",
   "execution_count": null,
   "metadata": {
    "collapsed": true
   },
   "outputs": [],
   "source": []
  },
  {
   "cell_type": "markdown",
   "metadata": {},
   "source": [
    "## Теперь для пар"
   ]
  },
  {
   "cell_type": "code",
   "execution_count": null,
   "metadata": {
    "collapsed": true
   },
   "outputs": [],
   "source": []
  }
 ],
 "metadata": {
  "kernelspec": {
   "display_name": "Python 3",
   "language": "python",
   "name": "python3"
  },
  "language_info": {
   "codemirror_mode": {
    "name": "ipython",
    "version": 3
   },
   "file_extension": ".py",
   "mimetype": "text/x-python",
   "name": "python",
   "nbconvert_exporter": "python",
   "pygments_lexer": "ipython3",
   "version": "3.5.2"
  }
 },
 "nbformat": 4,
 "nbformat_minor": 0
}
