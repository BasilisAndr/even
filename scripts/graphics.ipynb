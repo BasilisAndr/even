{
 "cells": [
  {
   "cell_type": "code",
   "execution_count": 65,
   "metadata": {},
   "outputs": [],
   "source": [
    "import re\n",
    "import pickle\n",
    "from pprint import pprint\n",
    "from collections import Counter\n",
    "import os\n",
    "import numpy as np\n",
    "import pandas as pd\n",
    "\n",
    "\n",
    "class MorphemeError(Exception):\n",
    "    '''raised if morpheme is empty'''\n",
    "    def __init__(self, message='Length of lists not equal'):\n",
    "        super(MorphemeError, self).__init__()\n",
    "        self.message = message\n",
    "    def __str__(self):\n",
    "        return repr(self.message)\n",
    "\n",
    "\n",
    "class Morphemes():\n",
    "\n",
    "\n",
    "    def __init__(self, content, corpus):\n",
    "        self.content = content\n",
    "        self.corpus = corpus\n",
    "        self.morphemes = self.morpheme_count()\n",
    "        if '0' in self.morphemes or 0 in self.morphemes:\n",
    "            raise MorphemeError('0 morphemes in morpheme_count')\n",
    "        self.raw_speakers = self.raw_speaker_count()\n",
    "        self.speakers = self.speaker_count()\n",
    "        self.mbs = self.morpheme_by_speaker_count()\n",
    "\n",
    "\n",
    "    def morpheme_count(self):\n",
    "        '''returns dict with overall count for morphemes (ignoring speakers)'''\n",
    "        items = [x[:3] for x in self.content if x[0][0] in '-=' and not '-ep' in x]\n",
    "        return Counter(items)\n",
    "\n",
    "    \n",
    "    def raw_morpheme_by_speaker_count(self):\n",
    "#     '''generates dict morheme: Counter(by speaker) with number of times speaker said this morpheme'''\n",
    "        alll = {}\n",
    "        for morpheme in self.morphemes:\n",
    "            count = Counter([x[-1] for x in self.content if x[:3]==morpheme])\n",
    "            res = {x: count[x] for x in count}\n",
    "            mor = '-'.join(list(map(lambda x: x.strip('-='), morpheme)))\n",
    "            alll[mor] = res\n",
    "        return alll\n",
    "    \n",
    "    \n",
    "    def morpheme_by_speaker_count(self):\n",
    "        '''generates dict morheme: Counter(by speaker) with proportion of this speaker in the \n",
    "        overall count of this morpheme'''\n",
    "        alll = {}\n",
    "        for morpheme in self.morphemes:\n",
    "            count = Counter([x[-1] for x in self.content if x[:3]==morpheme])\n",
    "            res = {x: count[x]/self.morphemes[morpheme] for x in count}\n",
    "            mor = '-'.join(list(map(lambda x: x.strip('-='), morpheme)))\n",
    "            alll[mor] = res\n",
    "        return alll\n",
    "\n",
    "    def speaker_by_morpheme_count(self):\n",
    "        '''generates dict morpheme: Counter(by speaker) with proportion of this morpheme in this speakers speech'''\n",
    "        alll = {}\n",
    "        for morpheme in self.morphemes:\n",
    "            count = Counter([x[-1] for x in self.content if x[:3]==morpheme])\n",
    "            res = {x: count[x]/self.raw_speakers[x] for x in count}\n",
    "            alll[morpheme] = res\n",
    "        return alll\n",
    "\n",
    "\n",
    "    def calculate_dp(self):\n",
    "        '''well, calculates dp for all morphemes'''\n",
    "        res = {'morpheme': [], 'count': [], 'dp': []}\n",
    "        for sp in self.speakers:\n",
    "            res[sp] = []\n",
    "        sp_by_mor = self.speaker_by_morpheme_count()\n",
    "        for mor, counts in self.morpheme_by_speaker_count():\n",
    "            sp_count = sp_by_mor[mor]\n",
    "            res['morpheme'].append('-'.join(list(map(lambda x: x.strip('-='), mor))))\n",
    "            res['count'].append(self.morphemes[mor])\n",
    "            res['dp'].append(dp(self.speakers, counts))\n",
    "            if not sum(counts.values()) > 0.999:\n",
    "                print(mor)\n",
    "                print(self.morphemes[mor])\n",
    "                pprint(counts)\n",
    "                print(sum(counts.values()))\n",
    "                raise MorphemeError('sum not equals 1')\n",
    "            for sp in self.speakers:\n",
    "                if sp in sp_count:\n",
    "                    res[sp].append(sp_count[sp])\n",
    "                else:\n",
    "                    res[sp].append(0)\n",
    "        return res\n",
    "\n",
    "\n",
    "    def raw_speaker_count(self):\n",
    "        '''returns dict with the number of words every speaker said in a corpus'''\n",
    "        items = [x[-1] for x in self.content if x[0]=='END']\n",
    "        return Counter(items)\n",
    "\n",
    "\n",
    "    def speaker_count(self, totals = {'Kamchatka': 33112, 'Sebjan': 49800}):\n",
    "        '''returns dict with proportions of every speaker in a corpus'''\n",
    "        res = {x: self.raw_speakers[x]/totals[self.corpus] for x in self.raw_speakers}\n",
    "        # pprint(res)\n",
    "        # print(sum(res.values()))\n",
    "        return res\n",
    "\n",
    "\n",
    "def dp(expected, observed):\n",
    "    # step = {sp: expected[sp]-observed[sp] if sp in observed else expected[sp] for sp in expected}\n",
    "    deltas = []\n",
    "    for sp in expected:\n",
    "        if sp in observed:\n",
    "            delta = np.abs(expected[sp]-observed[sp])\n",
    "        else:\n",
    "            delta = 0\n",
    "        deltas.append(delta)\n",
    "    dp = sum(deltas) / 2\n",
    "    return dp\n",
    "\n",
    "\n",
    "\n",
    "def main():\n",
    "    corpora = ['Kamchatka', 'Sebjan']\n",
    "    corp_pd = []\n",
    "    for corp in corpora:\n",
    "        with open('../{}_wds_by_mor.pickle'.format(corp), 'rb') as f:\n",
    "            mor = Morphemes(pickle.load(f), corp)\n",
    "        res = mor.calculate_dp()\n",
    "        columns = ['morpheme', 'count', 'dp'] + sorted(list(mor.speakers.keys()))\n",
    "        a = pd.DataFrame(res).loc[pd.DataFrame(res)['count']>15].sort_values('dp', ascending=False)[columns] \n",
    "        #.to_excel('{}_dp_new.xlsx'.format(corp))\n",
    "        corp_pd.append(a)\n",
    "        print('{} done'.format(corp))\n",
    "    print('all done')\n",
    "    return corp_pd\n",
    "\n",
    "\n",
    "# if __name__ == '__main__':\n",
    "#     # unittest.main()\n",
    "#     a = main()\n",
    "\n"
   ]
  },
  {
   "cell_type": "code",
   "execution_count": 20,
   "metadata": {
    "collapsed": true
   },
   "outputs": [],
   "source": [
    "a[0]['AAS_k'] = a[0][\"AAS\"]\n",
    "del a[0][\"AAS\"]"
   ]
  },
  {
   "cell_type": "markdown",
   "metadata": {},
   "source": [
    "Надо понять что мне нужно\n",
    "\n",
    "мне нужен\n",
    "\n",
    "- список всех спикеров +\n",
    "- список нужных морфем +\n",
    "\n",
    "надо почистить спикеров по тому, что говорила Бригитта\n",
    "\n",
    "ptc и ptcp не исправлены! аааааа\n"
   ]
  },
  {
   "cell_type": "code",
   "execution_count": 16,
   "metadata": {},
   "outputs": [
    {
     "name": "stdout",
     "output_type": "stream",
     "text": [
      "20\n",
      "22\n",
      "['(dU)LE-loc-n',\n",
      " '(dU)LE-loc-v',\n",
      " 'DE-purp.cvb-v',\n",
      " 'DU-dat-n',\n",
      " 'R-neg.cvb-v',\n",
      " 'REk-cond.cvb-v',\n",
      " 'RI-impf.ptc-v',\n",
      " 'RIdʒI-ant.cvb-v',\n",
      " 'mI-cond.cvb-v',\n",
      " 'nIkEn-sim.cvb-v',\n",
      " 'skI-advb.all-rel.n',\n",
      " 't(E)kI-all-n',\n",
      " 't(E)kI-all-pron',\n",
      " 'čE-pf.ptc-v']\n"
     ]
    }
   ],
   "source": [
    "# здесь достаются морфемы с которыми работаем\n",
    "n = ['ptc', 'cvb', 'loc', 'dat', 'all']\n",
    "n_0 = [x for x in list(a[0]['morpheme']) if any([y in x for y in n])]\n",
    "n_1 = [x for x in list(a[1]['morpheme']) if any([y in x for y in n])]\n",
    "print(len(n_0))\n",
    "print(len(n_1))\n",
    "needed = sorted(list(set(n_0)&set(n_1)))\n",
    "pprint(needed)"
   ]
  },
  {
   "cell_type": "code",
   "execution_count": 26,
   "metadata": {},
   "outputs": [],
   "source": [
    "k_speakers = list(a[0].columns[3:])\n",
    "s_speakers = list(a[1].columns[4:])\n",
    "all_speakers = k_speakers + s_speakers"
   ]
  },
  {
   "cell_type": "code",
   "execution_count": 27,
   "metadata": {
    "scrolled": false
   },
   "outputs": [],
   "source": [
    "import matplotlib.pyplot as plt\n",
    "import seaborn as sns"
   ]
  },
  {
   "cell_type": "code",
   "execution_count": 29,
   "metadata": {
    "collapsed": true
   },
   "outputs": [],
   "source": [
    "def sort_to_two(A, B):\n",
    "    C = {}\n",
    "    C.update(A)\n",
    "    C.update(B)\n",
    "    res_keys = sorted(C, key=C.get)\n",
    "    res_values = sorted(C.values())\n",
    "    res_A = [res_values[i] if res_keys[i] in A else 0 for i in range(len(res_values))]\n",
    "    res_B = [res_values[i] if res_keys[i] in B else 0 for i in range(len(res_values))]\n",
    "    i = delete_zeros(res_A, res_B)\n",
    "    return res_A[i:], res_B[i:], res_keys[i:]\n",
    "    \n",
    "\n",
    "def delete_zeros(res_A, res_B):\n",
    "    i = 0\n",
    "    while res_A[i] == 0 and res_B[i] == 0:\n",
    "        i+= 1\n",
    "#         print(i)\n",
    "    return i\n",
    "\n",
    "def make_dict(row, speakers):\n",
    "    '''делает словарь спикер: частотность'''\n",
    "    res = {}\n",
    "    for sp in speakers:\n",
    "        try:\n",
    "            res[sp] = row[sp].iloc[0]\n",
    "        except:\n",
    "            print(row)\n",
    "            print(speakers)\n",
    "            raise Exception\n",
    "#             res[sp] = 0\n",
    "    return res\n",
    "\n",
    "\n",
    "def calc_dp(k_count, s_count):\n",
    "    '''считает дипи для двух корпусов как двух коробок'''\n",
    "    total = k_count + s_count\n",
    "    exp = np.array([33112/(49800+33112), 49800/(49800+33112)])\n",
    "    obs = np.array(k_count/total, s_count/total)\n",
    "    res = np.sum(np.abs(exp-obs))/2\n",
    "    return res\n",
    "\n",
    "from scipy.stats import beta\n",
    "\n",
    "def binom_interval(success, total, confint=0.95):\n",
    "    quantile = (1 - confint) / 2.\n",
    "    lower = beta.ppf(quantile, success, total - success + 1)\n",
    "    upper = beta.ppf(1 - quantile, success + 1, total - success)\n",
    "    return (lower, upper)"
   ]
  },
  {
   "cell_type": "markdown",
   "metadata": {},
   "source": [
    "Для конфинта нужны\n",
    "\n",
    "- сырые частотности по спикерам (не делённые!)\n",
    "- количество слов по спикерам\n",
    "\n",
    "их надо подготовить (в след. ячейке)\n",
    "\n",
    "считается proportion_confint(raw_count, raw_speaker)"
   ]
  },
  {
   "cell_type": "code",
   "execution_count": 5,
   "metadata": {
    "collapsed": true
   },
   "outputs": [],
   "source": [
    "corpora = ['Kamchatka', 'Sebjan']\n",
    "morphemes_cl = []\n",
    "for corp in corpora:\n",
    "    with open('../{}_wds_by_mor.pickle'.format(corp), 'rb') as f:\n",
    "        mor = Morphemes(pickle.load(f), corp)\n",
    "    morphemes_cl.append(mor)\n",
    "    \n",
    "raw_m_k = morphemes_cl[0].raw_morpheme_by_speaker_count()\n",
    "raw_m_s = morphemes_cl[1].raw_morpheme_by_speaker_count()\n",
    "k_raw_speakers = morphemes_cl[0].raw_speaker_count()\n",
    "s_raw_speakers = morphemes_cl[1].raw_speaker_count()"
   ]
  },
  {
   "cell_type": "markdown",
   "metadata": {},
   "source": [
    "Собственно конфинты"
   ]
  },
  {
   "cell_type": "code",
   "execution_count": 6,
   "metadata": {
    "collapsed": true
   },
   "outputs": [],
   "source": [
    "def yerrs(morpheme, res_x):\n",
    "    k_m_by_s = raw_m_k[morpheme]\n",
    "    s_m_by_s = raw_m_s[morpheme]\n",
    "    k_yerr = get_yerr(res_x, k_m_by_s, k_raw_speakers)\n",
    "    s_yerr = get_yerr(res_x, s_m_by_s, s_raw_speakers)\n",
    "    print(res_x)\n",
    "    pprint(len(s_yerr))\n",
    "    for x, y in zip(res_x, k_yerr):\n",
    "        print(x, y)\n",
    "    k_yerr = [[x[0] for x in k_yerr], [x[1] for x in k_yerr]]\n",
    "    s_yerr = [[x[0] for x in s_yerr], [x[1] for x in s_yerr]]\n",
    "    return k_yerr, s_yerr\n",
    "    \n",
    "\n",
    "def get_yerr(order, m_by_s, raw_speakers):\n",
    "    yerr = []\n",
    "    for sp in order:\n",
    "        if sp == \"AAS_k\":\n",
    "            sp = \"AAS\"\n",
    "        if sp in m_by_s:\n",
    "#             if 'AMG' in raw_speakers and sp == 'AAS':\n",
    "#                 print('found')\n",
    "#                 sp = \"AAS\"\n",
    "#                 print(sp)\n",
    "            raw_count = m_by_s[sp]\n",
    "            raw_sp = raw_speakers[sp]\n",
    "            ci = binom_interval(raw_count, raw_sp)\n",
    "            print(sp, ci)\n",
    "            yerr.append(ci)\n",
    "        else:\n",
    "            yerr.append((0, 0))\n",
    "    return yerr"
   ]
  },
  {
   "cell_type": "markdown",
   "metadata": {},
   "source": [
    "Здесь кусок кода который делает графики"
   ]
  },
  {
   "cell_type": "code",
   "execution_count": 50,
   "metadata": {},
   "outputs": [
    {
     "name": "stdout",
     "output_type": "stream",
     "text": [
      "0.969096207188\n",
      "0.969096207188\n",
      "1.91424273403\n",
      "1.53678601128\n",
      "1.99948691116\n",
      "1.53678601128\n",
      "0.859955627202\n"
     ]
    },
    {
     "data": {
      "image/png": "[encoded data removed]",
      "text/plain": [
       "<matplotlib.figure.Figure at 0x1a1166b908>"
      ]
     },
     "metadata": {},
     "output_type": "display_data"
    }
   ],
   "source": [
    "for mor in needed:\n",
    "#     row_k = a[0].loc[a[0]['morpheme']==mor]\n",
    "#     k = make_dict(row_k, k_speakers)\n",
    "#     row_s = a[1].loc[a[1]['morpheme']==mor]\n",
    "#     s = make_dict(row_s, s_speakers)\n",
    "#     print(sum(k.values()))\n",
    "#     dp = calc_dp(row_k['count'].iloc[0], row_s['count'].iloc[0])\n",
    "    k_obs = np.array([kam.mbs[mor][sp] if sp in kam.mbs[mor] else 0 for sp in k_speakers])*k_part\n",
    "    s_obs = np.array([seb.mbs[mor][sp] if sp in seb.mbs[mor] else 0 for sp in s_speakers])*s_part\n",
    "    deltas = np.array([*k_exp, *s_exp])-np.array([*k_obs, *s_obs])\n",
    "    print(np.sum(np.abs(deltas))/2)\n",
    "    # now sort\n",
    "    res_k, res_s, res_x = sort_to_two(kam.mbs[mor], seb.mbs[mor])\n",
    "    fig, ax = plt.subplots(figsize=(25, 10))\n",
    "    x = np.arange(len(res_x))\n",
    "#     yerr = yerrs(mor, res_x)\n",
    "    plt.xticks(rotation=70)\n",
    "    ax.bar(x, res_k, color=\"red\")#, yerr=yerr[0])\n",
    "    ax.bar(x, res_s, color=\"cyan\")#, yerr=yerr[1])\n",
    "    plt.xticks(x, res_x)\n",
    "    dp_k = row_k['dp'].iloc[0]\n",
    "    dp_s = row_s['dp'].iloc[0]\n",
    "    diff = dp - min(dp_k, dp_s)\n",
    "    plt.title(\"{}\".format(mor))\n",
    "    plt.text(0, max(*res_k, *res_s)/2, \"DP:{}, \\ndiff: {}, \\nDP K: {}, \\nDP S: {}\".format(dp, diff, dp_k, dp_s))\n",
    "    plt.legend(['Kamchatka', 'Sebjan'])\n",
    "    if not os.path.exists(\"pics\"):\n",
    "        os.mkdir('pics')\n",
    "#     fig.savefig('pics/{}{}.png'.format(diff, mor))\n",
    "    plt.show()\n",
    "    break\n"
   ]
  },
  {
   "cell_type": "code",
   "execution_count": 55,
   "metadata": {},
   "outputs": [
    {
     "data": {
      "text/plain": [
       "0.9690962071879287"
      ]
     },
     "execution_count": 55,
     "metadata": {},
     "output_type": "execute_result"
    }
   ],
   "source": [
    "np.sum(row_k[row_k.columns[3:]].iloc[0])"
   ]
  },
  {
   "cell_type": "code",
   "execution_count": 24,
   "metadata": {},
   "outputs": [
    {
     "data": {
      "text/html": [
       "<div>\n",
       "<style>\n",
       "    .dataframe thead tr:only-child th {\n",
       "        text-align: right;\n",
       "    }\n",
       "\n",
       "    .dataframe thead th {\n",
       "        text-align: left;\n",
       "    }\n",
       "\n",
       "    .dataframe tbody tr th {\n",
       "        vertical-align: top;\n",
       "    }\n",
       "</style>\n",
       "<table border=\"1\" class=\"dataframe\">\n",
       "  <thead>\n",
       "    <tr style=\"text-align: right;\">\n",
       "      <th></th>\n",
       "      <th>morpheme</th>\n",
       "      <th>count</th>\n",
       "      <th>dp</th>\n",
       "      <th>AEI</th>\n",
       "      <th>AFI</th>\n",
       "      <th>AGK</th>\n",
       "      <th>AL</th>\n",
       "      <th>AMG</th>\n",
       "      <th>AS</th>\n",
       "      <th>ASA</th>\n",
       "      <th>...</th>\n",
       "      <th>NIG</th>\n",
       "      <th>NMK</th>\n",
       "      <th>ONI</th>\n",
       "      <th>PMB</th>\n",
       "      <th>RME</th>\n",
       "      <th>RMS</th>\n",
       "      <th>TEB</th>\n",
       "      <th>VIA</th>\n",
       "      <th>rh</th>\n",
       "      <th>AAS_k</th>\n",
       "    </tr>\n",
       "  </thead>\n",
       "  <tbody>\n",
       "    <tr>\n",
       "      <th>10</th>\n",
       "      <td>(dU)LE-loc-n</td>\n",
       "      <td>1044</td>\n",
       "      <td>0.095194</td>\n",
       "      <td>0.022712</td>\n",
       "      <td>0.061947</td>\n",
       "      <td>0.031746</td>\n",
       "      <td>0</td>\n",
       "      <td>0.0125</td>\n",
       "      <td>0.032334</td>\n",
       "      <td>0.014563</td>\n",
       "      <td>...</td>\n",
       "      <td>0.027682</td>\n",
       "      <td>0.036508</td>\n",
       "      <td>0.073099</td>\n",
       "      <td>0.041359</td>\n",
       "      <td>0.02976</td>\n",
       "      <td>0.034907</td>\n",
       "      <td>0.044601</td>\n",
       "      <td>0.028743</td>\n",
       "      <td>0.0</td>\n",
       "      <td>0.032023</td>\n",
       "    </tr>\n",
       "  </tbody>\n",
       "</table>\n",
       "<p>1 rows × 34 columns</p>\n",
       "</div>"
      ],
      "text/plain": [
       "        morpheme  count        dp       AEI       AFI       AGK  AL     AMG  \\\n",
       "10  (dU)LE-loc-n   1044  0.095194  0.022712  0.061947  0.031746   0  0.0125   \n",
       "\n",
       "          AS       ASA    ...          NIG       NMK       ONI       PMB  \\\n",
       "10  0.032334  0.014563    ...     0.027682  0.036508  0.073099  0.041359   \n",
       "\n",
       "        RME       RMS       TEB       VIA   rh     AAS_k  \n",
       "10  0.02976  0.034907  0.044601  0.028743  0.0  0.032023  \n",
       "\n",
       "[1 rows x 34 columns]"
      ]
     },
     "execution_count": 24,
     "metadata": {},
     "output_type": "execute_result"
    }
   ],
   "source": [
    "# k_raw_speakers\n",
    "\n",
    "# print(raw_m_k['(dU)LE-loc-n'])\n",
    "# print(raw_m_s['(dU)LE-loc-n'])\n",
    "\n",
    "# morphemes_cl[0].raw_morpheme_by_speaker_count()\n",
    "\n",
    "a[0].loc[a[0]['morpheme']==mor]\n",
    "\n",
    "from statsmodels.stats.proportion import proportion_confint\n",
    "\n",
    "from scipy import nan\n",
    "\n",
    "\"AMG\" in s_raw_speakers\n",
    "\n",
    "# raw_m_k[\"(dU)LE-loc-n\"]"
   ]
  },
  {
   "cell_type": "markdown",
   "metadata": {},
   "source": [
    "А теперь мне нужно сделать табличку с десятью самыми частотными морфемами и DP для них.\n",
    "\n",
    "- найти 10 самых частотных +\n",
    "- дропать эпентезы +\n",
    "- написать фц для подсчёта DP по-Даниэлевски\n",
    "- сделать табличку"
   ]
  },
  {
   "cell_type": "code",
   "execution_count": 66,
   "metadata": {},
   "outputs": [
    {
     "data": {
      "text/plain": [
       "[('-R(E)', '-nonfut', 'v'),\n",
       " ('-RI', '-pst', 'v'),\n",
       " ('-WEːČ', '-gnr', 'v'),\n",
       " ('-W', '-acc', 'n'),\n",
       " ('-n(I)', '-3sg', 'v'),\n",
       " ('-D', '-prog', 'v'),\n",
       " ('-n(I)', '-poss.3sg', 'v'),\n",
       " ('-(dU)LE', '-loc', 'n'),\n",
       " ('-m', '-1sg', 'v'),\n",
       " ('-n(I)', '-poss.3sg', 'n'),\n",
       " ('-L', '-pl', 'n')]"
      ]
     },
     "execution_count": 66,
     "metadata": {},
     "output_type": "execute_result"
    }
   ],
   "source": [
    "corp = 'Kamchatka'\n",
    "with open('../{}_wds_by_mor.pickle'.format(corp), 'rb') as f:\n",
    "    kam = Morphemes(pickle.load(f), corp)\n",
    "corp = \"Sebjan\"\n",
    "with open('../{}_wds_by_mor.pickle'.format(corp), 'rb') as f:\n",
    "    seb = Morphemes(pickle.load(f), corp)\n",
    "\n",
    "sorted(kam.morphemes, key=kam.morphemes.get, reverse=True)[:11]"
   ]
  },
  {
   "cell_type": "markdown",
   "metadata": {},
   "source": [
    "нам нужно\n",
    "- ожидаемое значение (self.speaker_count\\*totals/сумму)\n",
    "- наблюдаемое значение (self.morpheme_by_speaker_count\\*то же)\n",
    "\n",
    "вот и всё"
   ]
  },
  {
   "cell_type": "code",
   "execution_count": 81,
   "metadata": {},
   "outputs": [
    {
     "name": "stdout",
     "output_type": "stream",
     "text": [
      "0.0937218307064\n",
      "0.47713598395\n",
      "0.20117597537\n",
      "0.187034335217\n",
      "0.148158013208\n",
      "0.199633969169\n",
      "0.221812154534\n",
      "0.223476913615\n",
      "0.231593794073\n",
      "0.26031942946\n",
      "0.457502013296\n",
      "0.355641007118\n",
      "0.309329461255\n",
      "0.28635217328\n"
     ]
    }
   ],
   "source": [
    "k_part = 33112/(49800+33112)\n",
    "s_part = 49800/(49800+33112)\n",
    "k_speakers = kam.speakers.keys()\n",
    "s_speakers = seb.speakers.keys()\n",
    "k_exp = np.array([kam.speakers[x] for x in k_speakers])*k_part\n",
    "s_exp = np.array([seb.speakers[x] for x in s_speakers])*s_part\n",
    "\n",
    "for mor in needed:\n",
    "    k_obs = np.array([kam.mbs[mor][sp] if sp in kam.mbs[mor] else 0 for sp in k_speakers])*k_part\n",
    "    s_obs = np.array([seb.mbs[mor][sp] if sp in seb.mbs[mor] else 0 for sp in s_speakers])*s_part\n",
    "    print(np.sum(np.abs(np.array([*k_exp, *s_exp])-np.array([*k_obs, *s_obs])))/2)"
   ]
  },
  {
   "cell_type": "code",
   "execution_count": 82,
   "metadata": {},
   "outputs": [
    {
     "data": {
      "text/plain": [
       "'(dU)LE-loc-n'"
      ]
     },
     "execution_count": 82,
     "metadata": {},
     "output_type": "execute_result"
    }
   ],
   "source": [
    "needed[0]"
   ]
  },
  {
   "cell_type": "code",
   "execution_count": null,
   "metadata": {
    "collapsed": true
   },
   "outputs": [],
   "source": [
    "plt.bar(kam, c=\"red\", xticks=)\n",
    "plt.bar(seb, c=\"blue\")"
   ]
  }
 ],
 "metadata": {
  "kernelspec": {
   "display_name": "Python 3",
   "language": "python",
   "name": "python3"
  },
  "language_info": {
   "codemirror_mode": {
    "name": "ipython",
    "version": 3
   },
   "file_extension": ".py",
   "mimetype": "text/x-python",
   "name": "python",
   "nbconvert_exporter": "python",
   "pygments_lexer": "ipython3",
   "version": "3.6.3"
  }
 },
 "nbformat": 4,
 "nbformat_minor": 2
}
