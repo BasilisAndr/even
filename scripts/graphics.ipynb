{
 "cells": [
  {
   "cell_type": "code",
   "execution_count": 87,
   "metadata": {},
   "outputs": [
    {
     "name": "stdout",
     "output_type": "stream",
     "text": [
      "Kamchatka done\n",
      "Sebjan done\n",
      "all done\n"
     ]
    }
   ],
   "source": [
    "import re\n",
    "import pickle\n",
    "from pprint import pprint\n",
    "from collections import Counter\n",
    "import os\n",
    "import numpy as np\n",
    "import pandas as pd\n",
    "\n",
    "\n",
    "class MorphemeError(Exception):\n",
    "    '''raised if morpheme is empty'''\n",
    "    def __init__(self, message='Length of lists not equal'):\n",
    "        super(MorphemeError, self).__init__()\n",
    "        self.message = message\n",
    "    def __str__(self):\n",
    "        return repr(self.message)\n",
    "\n",
    "\n",
    "class Morphemes():\n",
    "\n",
    "\n",
    "    def __init__(self, content, corpus):\n",
    "        self.content = content\n",
    "        self.corpus = corpus\n",
    "        self.morphemes = self.morpheme_count()\n",
    "        if '0' in self.morphemes or 0 in self.morphemes:\n",
    "            raise MorphemeError('0 morphemes in morpheme_count')\n",
    "        self.raw_speakers = self.raw_speaker_count()\n",
    "        self.speakers = self.speaker_count()\n",
    "\n",
    "\n",
    "    def morpheme_count(self):\n",
    "        '''returns dict with overall count for morphemes (ignoring speakers)'''\n",
    "        items = [x[:3] for x in self.content if x[0][0] in '-=']\n",
    "        return Counter(items)\n",
    "\n",
    "    \n",
    "    def morpheme_by_speaker_count(self):\n",
    "        '''generates dict morheme: Counter(by speaker)'''\n",
    "        for morpheme in self.morphemes:\n",
    "            count = Counter([x[-1] for x in self.content if x[:3]==morpheme])\n",
    "            res = {x: count[x]/self.morphemes[morpheme] for x in count}\n",
    "            yield (morpheme, res)\n",
    "\n",
    "    def speaker_by_morpheme_count(self):\n",
    "        '''generates dict morpheme: Counter(by speaker)'''\n",
    "        alll = {}\n",
    "        for morpheme in self.morphemes:\n",
    "            count = Counter([x[-1] for x in self.content if x[:3]==morpheme])\n",
    "            res = {x: count[x]/self.raw_speakers[x] for x in count}\n",
    "            alll[morpheme] = res\n",
    "        return alll\n",
    "\n",
    "\n",
    "    def calculate_dp(self):\n",
    "        '''well, calculates dp for all morphemes'''\n",
    "        res = {'morpheme': [], 'count': [], 'dp': []}\n",
    "        for sp in self.speakers:\n",
    "            res[sp] = []\n",
    "        sp_by_mor = self.speaker_by_morpheme_count()\n",
    "        for mor, counts in self.morpheme_by_speaker_count():\n",
    "            sp_count = sp_by_mor[mor]\n",
    "            res['morpheme'].append('-'.join(list(map(lambda x: x.strip('-='), mor))))\n",
    "            res['count'].append(self.morphemes[mor])\n",
    "            res['dp'].append(dp(self.speakers, counts))\n",
    "            if not sum(counts.values()) > 0.999:\n",
    "                print(mor)\n",
    "                print(self.morphemes[mor])\n",
    "                pprint(counts)\n",
    "                print(sum(counts.values()))\n",
    "                raise MorphemeError('just stopping')\n",
    "            for sp in self.speakers:\n",
    "                if sp in sp_count:\n",
    "                    res[sp].append(sp_count[sp])\n",
    "                else:\n",
    "                    res[sp].append(0)\n",
    "        return res\n",
    "\n",
    "\n",
    "    def raw_speaker_count(self):\n",
    "        '''returns dict with the number of words every speaker said in a corpus'''\n",
    "        items = [x[-1] for x in self.content if x[0]=='END']\n",
    "        return Counter(items)\n",
    "\n",
    "\n",
    "    def speaker_count(self, totals = {'Kamchatka': 33112, 'Sebjan': 49800}):\n",
    "        '''returns dict with proportions of every speaker in a corpus'''\n",
    "        res = {x: self.raw_speakers[x]/totals[self.corpus] for x in self.raw_speakers}\n",
    "        # pprint(res)\n",
    "        # print(sum(res.values()))\n",
    "        return res\n",
    "\n",
    "\n",
    "def dp(expected, observed):\n",
    "    # step = {sp: expected[sp]-observed[sp] if sp in observed else expected[sp] for sp in expected}\n",
    "    deltas = []\n",
    "    for sp in expected:\n",
    "        if sp in observed:\n",
    "            delta = np.abs(expected[sp]-observed[sp])\n",
    "        else:\n",
    "            delta = 0\n",
    "        deltas.append(delta)\n",
    "    dp = sum(deltas) / 2\n",
    "    return dp\n",
    "\n",
    "\n",
    "\n",
    "def main():\n",
    "    corpora = ['Kamchatka', 'Sebjan']\n",
    "    corp_pd = []\n",
    "    for corp in corpora:\n",
    "        with open('../{}_wds_by_mor.pickle'.format(corp), 'rb') as f:\n",
    "            mor = Morphemes(pickle.load(f), corp)\n",
    "        res = mor.calculate_dp()\n",
    "        columns = ['morpheme', 'count', 'dp'] + sorted(list(mor.speakers.keys()))\n",
    "        a = pd.DataFrame(res).loc[pd.DataFrame(res)['count']>15].sort_values('dp', ascending=False)[columns] #.to_excel('{}_dp_new.xlsx'.format(corp))\n",
    "        corp_pd.append(a)\n",
    "        print('{} done'.format(corp))\n",
    "    print('all done')\n",
    "    return corp_pd\n",
    "\n",
    "\n",
    "if __name__ == '__main__':\n",
    "    # unittest.main()\n",
    "    a = main()\n",
    "\n"
   ]
  },
  {
   "cell_type": "code",
   "execution_count": 100,
   "metadata": {},
   "outputs": [],
   "source": [
    "a[0]['AAS_k'] = a[0][\"AAS\"]\n",
    "del a[0][\"AAS\"]"
   ]
  },
  {
   "cell_type": "markdown",
   "metadata": {},
   "source": [
    "Надо понять что мне нужно\n",
    "\n",
    "мне нужен\n",
    "\n",
    "- список всех спикеров +\n",
    "- список нужных морфем\n",
    "\n",
    "надо почистить спикеров по тому, что говорила Бригитта\n",
    "\n",
    "ptc и ptcp не исправлены! аааааа\n"
   ]
  },
  {
   "cell_type": "code",
   "execution_count": 96,
   "metadata": {},
   "outputs": [
    {
     "name": "stdout",
     "output_type": "stream",
     "text": [
      "20\n",
      "22\n",
      "['(dU)LE-loc-n',\n",
      " '(dU)LE-loc-v',\n",
      " 'DE-purp.cvb-v',\n",
      " 'DU-dat-n',\n",
      " 'R-neg.cvb-v',\n",
      " 'REk-cond.cvb-v',\n",
      " 'RI-impf.ptc-v',\n",
      " 'RIdʒI-ant.cvb-v',\n",
      " 'mI-cond.cvb-v',\n",
      " 'nIkEn-sim.cvb-v',\n",
      " 'skI-advb.all-rel.n',\n",
      " 't(E)kI-all-n',\n",
      " 't(E)kI-all-pron',\n",
      " 'čE-pf.ptc-v']\n"
     ]
    }
   ],
   "source": [
    "n = ['ptc', 'cvb', 'loc', 'dat', 'all']\n",
    "n_0 = [x for x in list(a[0]['morpheme']) if any([y in x for y in n])]\n",
    "n_1 = [x for x in list(a[1]['morpheme']) if any([y in x for y in n])]\n",
    "print(len(n_0))\n",
    "print(len(n_1))\n",
    "needed = sorted(list(set(n_0)&set(n_1)))\n",
    "pprint(needed)"
   ]
  },
  {
   "cell_type": "code",
   "execution_count": 113,
   "metadata": {},
   "outputs": [
    {
     "data": {
      "text/plain": [
       "['AEI',\n",
       " 'AFI',\n",
       " 'AGK',\n",
       " 'AL',\n",
       " 'AMG',\n",
       " 'AS',\n",
       " 'ASA',\n",
       " 'BP',\n",
       " 'DBA',\n",
       " 'EGA',\n",
       " 'EIA',\n",
       " 'EPA',\n",
       " 'GAS',\n",
       " 'GIK',\n",
       " 'INB',\n",
       " 'JET',\n",
       " 'JIP',\n",
       " 'LGT',\n",
       " 'NA',\n",
       " 'NAT',\n",
       " 'NFI',\n",
       " 'NIG',\n",
       " 'NMK',\n",
       " 'ONI',\n",
       " 'PMB',\n",
       " 'RME',\n",
       " 'RMS',\n",
       " 'TEB',\n",
       " 'VIA',\n",
       " 'rh',\n",
       " 'AAS_k']"
      ]
     },
     "execution_count": 113,
     "metadata": {},
     "output_type": "execute_result"
    }
   ],
   "source": [
    "k_speakers = list(a[0].columns[3:])\n",
    "k_speakers"
   ]
  },
  {
   "cell_type": "code",
   "execution_count": 117,
   "metadata": {},
   "outputs": [],
   "source": [
    "s_speakers = list(a[1].columns[4:])\n",
    "all_speakers = k_speakers + s_speakers"
   ]
  },
  {
   "cell_type": "code",
   "execution_count": null,
   "metadata": {
    "collapsed": true
   },
   "outputs": [],
   "source": [
    "needed = [\"(dU)LE-loc-n\", \"DUk(U)-abl-n\", \"RIdʒI-ant.cvb-v\", \"nIkEn-sim.cvb-v\", \"DEŋ-pst.ptc-v\", \"REk-cond.cvb-v\", \\\n",
    "          \"RI-impf.ptc-v\", \"DU-dat-n\", \"mI-cond.cvb-v\", \"Ar-prs.ptcp.Y-v\", ]"
   ]
  },
  {
   "cell_type": "code",
   "execution_count": 14,
   "metadata": {
    "scrolled": false
   },
   "outputs": [
    {
     "name": "stderr",
     "output_type": "stream",
     "text": [
      "/anaconda3/lib/python3.6/site-packages/matplotlib/font_manager.py:279: UserWarning: Matplotlib is building the font cache using fc-list. This may take a moment.\n",
      "  'Matplotlib is building the font cache using fc-list. '\n"
     ]
    }
   ],
   "source": [
    "import matplotlib.pyplot as plt"
   ]
  },
  {
   "cell_type": "code",
   "execution_count": 104,
   "metadata": {},
   "outputs": [
    {
     "data": {
      "text/html": [
       "<div>\n",
       "<style>\n",
       "    .dataframe thead tr:only-child th {\n",
       "        text-align: right;\n",
       "    }\n",
       "\n",
       "    .dataframe thead th {\n",
       "        text-align: left;\n",
       "    }\n",
       "\n",
       "    .dataframe tbody tr th {\n",
       "        vertical-align: top;\n",
       "    }\n",
       "</style>\n",
       "<table border=\"1\" class=\"dataframe\">\n",
       "  <thead>\n",
       "    <tr style=\"text-align: right;\">\n",
       "      <th></th>\n",
       "      <th>morpheme</th>\n",
       "      <th>count</th>\n",
       "      <th>dp</th>\n",
       "      <th>AEI</th>\n",
       "      <th>AFI</th>\n",
       "      <th>AGK</th>\n",
       "      <th>AL</th>\n",
       "      <th>AMG</th>\n",
       "      <th>AS</th>\n",
       "      <th>ASA</th>\n",
       "      <th>...</th>\n",
       "      <th>NIG</th>\n",
       "      <th>NMK</th>\n",
       "      <th>ONI</th>\n",
       "      <th>PMB</th>\n",
       "      <th>RME</th>\n",
       "      <th>RMS</th>\n",
       "      <th>TEB</th>\n",
       "      <th>VIA</th>\n",
       "      <th>rh</th>\n",
       "      <th>AAS_k</th>\n",
       "    </tr>\n",
       "  </thead>\n",
       "  <tbody>\n",
       "    <tr>\n",
       "      <th>55</th>\n",
       "      <td>čE-pf.ptc-v</td>\n",
       "      <td>214</td>\n",
       "      <td>0.185538</td>\n",
       "      <td>0.008016</td>\n",
       "      <td>0.0</td>\n",
       "      <td>0.031746</td>\n",
       "      <td>0</td>\n",
       "      <td>0.0</td>\n",
       "      <td>0.005521</td>\n",
       "      <td>0.01699</td>\n",
       "      <td>...</td>\n",
       "      <td>0.006536</td>\n",
       "      <td>0.003175</td>\n",
       "      <td>0.020468</td>\n",
       "      <td>0.014771</td>\n",
       "      <td>0.004548</td>\n",
       "      <td>0.009341</td>\n",
       "      <td>0.0</td>\n",
       "      <td>0.006587</td>\n",
       "      <td>0.0</td>\n",
       "      <td>0.004367</td>\n",
       "    </tr>\n",
       "  </tbody>\n",
       "</table>\n",
       "<p>1 rows × 34 columns</p>\n",
       "</div>"
      ],
      "text/plain": [
       "       morpheme  count        dp       AEI  AFI       AGK  AL  AMG        AS  \\\n",
       "55  čE-pf.ptc-v    214  0.185538  0.008016  0.0  0.031746   0  0.0  0.005521   \n",
       "\n",
       "        ASA    ...          NIG       NMK       ONI       PMB       RME  \\\n",
       "55  0.01699    ...     0.006536  0.003175  0.020468  0.014771  0.004548   \n",
       "\n",
       "         RMS  TEB       VIA   rh     AAS_k  \n",
       "55  0.009341  0.0  0.006587  0.0  0.004367  \n",
       "\n",
       "[1 rows x 34 columns]"
      ]
     },
     "execution_count": 104,
     "metadata": {},
     "output_type": "execute_result"
    }
   ],
   "source": [
    "row_k"
   ]
  },
  {
   "cell_type": "code",
   "execution_count": null,
   "metadata": {
    "collapsed": true
   },
   "outputs": [],
   "source": [
    "sort_to_two()"
   ]
  },
  {
   "cell_type": "code",
   "execution_count": 124,
   "metadata": {},
   "outputs": [],
   "source": [
    "def sort_to_two(A, B):\n",
    "    C = {}\n",
    "    C.update(A)\n",
    "    C.update(B)\n",
    "    res_keys = sorted(C, key=C.get)\n",
    "    res_values = sorted(C.values())\n",
    "    res_A = [res_values[i] if res_keys[i] in A else 0 for i in range(len(res_values))]\n",
    "    res_B = [res_values[i] if res_keys[i] in B else 0 for i in range(len(res_values))]\n",
    "    return res_A, res_B, res_keys\n",
    "    "
   ]
  },
  {
   "cell_type": "code",
   "execution_count": 125,
   "metadata": {
    "collapsed": true
   },
   "outputs": [],
   "source": [
    "def make_dict(row, speakers):\n",
    "    res = {}\n",
    "    for sp in speakers:\n",
    "        try:\n",
    "            res[sp] = row[sp].iloc[0]\n",
    "        except:\n",
    "            print(row)\n",
    "            print(speakers)\n",
    "            raise Exception\n",
    "#             res[sp] = 0\n",
    "    return res"
   ]
  },
  {
   "cell_type": "code",
   "execution_count": 149,
   "metadata": {},
   "outputs": [
    {
     "name": "stdout",
     "output_type": "stream",
     "text": [
      "[0, 0.0, 0, 0, 0, 0, 0, 0, 0, 0, 0, 0.012500000000000001, 0.014285714285714285, 0.014563106796116505, 0.015151515151515152, 0, 0, 0.022712090848363394, 0.022727272727272728, 0, 0.023328149300155521, 0.023904382470119521, 0, 0, 0.026666666666666668, 0, 0.02768166089965398, 0.02874251497005988, 0, 0.029315960912052116, 0.029759584145549058, 0, 0, 0, 0.031746031746031744, 0.032023289665211063, 0.032334384858044164, 0.032751091703056769, 0.032851511169513799, 0, 0, 0.034906588003933134, 0, 0, 0.03650793650793651, 0, 0, 0, 0, 0.039215686274509803, 0, 0, 0, 0, 0.041358936484490398, 0.04189944134078212, 0.042016806722689079, 0, 0, 0, 0, 0.044037412314886983, 0.044600938967136149, 0, 0, 0, 0, 0, 0, 0, 0, 0.061946902654867256, 0, 0, 0, 0.073099415204678359, 0, 0.11940298507462686, 0]\n",
      "[0.0, 0.0, 0.0, 0, 0.0, 0.0, 0.0, 0.0, 0.0, 0.0, 0.0, 0.0, 0.0, 0.0, 0.0, 0.0, 0.0, 0.0, 0.0, 0.0, 0.0, 0.0, 0, 0, 0, 0, 0, 0, 0, 0, 0, 0, 0, 0, 0, 0, 0, 0, 0, 0, 0, 0, 0, 0, 0.00038986354775828459, 0, 0, 0, 0.0011976047904191617, 0, 0.001455604075691412, 0, 0, 0, 0, 0.0019920318725099601, 0, 0, 0, 0.0023382696804364772, 0.0023474178403755869, 0, 0.0023659305993690852, 0, 0, 0, 0, 0, 0, 0, 0, 0, 0, 0, 0, 0.008771929824561403, 0.0088888888888888889, 0, 0]\n",
      "[0.0, 0, 0.0, 0.0, 0.0, 0.0, 0, 0, 0, 0, 0, 0, 0, 0, 0, 0, 0, 0, 0, 0, 0, 0, 0, 0, 0.002004008016032064, 0, 0, 0, 0, 0.0032573289902280132, 0, 0, 0, 0, 0.0047619047619047623, 0, 0, 0.0050662509742790338, 0, 0, 0.0052910052910052907, 0, 0, 0, 0.0072780203784570596, 0.0072815533980582527, 0, 0, 0, 0, 0, 0, 0, 0, 0, 0, 0.010330578512396695, 0.010816125860373648, 0, 0, 0, 0, 0.012618296529968454, 0.013071895424836602, 0.013173652694610778, 0.013515269655620533, 0.014454664914586071, 0.014619883040935672, 0.014867485455720749, 0.015283842794759825, 0.015476190476190477, 0.017108804306036139, 0.017777777777777778, 0.017928286852589643, 0, 0.019202363367799114, 0.019440124416796267, 0.020202020202020204, 0.025000000000000001]\n",
      "[0.0, 0, 0.0, 0.0, 0.0, 0, 0, 0, 0, 0, 0, 0, 0, 0, 0, 0, 0, 0, 0.0047619047619047623, 0, 0.0079681274900398405, 0.0086505190311418692, 0, 0, 0.01098901098901099, 0, 0, 0.012135922330097087, 0, 0.014554905782975958, 0, 0.015364061456245824, 0.015476190476190477, 0, 0, 0, 0.016339869281045753, 0, 0, 0.017725258493353029, 0.017777777777777778, 0.018706157443491817, 0.018922852983988356, 0.019710906701708279, 0, 0, 0, 0, 0.021834061135371178, 0, 0, 0, 0.022727272727272728, 0.022801302931596091, 0, 0.024090462143559487, 0, 0.025139664804469275, 0.026946107784431138, 0, 0.029179810725552049, 0.029548989113530325, 0, 0, 0, 0, 0, 0, 0, 0, 0.035087719298245612, 0, 0.037558685446009391, 0, 0.042328042328042326, 0.044776119402985072, 0, 0, 0]\n",
      "[0.0, 0, 0.0, 0.0, 0.0, 0.0, 0, 0, 0, 0, 0, 0, 0, 0, 0, 0, 0, 0, 0, 0, 0, 0.0055205047318611991, 0, 0.0058456742010911927, 0.0058479532163742687, 0.0065502183406113534, 0, 0.0070422535211267607, 0.0073048827374086892, 0, 0, 0.0081699346405228763, 0, 0, 0, 0.0089820359281437123, 0, 0, 0, 0, 0.0098328416912487702, 0, 0.010526315789473684, 0.010582010582010581, 0, 0, 0, 0.011664074650077761, 0, 0.012135922330097087, 0, 0.012500000000000001, 0, 0.013100436681222707, 0, 0.014285714285714285, 0, 0.014454664914586071, 0, 0, 0.015476190476190477, 0.015513897866839044, 0, 0, 0, 0.016286644951140065, 0.016528925619834711, 0, 0, 0.019202363367799114, 0, 0, 0, 0.022222222222222223, 0, 0.024048096192384769, 0.027888446215139442, 0, 0]\n",
      "[0.0, 0.0, 0, 0.0, 0.0, 0.0, 0.0, 0.0, 0.0, 0.0, 0, 0, 0, 0, 0, 0, 0, 0, 0, 0, 0, 0, 0, 0, 0, 0.00064641241111829345, 0.0013140604467805519, 0.0023474178403755869, 0, 0.0031104199066874028, 0, 0.0044313146233382573, 0.0044444444444444444, 0, 0.0047619047619047623, 0, 0.0047904191616766467, 0, 0, 0, 0.0057670126874279125, 0.0058456742010911927, 0, 0, 0.0065146579804560263, 0, 0.0067576348278102667, 0, 0, 0, 0.0082644628099173556, 0, 0.0083798882681564244, 0, 0, 0, 0, 0.010101010101010102, 0.010324483775811209, 0, 0, 0, 0, 0, 0, 0, 0, 0.013406940063091483, 0.014556040756914119, 0.014563106796116505, 0.014705882352941176, 0, 0, 0, 0, 0, 0, 0.031746031746031744, 0]\n",
      "[0.0, 0.0, 0, 0.0, 0.0, 0.0, 0.0, 0.0, 0.0, 0.0, 0, 0, 0, 0, 0, 0, 0, 0, 0, 0, 0, 0, 0, 0, 0.0006680026720106881, 0, 0.0012928248222365869, 0.0015552099533437014, 0.0016286644951140066, 0.0019223375624759708, 0, 0.0023474178403755869, 0.0023809523809523812, 0.002911208151382824, 0.0029239766081871343, 0.0029542097488921715, 0.0031545741324921135, 0.0039421813403416554, 0.0041322314049586778, 0, 0.0048083170890188438, 0.0048543689320388345, 0, 0.0054559625876851132, 0.0055865921787709499, 0.0058997050147492625, 0.0065868263473053889, 0, 0, 0, 0, 0, 0, 0, 0, 0, 0, 0, 0, 0, 0, 0, 0.014925373134328358, 0, 0, 0, 0, 0, 0, 0, 0, 0, 0, 0, 0, 0, 0, 0, 0.0625]\n",
      "[0, 0.0, 0.0, 0.0, 0.0, 0, 0, 0, 0, 0, 0, 0, 0, 0, 0, 0, 0.0006680026720106881, 0, 0, 0.0023809523809523812, 0.0024271844660194173, 0.0027932960893854749, 0.0031746031746031746, 0.0036524413687043446, 0.0039840637450199202, 0.0041322314049586778, 0.0044444444444444444, 0, 0.0047904191616766467, 0.0048083170890188438, 0.0051712992889463476, 0.0052910052910052907, 0, 0.0054432348367029551, 0.0059084194977843431, 0.0065502183406113534, 0, 0.0088495575221238937, 0, 0, 0, 0, 0, 0.011400651465798045, 0.011437908496732025, 0, 0, 0, 0, 0, 0, 0.011737089201877934, 0.011799410029498525, 0.011829652996845425, 0, 0, 0, 0, 0, 0, 0, 0, 0.016367887763055339, 0, 0, 0, 0, 0, 0, 0.023391812865497075, 0, 0, 0.025252525252525252, 0, 0, 0.039301310043668124, 0, 0, 0]\n",
      "[0.0, 0, 0.0, 0.0, 0.0, 0.0, 0.0, 0.0, 0.0, 0, 0, 0, 0, 0, 0, 0, 0, 0, 0, 0, 0, 0, 0, 0.0019392372333548805, 0.0019920318725099601, 0, 0, 0.0023474178403755869, 0, 0, 0, 0.003592814371257485, 0, 0.0043668122270742356, 0.0044444444444444444, 0, 0.0047619047619047623, 0, 0, 0, 0.0050662509742790338, 0.0052910052910052907, 0, 0, 0, 0, 0.0058479532163742687, 0, 0.0060120240480961923, 0, 0.0062208398133748056, 0.0063091482649842269, 0.0065359477124183009, 0.0066276803118908382, 0, 0, 0.0076893502499038834, 0.0081433224755700327, 0, 0.0083333333333333332, 0, 0, 0, 0.0103397341211226, 0, 0, 0, 0, 0.012396694214876033, 0, 0, 0, 0, 0.017699115044247787, 0, 0.019417475728155338, 0, 0, 0]\n",
      "[0.0, 0.0, 0.0, 0, 0.0, 0.0, 0.0, 0.0, 0.0, 0.0, 0.0, 0.0, 0.0, 0.0, 0.0, 0.0, 0.0, 0, 0, 0, 0, 0, 0, 0, 0, 0, 0, 0, 0, 0.00064641241111829345, 0.00077972709551656918, 0.0011976047904191617, 0.0017301038062283738, 0.0019665683382497543, 0.0024271844660194173, 0.0031104199066874028, 0.0035074045206547155, 0, 0.0044313146233382573, 0.0048859934853420191, 0.005822416302765648, 0, 0, 0.0070422535211267607, 0.0088888888888888889, 0, 0, 0, 0, 0, 0, 0.013071895424836602, 0, 0, 0, 0, 0, 0, 0, 0, 0, 0, 0, 0, 0, 0, 0, 0, 0, 0, 0, 0, 0, 0, 0, 0, 0, 0, 0]\n",
      "[0.0, 0.0, 0.0, 0, 0.0, 0.0, 0.0, 0.0, 0.0, 0.0, 0.0, 0.0, 0.0, 0.0, 0.0, 0.0, 0.0, 0.0, 0.0, 0.0, 0, 0, 0, 0, 0, 0, 0, 0, 0, 0, 0, 0, 0, 0, 0, 0, 0, 0, 0, 0, 0, 0, 0, 0, 0, 0, 0, 0, 0, 0, 0, 0, 0, 0, 0, 0, 0.00057670126874279125, 0.00059880239520958083, 0, 0.00064977257959714096, 0.00078864353312302837, 0, 0.0011904761904761906, 0, 0, 0.001455604075691412, 0.0014771048744460858, 0, 0.0016286644951140066, 0, 0.0019485580670303975, 0.0023474178403755869, 0, 0, 0.0029239766081871343, 0, 0, 0, 0]\n",
      "[0.0, 0, 0.0, 0.0, 0, 0, 0, 0, 0, 0, 0, 0, 0, 0, 0, 0, 0, 0, 0, 0, 0, 0, 0, 0, 0, 0, 0, 0, 0, 0, 0, 0, 0, 0, 0, 0, 0, 0, 0, 0, 0, 0, 0.0014771048744460858, 0, 0, 0.002004008016032064, 0.0024271844660194173, 0, 0, 0.0027932960893854749, 0, 0, 0, 0.0039840637450199202, 0, 0.0063492063492063492, 0.0065502183406113534, 0.0065703022339027592, 0.0065868263473053889, 0.006920415224913495, 0, 0.0088888888888888889, 0.0090968161143599735, 0.010324483775811209, 0.011437908496732025, 0, 0.011635423400129283, 0.012441679626749611, 0.014084507042253521, 0.014285714285714285, 0.014419329696024942, 0.014556040756914119, 0.014619883040935672, 0.014657980456026058, 0.014925373134328358, 0.016528925619834711, 0.017350157728706624, 0.030303030303030304, 0.031746031746031744]\n",
      "[0.0, 0.0, 0.0, 0, 0.0, 0.0, 0.0, 0.0, 0.0, 0.0, 0, 0, 0, 0, 0, 0, 0, 0, 0, 0, 0, 0, 0, 0, 0, 0, 0, 0, 0, 0, 0, 0, 0, 0, 0, 0, 0, 0, 0.0007776049766718507, 0.00078864353312302837, 0, 0, 0.0012928248222365869, 0.0013140604467805519, 0, 0.0014749262536873156, 0.0014771048744460858, 0, 0.0016286644951140066, 0.0016339869281045752, 0, 0, 0, 0.0023474178403755869, 0.0027279812938425566, 0.0027932960893854749, 0.0028589993502274205, 0.0029239766081871343, 0.0029940119760479044, 0, 0.0031746031746031746, 0, 0, 0, 0.0036524413687043446, 0, 0, 0, 0, 0, 0, 0.0050505050505050509, 0.005822416302765648, 0, 0, 0.0087336244541484712, 0.0099601593625498006, 0, 0.050000000000000003]\n"
     ]
    },
    {
     "name": "stdout",
     "output_type": "stream",
     "text": [
      "[0.0, 0, 0.0, 0.0, 0.0, 0.0, 0, 0, 0, 0, 0, 0, 0, 0, 0, 0, 0.00064641241111829345, 0, 0.0019920318725099601, 0.0020661157024793389, 0, 0.0031746031746031746, 0.0032679738562091504, 0.0043668122270742356, 0.0045484080571799868, 0.0047619047619047623, 0.0050505050505050509, 0.0052562417871222077, 0.0055205047318611991, 0, 0.0065146579804560263, 0.0065359477124183009, 0.0065502183406113534, 0.0065868263473053889, 0, 0.0080160320641282558, 0, 0, 0.0093312597200622092, 0.0093411996066863328, 0.0097427903351519872, 0, 0, 0, 0, 0, 0, 0.013333333333333334, 0.014771048744460856, 0, 0.016990291262135922, 0, 0, 0.019553072625698324, 0, 0.02046783625730994, 0, 0, 0, 0, 0, 0, 0, 0, 0, 0, 0.031746031746031744, 0, 0, 0, 0, 0, 0, 0, 0, 0, 0, 0, 0]\n"
     ]
    }
   ],
   "source": [
    "for mor in needed:\n",
    "    row_k = a[0].loc[a[0]['morpheme']==mor]\n",
    "    k = make_dict(row_k, k_speakers)\n",
    "    row_s = a[1].loc[a[1]['morpheme']==mor]\n",
    "    s = make_dict(row_s, s_speakers)\n",
    "    # now sort\n",
    "    res_k, res_s, res_x = sort_to_two(k, s)\n",
    "    fig, ax = plt.subplots(figsize=(20, 10))\n",
    "    x = np.arange(len(res_x))\n",
    "    ax.bar(x, res_k, color=\"red\")\n",
    "    ax.bar(x, res_s, color=\"blue\")\n",
    "    plt.xticks(x, res_x)\n",
    "    plt.title(\"{}, DP K: {}, DP S: {}\".format(mor, row_k['dp'].iloc[0], row_s['dp'].iloc[0]))\n",
    "    plt.legend(['Kamchatka', 'Sebjan'])\n",
    "    if not os.path.exists(\"pics\"):\n",
    "        os.mkdir('pics')\n",
    "    fig.savefig('pics/{}.png'.format(mor))\n",
    "#     plt.show()\n"
   ]
  },
  {
   "cell_type": "code",
   "execution_count": null,
   "metadata": {},
   "outputs": [],
   "source": []
  },
  {
   "cell_type": "code",
   "execution_count": 101,
   "metadata": {},
   "outputs": [
    {
     "data": {
      "text/html": [
       "<div>\n",
       "<style>\n",
       "    .dataframe thead tr:only-child th {\n",
       "        text-align: right;\n",
       "    }\n",
       "\n",
       "    .dataframe thead th {\n",
       "        text-align: left;\n",
       "    }\n",
       "\n",
       "    .dataframe tbody tr th {\n",
       "        vertical-align: top;\n",
       "    }\n",
       "</style>\n",
       "<table border=\"1\" class=\"dataframe\">\n",
       "  <thead>\n",
       "    <tr style=\"text-align: right;\">\n",
       "      <th></th>\n",
       "      <th>morpheme</th>\n",
       "      <th>count</th>\n",
       "      <th>dp</th>\n",
       "      <th>AEI</th>\n",
       "      <th>AFI</th>\n",
       "      <th>AGK</th>\n",
       "      <th>AL</th>\n",
       "      <th>AMG</th>\n",
       "      <th>AS</th>\n",
       "      <th>ASA</th>\n",
       "      <th>...</th>\n",
       "      <th>NIG</th>\n",
       "      <th>NMK</th>\n",
       "      <th>ONI</th>\n",
       "      <th>PMB</th>\n",
       "      <th>RME</th>\n",
       "      <th>RMS</th>\n",
       "      <th>TEB</th>\n",
       "      <th>VIA</th>\n",
       "      <th>rh</th>\n",
       "      <th>AAS_k</th>\n",
       "    </tr>\n",
       "  </thead>\n",
       "  <tbody>\n",
       "    <tr>\n",
       "      <th>55</th>\n",
       "      <td>čE-pf.ptc-v</td>\n",
       "      <td>214</td>\n",
       "      <td>0.185538</td>\n",
       "      <td>0.008016</td>\n",
       "      <td>0.0</td>\n",
       "      <td>0.031746</td>\n",
       "      <td>0</td>\n",
       "      <td>0.0</td>\n",
       "      <td>0.005521</td>\n",
       "      <td>0.01699</td>\n",
       "      <td>...</td>\n",
       "      <td>0.006536</td>\n",
       "      <td>0.003175</td>\n",
       "      <td>0.020468</td>\n",
       "      <td>0.014771</td>\n",
       "      <td>0.004548</td>\n",
       "      <td>0.009341</td>\n",
       "      <td>0.0</td>\n",
       "      <td>0.006587</td>\n",
       "      <td>0.0</td>\n",
       "      <td>0.004367</td>\n",
       "    </tr>\n",
       "  </tbody>\n",
       "</table>\n",
       "<p>1 rows × 34 columns</p>\n",
       "</div>"
      ],
      "text/plain": [
       "       morpheme  count        dp       AEI  AFI       AGK  AL  AMG        AS  \\\n",
       "55  čE-pf.ptc-v    214  0.185538  0.008016  0.0  0.031746   0  0.0  0.005521   \n",
       "\n",
       "        ASA    ...          NIG       NMK       ONI       PMB       RME  \\\n",
       "55  0.01699    ...     0.006536  0.003175  0.020468  0.014771  0.004548   \n",
       "\n",
       "         RMS  TEB       VIA   rh     AAS_k  \n",
       "55  0.009341  0.0  0.006587  0.0  0.004367  \n",
       "\n",
       "[1 rows x 34 columns]"
      ]
     },
     "execution_count": 101,
     "metadata": {},
     "output_type": "execute_result"
    }
   ],
   "source": [
    "a[0].loc[a[0]['morpheme']==mor]"
   ]
  },
  {
   "cell_type": "code",
   "execution_count": 150,
   "metadata": {},
   "outputs": [],
   "source": [
    "from statsmodels.stats.proportion import proportion_confint"
   ]
  },
  {
   "cell_type": "markdown",
   "metadata": {},
   "source": [
    "Для конфинта нужны\n",
    "\n",
    "- сырые частотности по спикерам (не делённые!)\n",
    "- количество слов по спикерам\n",
    "\n",
    "их надо подготовить выше"
   ]
  },
  {
   "cell_type": "code",
   "execution_count": null,
   "metadata": {
    "collapsed": true
   },
   "outputs": [],
   "source": [
    "plt.bar(kam, c=\"red\", xticks=)\n",
    "plt.bar(seb, c=\"blue\")"
   ]
  }
 ],
 "metadata": {
  "kernelspec": {
   "display_name": "Python 3",
   "language": "python",
   "name": "python3"
  },
  "language_info": {
   "codemirror_mode": {
    "name": "ipython",
    "version": 3
   },
   "file_extension": ".py",
   "mimetype": "text/x-python",
   "name": "python",
   "nbconvert_exporter": "python",
   "pygments_lexer": "ipython3",
   "version": "3.6.3"
  }
 },
 "nbformat": 4,
 "nbformat_minor": 2
}
