{
 "cells": [
  {
   "cell_type": "markdown",
   "metadata": {},
   "source": [
    "Здесь будут исправления и исправления и исправления"
   ]
  },
  {
   "cell_type": "code",
   "execution_count": 49,
   "metadata": {
    "collapsed": false
   },
   "outputs": [],
   "source": [
    "import re, os\n",
    "\n",
    "\n",
    "def morphs_2_words(line):\n",
    "    '''берёт на вход массив расчленённой строки, возвращает массив слов'''\n",
    "    words, word = [], []\n",
    "    for morph in line:\n",
    "        if morph.strip()[0] in '=-':\n",
    "            word.append(morph)\n",
    "        else:\n",
    "            if len(word) > 0:\n",
    "                words.append(word)\n",
    "            word = [morph]\n",
    "    words.append(word)\n",
    "    return words\n",
    "\n",
    "\n",
    "def read_file(fname):\n",
    "    with open(fname) as f:\n",
    "        text = f.readlines()\n",
    "    return text\n",
    "\n",
    "\n",
    "def replacer(line, what, how, index):\n",
    "    count = 0\n",
    "    start = re.split('\\s', line)\n",
    "    for i in range(len(start)):\n",
    "        if start[i] != '':\n",
    "            if count in index:\n",
    "                start[i] = how\n",
    "            count += 1\n",
    "    finish = '{}\\n'.format(' '.join(start))\n",
    "    return finish\n",
    "\n",
    "\n",
    "def searcher(content, patterns, rows):\n",
    "    wachaut = False\n",
    "    for i in range(len(content)):\n",
    "        if content[i].startswith(rows[0]):\n",
    "            if patterns[0] in content[i].split():\n",
    "                wachaut = [i for i, x in enumerate(morphs_2_words(content[i].split())) if patterns[0] in x]\n",
    "        if wachaut and content[i-1].startswith(rows[1]):\n",
    "            content[i-1] = replacer(content[i-1], patterns[1], patterns[2], wachaut)\n",
    "            wachaut = False\n",
    "    return content\n",
    "\n",
    "def writer(content, fname):\n",
    "    with open(fname, 'w') as f:\n",
    "        f.write(''.join(content))\n",
    "\n",
    "def main(corp, patterns=('-nr', 'v', 'n'), rows=('\\ge', '\\ps')):\n",
    "    dir = 'Corpus_Text_{}_postagged'.format(corp)\n",
    "    for file in os.listdir(dir):\n",
    "        fname = os.path.join(dir, file)\n",
    "        writer(searcher(read_file(fname), patterns=patterns, rows=rows), fname)\n",
    "#         searcher(read_file(os.path.join(dir, file)))"
   ]
  },
  {
   "cell_type": "code",
   "execution_count": 51,
   "metadata": {
    "collapsed": false
   },
   "outputs": [
    {
     "data": {
      "text/plain": [
       "['',\n",
       " '\\tx Ikeːnel         belliten            minu         ajịč      ụnụdakụ                  inŋewuten.',\n",
       " '\\\\mb ikeː -n  -E  -L  bel  -RI  -tEn      min     -W   aj   -E  -Č   ụnụ        -DE       -W        inŋe   -W   -tEn     ',\n",
       " '\\\\ps n                v                   pron         adj           v                              n                    \\n',\n",
       " '\\\\ge sing -nr -ep -pl help -pst -poss.3pl 1sg.obl -acc good -ep -ins understand -purp.cvb -poss.1sg tongue -acc -poss.3pl',\n",
       " '\\x0ct Singers helped we to understand their language well.',\n",
       " '\\\\ph',\n",
       " '\\\\gr 29.01.13 (quest_Adukanov_Sergey_1, 12:30) ikeːnel = xoroshie pevtsy, ikeːn = chelovek kotoryj xorosho umeet petj; pesnja = ikeː; belliten',\n",
       " 'minu = pomogli mne, pravilno, and word order is OK, minu belliten = belliten minu',\n",
       " '\\\\ELANBegin 00:02:16.100',\n",
       " '\\\\ELANEnd 00:02:27.300',\n",
       " '\\\\ELANParticipant AS',\n",
       " '\\ru Певцы хорошие помогли мне хорошо понимать их язык.',\n",
       " '\\\\comment',\n",
       " '\\\\ev Икэныл бэллитын мину аич унудақу иннӈывытын.',\n",
       " '',\n",
       " '']"
      ]
     },
     "execution_count": 51,
     "metadata": {},
     "output_type": "execute_result"
    }
   ],
   "source": [
    "piece = \"\"\"\n",
    "\\tx Ikeːnel         belliten            minu         ajịč      ụnụdakụ                  inŋewuten.\n",
    "\\mb ikeː -n  -E  -L  bel  -RI  -tEn      min     -W   aj   -E  -Č   ụnụ        -DE       -W        inŋe   -W   -tEn     \n",
    "\\ps v                v                   pron         adj           v                              n                    \n",
    "\\ge sing -nr -ep -pl help -pst -poss.3pl 1sg.obl -acc good -ep -ins understand -purp.cvb -poss.1sg tongue -acc -poss.3pl\n",
    "\\ft Singers helped we to understand their language well.\n",
    "\\ph\n",
    "\\gr 29.01.13 (quest_Adukanov_Sergey_1, 12:30) ikeːnel = xoroshie pevtsy, ikeːn = chelovek kotoryj xorosho umeet petj; pesnja = ikeː; belliten\n",
    "minu = pomogli mne, pravilno, and word order is OK, minu belliten = belliten minu\n",
    "\\ELANBegin 00:02:16.100\n",
    "\\ELANEnd 00:02:27.300\n",
    "\\ELANParticipant AS\n",
    "\\ru Певцы хорошие помогли мне хорошо понимать их язык.\n",
    "\\comment\n",
    "\\ev Икэныл бэллитын мину аич унудақу иннӈывытын.\n",
    "\n",
    "\"\"\"\n",
    "\n",
    "searcher(piece.split('\\n'), patterns=('-nr', 'v', 'n'), rows=('\\ge', '\\ps'))"
   ]
  },
  {
   "cell_type": "code",
   "execution_count": 45,
   "metadata": {
    "collapsed": false
   },
   "outputs": [],
   "source": [
    "corpora = ['Kamchatka', 'Sebjan']"
   ]
  },
  {
   "cell_type": "code",
   "execution_count": 52,
   "metadata": {
    "collapsed": false
   },
   "outputs": [],
   "source": [
    "for corp in corpora:\n",
    "    main(corp)"
   ]
  },
  {
   "cell_type": "code",
   "execution_count": 53,
   "metadata": {
    "collapsed": true
   },
   "outputs": [],
   "source": [
    "for corp in corpora:\n",
    "    main(corp, patterns=('-agnr', 'v', 'n'))"
   ]
  },
  {
   "cell_type": "code",
   "execution_count": null,
   "metadata": {
    "collapsed": true
   },
   "outputs": [],
   "source": []
  }
 ],
 "metadata": {
  "kernelspec": {
   "display_name": "Python 3",
   "language": "python",
   "name": "python3"
  },
  "language_info": {
   "codemirror_mode": {
    "name": "ipython",
    "version": 3
   },
   "file_extension": ".py",
   "mimetype": "text/x-python",
   "name": "python",
   "nbconvert_exporter": "python",
   "pygments_lexer": "ipython3",
   "version": "3.5.2"
  }
 },
 "nbformat": 4,
 "nbformat_minor": 0
}
