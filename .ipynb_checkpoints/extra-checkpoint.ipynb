{
 "cells": [
  {
   "cell_type": "markdown",
   "metadata": {},
   "source": [
    "Наброски кода для\n",
    "0. сведения алломорфов морфем в одно (хотя бы в таблице)\n",
    "1. подсчёта сочетаний морфем\n",
    "2. вытаскивания конвербов\n",
    "3. вытаскивания цепочек частей речи"
   ]
  },
  {
   "cell_type": "markdown",
   "metadata": {},
   "source": [
    "Все манипуляции можно тестировать на корпусах, которые в почте."
   ]
  },
  {
   "cell_type": "markdown",
   "metadata": {},
   "source": [
    "# 0\n",
    "Действительно надо вытащить всё, положить в словарину и радоваться\n",
    "\n",
    "Формат:\n",
    "\n",
    "`корпус{\n",
    "    название:документ{    # done\n",
    "        мета:мета,    # done\n",
    "        текст:[\n",
    "            предложение{\n",
    "                слой:[\n",
    "                    морфемы\n",
    "                    ],\n",
    "                перевод:''\n",
    "            }\n",
    "        ]\n",
    "    }\n",
    "}`"
   ]
  },
  {
   "cell_type": "code",
   "execution_count": 26,
   "metadata": {
    "collapsed": true
   },
   "outputs": [],
   "source": [
    "corpora = ['Kamchatka', 'Sebjan']"
   ]
  },
  {
   "cell_type": "code",
   "execution_count": 10,
   "metadata": {
    "collapsed": true
   },
   "outputs": [],
   "source": [
    "import os, re, pickle\n",
    "from pprint import pprint"
   ]
  },
  {
   "cell_type": "code",
   "execution_count": 4,
   "metadata": {
    "collapsed": false
   },
   "outputs": [],
   "source": [
    "def morphs_2_words(line):\n",
    "    '''берёт на вход массив расчленённой строки, возвращает массив слов'''\n",
    "    words = []\n",
    "    word = []\n",
    "    for morph in line:\n",
    "        if morph.strip()[0] in '=-':\n",
    "            word.append(morph)\n",
    "        else:\n",
    "            if len(word) > 0:\n",
    "                words.append(word)\n",
    "            word = [morph]\n",
    "    words.append(word)\n",
    "    return words\n",
    "\n",
    "\n",
    "def handle_startline(line, res, current_layer):\n",
    "    line = line.split()\n",
    "    layer = line[0].strip('\\\\')\n",
    "    parted_layers = ['tx', 'mb', 'ge', 'ps']\n",
    "    if not (len(line) == 1): # чтобы не считать пустые строки\n",
    "        if layer in parted_layers:\n",
    "            line_content = morphs_2_words(line[1:]) # делим на слова, состоящие из морфем\n",
    "        else:\n",
    "            line_content = [' '.join(line[1:])] # просто целые строки (комментарии и тп)\n",
    "            current_layer = layer\n",
    "        if layer in res and res[layer][0] != '':\n",
    "            res[layer] += line_content\n",
    "        else:\n",
    "            res[layer] = line_content\n",
    "    return res, current_layer\n",
    "\n",
    "\n",
    "def lines_2_dict(part):\n",
    "    '''\n",
    "    i: кусок текста (предложение) в несколько строк, в каждой строке несколько слоёв, и с другими данными предложения\n",
    "    o: джейсонина вида {'слой': [сл, о, ва], 'слой': содержимое}\n",
    "    доп. ограничения: длина всех строк-массивов равна\n",
    "    '''\n",
    "    res = {}\n",
    "    lines = [line for line in part.split('\\n') if len(line) > 1]\n",
    "    res['index'] = [lines[0].split('_')[-1]]\n",
    "    parted_layers = ['tx', 'mb', 'ge', 'ps']\n",
    "    current_layer = '' # для переносов\n",
    "    for line in lines[1:]:\n",
    "        if line.startswith('\\\\'):\n",
    "            res, current_layer = handle_startline(line, res, current_layer)\n",
    "        else:\n",
    "            if current_layer:\n",
    "                res[current_layer][0] += ' ' + line\n",
    "    return res\n",
    "\n",
    "\n",
    "def check_len(p_sent, fil):\n",
    "    parted_layers = ['mb', 'ge', 'ps']\n",
    "    selected_layers = [key for key in p_sent if key in parted_layers and len(p_sent[key])>1]\n",
    "    # 1. check that the number of words is the same\n",
    "    lengths = set([len(p_sent[key]) for key in selected_layers])\n",
    "    if len(lengths) > 1:\n",
    "        print('Error in {}, here:'.format(fil))\n",
    "        print(lengths)\n",
    "        for l in selected_layers:\n",
    "            print(len(p_sent[l]))\n",
    "            pprint(p_sent[l])\n",
    "        return lengths\n",
    "    # 2. check that morphemes are aligned\n",
    "    if 'mb' in selected_layers and 'ge' in selected_layers:\n",
    "        for i in range(len(p_sent['ge'])):\n",
    "            if len(p_sent['ge'][i]) != len(p_sent['mb'][i]):\n",
    "                print('што-то слиплось в {}'.format(fil))\n",
    "                pprint(p_sent)\n",
    "    return lengths\n",
    "\n",
    "\n",
    "def make_readable(corp):\n",
    "    \"переводит текст корпусов в удобомашиночитаемую джейсонину\"\n",
    "    folder = 'Corpus_Text_{}_postagged'.format(corp)\n",
    "    corpus_dict = {}\n",
    "    for fil in os.listdir(folder):\n",
    "        if 'pyzhik' in fil:\n",
    "            continue\n",
    "        if not fil.endswith('.txt'):\n",
    "            continue\n",
    "        with open(os.path.join(folder, fil), 'r') as f:\n",
    "            text = f.read()\n",
    "        file_content, text_content = {}, []\n",
    "        sents = text.split('\\id')\n",
    "        file_content['meta'] = sents[1] # metainfo at the beginning of the file; not parsed\n",
    "        for sent in sents[2:]:\n",
    "            sent_content = lines_2_dict(sent)\n",
    "            check_len(sent_content, fil)\n",
    "            text_content.append(sent_content)\n",
    "        file_content['text'] = text_content\n",
    "        corpus_dict[fil] = file_content\n",
    "    with open('{}.pickle'.format(corp), 'wb') as f:\n",
    "        pickle.dump(corpus_dict, f)\n",
    "    return corpus_dict"
   ]
  },
  {
   "cell_type": "code",
   "execution_count": 60,
   "metadata": {
    "collapsed": false,
    "scrolled": true
   },
   "outputs": [],
   "source": [
    "for corp in corpora:\n",
    "    make_readable(corp)"
   ]
  },
  {
   "cell_type": "code",
   "execution_count": 27,
   "metadata": {
    "collapsed": false
   },
   "outputs": [],
   "source": [
    "def detect(what, where, replace=False, corpora=corpora, show=True):\n",
    "    for corpus in corpora:\n",
    "        hits = []\n",
    "        with open('{}.pickle'.format(corpus), 'rb') as f:\n",
    "            content = pickle.load(f)\n",
    "        for doc in content:\n",
    "            for i in range(len(content[doc]['text'])): # looping through sentences\n",
    "                if not where in content[doc]['text'][i]:\n",
    "                    continue\n",
    "                for word in content[doc]['text'][i][where]:\n",
    "                    if what in word:\n",
    "                        print('Found in {}, {} at {}'.format(corpus, doc, i))\n",
    "                        if show:\n",
    "                            pprint(content[doc]['text'][i])\n",
    "                        hits.append(doc)\n",
    "        if len(hits) == 0:\n",
    "            print('noth found. cool! or not?')\n",
    "        else:\n",
    "            inp = input('correct all these ({} hits) & press Enter and I\\'ll reload.\\n'.format(len(hits)))\n",
    "            if replace:\n",
    "                target = replace\n",
    "                for doc in list(set(hits)):\n",
    "                    with open(os.path.join('Corpus_Text_{}_postagged'.format(corpus), doc), 'r') as f:\n",
    "                        text = f.read()\n",
    "                    a_hits = re.findall('{}\\\\b'.format(what), text)\n",
    "                    while len(a_hits) > len(hits):\n",
    "                        print('what is not accurate. see what\\'d be affected')\n",
    "                        pprint(a_hits[:15])\n",
    "                        what = input('change the what: ')\n",
    "                        a_hits = re.findall('{} '.format(what.replace('.', '\\.')), text)\n",
    "                    text = re.sub('{}(\\\\b)'.format(what.replace('.', '\\.')), '{}\\\\1'.format(target), text)\n",
    "                    with open(os.path.join('Corpus_Text_{}_postagged'.format(corpus), doc), 'w') as f:\n",
    "                        f.write(text)\n",
    "            make_readable(corpus)\n",
    "            print('done!')"
   ]
  },
  {
   "cell_type": "code",
   "execution_count": 43,
   "metadata": {
    "collapsed": false
   },
   "outputs": [
    {
     "name": "stdout",
     "output_type": "stream",
     "text": [
      "noth found. cool! or not?\n",
      "noth found. cool! or not?\n",
      "noth found. cool! or not?\n",
      "noth found. cool! or not?\n",
      "noth found. cool! or not?\n",
      "noth found. cool! or not?\n",
      "noth found. cool! or not?\n",
      "noth found. cool! or not?\n",
      "\n",
      "\n",
      "regalar nfs done\n",
      "\n",
      "noth found. cool! or not?\n",
      "noth found. cool! or not?\n",
      "noth found. cool! or not?\n",
      "noth found. cool! or not?\n",
      "noth found. cool! or not?\n",
      "Found in Sebjan, SlepcovaNA_her_class.txt at 27\n",
      "Found in Sebjan, Zaxarova_JP_pear_story.txt at 21\n",
      "correct all these (2 hits) & press Enter and I'll reload.\n",
      "\n",
      "done!\n",
      "noth found. cool! or not?\n",
      "noth found. cool! or not?\n",
      "noth found. cool! or not?\n",
      "noth found. cool! or not?\n",
      "noth found. cool! or not?\n",
      "noth found. cool! or not?\n",
      "noth found. cool! or not?\n",
      "Found in Sebjan, Krivoshapkina_AE_childhood.txt at 114\n",
      "Found in Sebjan, Krivoshapkin_DM_Segen.txt at 40\n",
      "Found in Sebjan, Krivoshapkin_DM_Segen.txt at 40\n",
      "correct all these (3 hits) & press Enter and I'll reload.\n",
      "\n",
      "done!\n",
      "noth found. cool! or not?\n",
      "noth found. cool! or not?\n"
     ]
    }
   ],
   "source": [
    "nfs = ['-nonfut3pl', '-nonfut3sg', '-nonfut.3pl', '-nonfut.3sg']\n",
    "for nf in nfs:\n",
    "    detect(nf, 'ge', replace='-nonfut', show=False)\n",
    "print('\\n\\nregalar nfs done\\n')\n",
    "other_nfs = ['-hab.nonfut3pl', '-hab.nonfut3sg', '-hab.nonfut.3pl', '-hab.nonfut.3sg']\n",
    "for nf in other_nfs:\n",
    "    detect(nf, 'ge', replace='-hab.nonfut', show=False)\n",
    "other_nfs = ['-caus.nonfut3pl', '-caus.nonfut3sg', '-caus.nonfut.3pl', '-caus.nonfut.3sg']\n",
    "for nf in other_nfs:\n",
    "    detect(nf, 'ge', replace='-caus.nonfut', show=False)"
   ]
  },
  {
   "cell_type": "markdown",
   "metadata": {},
   "source": [
    "Здесь повторяю таблицу которая была"
   ]
  },
  {
   "cell_type": "code",
   "execution_count": 1,
   "metadata": {
    "collapsed": true
   },
   "outputs": [],
   "source": [
    "import numpy as np\n",
    "import pandas as pd "
   ]
  },
  {
   "cell_type": "code",
   "execution_count": 108,
   "metadata": {
    "collapsed": true
   },
   "outputs": [],
   "source": [
    "def extract_morphs(corpus):\n",
    "    with open('{}.pickle'.format(corpus), 'rb') as f:\n",
    "        content = pickle.load(f)\n",
    "    morphs = []\n",
    "    for doc in content:\n",
    "        for sent in content[doc]['text']:\n",
    "            if 'mb' in sent and 'ge' in sent and 'ps' in sent:\n",
    "                for i in range(len(sent['mb'])):\n",
    "                    morphs.append(tuple([0]))\n",
    "                    ps = sent['ps'][i][0]\n",
    "                    for l in range(1, len(sent['mb'][i])):\n",
    "                        try:\n",
    "                            morphs.append((sent['mb'][i][l], sent['ge'][i][l], ps))\n",
    "                        except:\n",
    "                            print(doc)\n",
    "                            pprint(sent)\n",
    "                    morphs.append(tuple([1]))\n",
    "    with open('{}_morphemes.pickle'.format(corpus), 'wb') as f:\n",
    "        pickle.dump(morphs, f)\n",
    "    print(len(morphs))\n",
    "    pprint(morphs[:15])"
   ]
  },
  {
   "cell_type": "code",
   "execution_count": 109,
   "metadata": {
    "collapsed": false
   },
   "outputs": [
    {
     "name": "stdout",
     "output_type": "stream",
     "text": [
      "105395\n",
      "[(0,),\n",
      " ('-L', '-pl', 'n'),\n",
      " ('-W', '-acc', 'n'),\n",
      " (1,),\n",
      " (0,),\n",
      " ('-L', '-pl', 'n'),\n",
      " ('-W', '-acc', 'n'),\n",
      " (1,),\n",
      " (0,),\n",
      " (1,),\n",
      " (0,),\n",
      " ('-W', '-poss.1sg', 'n'),\n",
      " (1,),\n",
      " (0,),\n",
      " ('-WkEn', '-caus', 'v')]\n",
      "149704\n",
      "[(0,),\n",
      " ('-WEːČ', '-gnr', 'v'),\n",
      " ('-RI', '-impf.ptc', 'v'),\n",
      " (1,),\n",
      " (0,),\n",
      " (1,),\n",
      " (0,),\n",
      " (1,),\n",
      " (0,),\n",
      " ('-(dU)LE', '-loc', 'n'),\n",
      " (1,),\n",
      " (0,),\n",
      " ('-B', '-med', 'v'),\n",
      " ('-DEŋ', '-pst.ptc', 'v'),\n",
      " ('-E', '-ep', 'v')]\n"
     ]
    }
   ],
   "source": [
    "for corp in corpora:\n",
    "    extract_morphs(corp)"
   ]
  },
  {
   "cell_type": "code",
   "execution_count": 43,
   "metadata": {
    "collapsed": false
   },
   "outputs": [],
   "source": [
    "with open('Kamchatka_morphemes.pickle', 'rb') as f:\n",
    "    kam_mor = pickle.load(f)\n",
    "with open('Sebjan_morphemes.pickle', 'rb') as f:\n",
    "    seb_mor = pickle.load(f)"
   ]
  },
  {
   "cell_type": "code",
   "execution_count": 8,
   "metadata": {
    "collapsed": false
   },
   "outputs": [],
   "source": [
    "from collections import Counter\n",
    "\n",
    "seb_count = Counter(seb_mor)\n",
    "kam_count = Counter(kam_mor)"
   ]
  },
  {
   "cell_type": "code",
   "execution_count": 9,
   "metadata": {
    "collapsed": false
   },
   "outputs": [
    {
     "name": "stdout",
     "output_type": "stream",
     "text": [
      "49804\n",
      "32778\n"
     ]
    }
   ],
   "source": [
    "# число слов в каждом\n",
    "# в прошлый раз было 34933 на камчатке и 51148 в себъяне\n",
    "print(seb_count[(0,)])\n",
    "print(kam_count[(0,)])"
   ]
  },
  {
   "cell_type": "markdown",
   "metadata": {},
   "source": [
    "ЛАДНО"
   ]
  },
  {
   "cell_type": "code",
   "execution_count": 113,
   "metadata": {
    "collapsed": false
   },
   "outputs": [],
   "source": [
    "kam_pd = pd.DataFrame({\n",
    "                       'morpheme': [x[0] for x in kam_count if len(x)==3], \n",
    "                       'gloss': [x[1] for x in kam_count if len(x)==3],\n",
    "                       'pos': [x[2] for x in kam_count if len(x)==3],\n",
    "                       'k_count': [kam_count[x] for x in kam_count if len(x)==3]\n",
    "    })\n",
    "\n",
    "seb_pd = pd.DataFrame({\n",
    "                       'morpheme': [x[0] for x in seb_count if len(x)==3], \n",
    "                       'gloss': [x[1] for x in seb_count if len(x)==3],\n",
    "                       'pos': [x[2] for x in seb_count if len(x)==3],\n",
    "                       's_count': [seb_count[x] for x in seb_count if len(x)==3]\n",
    "    })"
   ]
  },
  {
   "cell_type": "code",
   "execution_count": null,
   "metadata": {
    "collapsed": true
   },
   "outputs": [],
   "source": [
    "seb_pd = seb_pd.sort_values(('s_count'), ascending=False)\n",
    "kam_pd = kam_pd.sort_values(('k_count'), ascending=False)\n",
    "seb_pd['gloss'] = seb_pd['gloss'].map(lambda x: x.strip('-='))\n",
    "seb_pd['morpheme'] = seb_pd['morpheme'].map(lambda x: x.strip('-='))\n",
    "kam_pd['gloss'] = kam_pd['gloss'].map(lambda x: x.strip('-='))\n",
    "kam_pd['morpheme'] = kam_pd['morpheme'].map(lambda x: x.strip('-='))"
   ]
  },
  {
   "cell_type": "code",
   "execution_count": 117,
   "metadata": {
    "collapsed": false
   },
   "outputs": [
    {
     "data": {
      "text/html": [
       "<div>\n",
       "<table border=\"1\" class=\"dataframe\">\n",
       "  <thead>\n",
       "    <tr style=\"text-align: right;\">\n",
       "      <th></th>\n",
       "      <th>gloss</th>\n",
       "      <th>k_count</th>\n",
       "      <th>morpheme</th>\n",
       "      <th>pos</th>\n",
       "    </tr>\n",
       "  </thead>\n",
       "  <tbody>\n",
       "    <tr>\n",
       "      <th>120</th>\n",
       "      <td>nonfut</td>\n",
       "      <td>2956</td>\n",
       "      <td>R(E)</td>\n",
       "      <td>v</td>\n",
       "    </tr>\n",
       "    <tr>\n",
       "      <th>283</th>\n",
       "      <td>pst</td>\n",
       "      <td>2712</td>\n",
       "      <td>RI</td>\n",
       "      <td>v</td>\n",
       "    </tr>\n",
       "    <tr>\n",
       "      <th>161</th>\n",
       "      <td>gnr</td>\n",
       "      <td>1891</td>\n",
       "      <td>WEːČ</td>\n",
       "      <td>v</td>\n",
       "    </tr>\n",
       "    <tr>\n",
       "      <th>296</th>\n",
       "      <td>3sg</td>\n",
       "      <td>1786</td>\n",
       "      <td>n(I)</td>\n",
       "      <td>v</td>\n",
       "    </tr>\n",
       "    <tr>\n",
       "      <th>270</th>\n",
       "      <td>prog</td>\n",
       "      <td>1675</td>\n",
       "      <td>D</td>\n",
       "      <td>v</td>\n",
       "    </tr>\n",
       "  </tbody>\n",
       "</table>\n",
       "</div>"
      ],
      "text/plain": [
       "      gloss  k_count morpheme pos\n",
       "120  nonfut     2956     R(E)   v\n",
       "283     pst     2712       RI   v\n",
       "161     gnr     1891     WEːČ   v\n",
       "296     3sg     1786     n(I)   v\n",
       "270    prog     1675        D   v"
      ]
     },
     "execution_count": 117,
     "metadata": {},
     "output_type": "execute_result"
    }
   ],
   "source": [
    "kam_pd.head()"
   ]
  },
  {
   "cell_type": "code",
   "execution_count": 118,
   "metadata": {
    "collapsed": false
   },
   "outputs": [],
   "source": [
    "seb_pd.to_pickle('Sebjan_morphemes_only.pickle')\n",
    "kam_pd.to_pickle('Kamchatka_morphemes_only.pickle')"
   ]
  },
  {
   "cell_type": "code",
   "execution_count": 10,
   "metadata": {
    "collapsed": true
   },
   "outputs": [],
   "source": [
    "seb_pd = pd.read_pickle('Sebjan_morphemes_only.pickle')\n",
    "kam_pd = pd.read_pickle('Kamchatka_morphemes_only.pickle')"
   ]
  },
  {
   "cell_type": "markdown",
   "metadata": {},
   "source": [
    "А теперь надо джойнить ))00"
   ]
  },
  {
   "cell_type": "code",
   "execution_count": 11,
   "metadata": {
    "collapsed": false
   },
   "outputs": [],
   "source": [
    "total = pd.merge(seb_pd, kam_pd, how='outer', on=['morpheme', 'gloss', 'pos'])"
   ]
  },
  {
   "cell_type": "code",
   "execution_count": 12,
   "metadata": {
    "collapsed": true
   },
   "outputs": [],
   "source": [
    "total = total.fillna(0)"
   ]
  },
  {
   "cell_type": "code",
   "execution_count": 14,
   "metadata": {
    "collapsed": true
   },
   "outputs": [],
   "source": [
    "total['s_freq'] = total['s_count'].map(lambda x: x/49804)\n",
    "total['k_freq'] = total['k_count'].map(lambda x: x/32778)"
   ]
  },
  {
   "cell_type": "code",
   "execution_count": 70,
   "metadata": {
    "collapsed": false
   },
   "outputs": [
    {
     "data": {
      "text/html": [
       "<div>\n",
       "<table border=\"1\" class=\"dataframe\">\n",
       "  <thead>\n",
       "    <tr style=\"text-align: right;\">\n",
       "      <th></th>\n",
       "      <th>gloss</th>\n",
       "      <th>morpheme</th>\n",
       "      <th>pos</th>\n",
       "      <th>s_count</th>\n",
       "      <th>k_count</th>\n",
       "      <th>s_freq</th>\n",
       "      <th>k_freq</th>\n",
       "      <th>s_expected</th>\n",
       "      <th>k_expected</th>\n",
       "      <th>log_l</th>\n",
       "      <th>ell</th>\n",
       "    </tr>\n",
       "  </thead>\n",
       "  <tbody>\n",
       "    <tr>\n",
       "      <th>37</th>\n",
       "      <td>gnr</td>\n",
       "      <td>WEːČ</td>\n",
       "      <td>v</td>\n",
       "      <td>335.0</td>\n",
       "      <td>1891.0</td>\n",
       "      <td>0.006726</td>\n",
       "      <td>0.057691</td>\n",
       "      <td>1342.468141</td>\n",
       "      <td>883.531859</td>\n",
       "      <td>1947.801162</td>\n",
       "      <td>0.003477</td>\n",
       "    </tr>\n",
       "    <tr>\n",
       "      <th>4</th>\n",
       "      <td>hab</td>\n",
       "      <td>Gr(E)</td>\n",
       "      <td>v</td>\n",
       "      <td>1747.0</td>\n",
       "      <td>41.0</td>\n",
       "      <td>0.035078</td>\n",
       "      <td>0.001251</td>\n",
       "      <td>1078.316728</td>\n",
       "      <td>709.683272</td>\n",
       "      <td>1452.048547</td>\n",
       "      <td>0.002678</td>\n",
       "    </tr>\n",
       "    <tr>\n",
       "      <th>7</th>\n",
       "      <td>pst</td>\n",
       "      <td>RI</td>\n",
       "      <td>v</td>\n",
       "      <td>1308.0</td>\n",
       "      <td>2712.0</td>\n",
       "      <td>0.026263</td>\n",
       "      <td>0.082738</td>\n",
       "      <td>2424.403381</td>\n",
       "      <td>1595.596619</td>\n",
       "      <td>1262.801694</td>\n",
       "      <td>0.002073</td>\n",
       "    </tr>\n",
       "    <tr>\n",
       "      <th>3</th>\n",
       "      <td>pf.ptc</td>\n",
       "      <td>čE</td>\n",
       "      <td>v</td>\n",
       "      <td>1895.0</td>\n",
       "      <td>211.0</td>\n",
       "      <td>0.038049</td>\n",
       "      <td>0.006437</td>\n",
       "      <td>1270.097891</td>\n",
       "      <td>835.902109</td>\n",
       "      <td>935.525501</td>\n",
       "      <td>0.001684</td>\n",
       "    </tr>\n",
       "    <tr>\n",
       "      <th>17</th>\n",
       "      <td>prog</td>\n",
       "      <td>D</td>\n",
       "      <td>v</td>\n",
       "      <td>765.0</td>\n",
       "      <td>1675.0</td>\n",
       "      <td>0.015360</td>\n",
       "      <td>0.051101</td>\n",
       "      <td>1471.528420</td>\n",
       "      <td>968.471580</td>\n",
       "      <td>834.398174</td>\n",
       "      <td>0.001470</td>\n",
       "    </tr>\n",
       "  </tbody>\n",
       "</table>\n",
       "</div>"
      ],
      "text/plain": [
       "     gloss morpheme pos  s_count  k_count    s_freq    k_freq   s_expected  \\\n",
       "37     gnr     WEːČ   v    335.0   1891.0  0.006726  0.057691  1342.468141   \n",
       "4      hab    Gr(E)   v   1747.0     41.0  0.035078  0.001251  1078.316728   \n",
       "7      pst       RI   v   1308.0   2712.0  0.026263  0.082738  2424.403381   \n",
       "3   pf.ptc       čE   v   1895.0    211.0  0.038049  0.006437  1270.097891   \n",
       "17    prog        D   v    765.0   1675.0  0.015360  0.051101  1471.528420   \n",
       "\n",
       "     k_expected        log_l       ell  \n",
       "37   883.531859  1947.801162  0.003477  \n",
       "4    709.683272  1452.048547  0.002678  \n",
       "7   1595.596619  1262.801694  0.002073  \n",
       "3    835.902109   935.525501  0.001684  \n",
       "17   968.471580   834.398174  0.001470  "
      ]
     },
     "execution_count": 70,
     "metadata": {},
     "output_type": "execute_result"
    }
   ],
   "source": [
    "total.head()"
   ]
  },
  {
   "cell_type": "code",
   "execution_count": 25,
   "metadata": {
    "collapsed": true
   },
   "outputs": [],
   "source": [
    "total['s_expected'] = 49804*(total['s_count']+total['k_count'])/(82582)\n",
    "total['k_expected'] = 32778*(total['s_count']+total['k_count'])/(82582)"
   ]
  },
  {
   "cell_type": "code",
   "execution_count": 48,
   "metadata": {
    "collapsed": false
   },
   "outputs": [],
   "source": [
    "total['log_l'] = 2*((total['s_count']*np.log(total['s_count']/total['s_expected'])) + (total['k_count']*np.log(total['k_count']/total['k_expected'])))"
   ]
  },
  {
   "cell_type": "code",
   "execution_count": 67,
   "metadata": {
    "collapsed": true
   },
   "outputs": [],
   "source": [
    "# здесь есть вытаскивание минимального значения из двух столбцов\n",
    "total['ell'] = total['log_l']/(82582*np.log(\n",
    "        total['s_expected']*(total['s_expected']<total['k_expected'])+total['k_expected']*(total['k_expected']<total['s_expected'])\n",
    "                                     )\n",
    "                              )"
   ]
  },
  {
   "cell_type": "code",
   "execution_count": 69,
   "metadata": {
    "collapsed": false
   },
   "outputs": [],
   "source": [
    "total = total.sort_values('ell', ascending=False)"
   ]
  },
  {
   "cell_type": "code",
   "execution_count": 71,
   "metadata": {
    "collapsed": true
   },
   "outputs": [],
   "source": [
    "total.to_pickle('total_morphemes.pickle')"
   ]
  },
  {
   "cell_type": "code",
   "execution_count": 33,
   "metadata": {
    "collapsed": true
   },
   "outputs": [],
   "source": [
    "total = pd.read_pickle('total_morphemes.pickle')"
   ]
  },
  {
   "cell_type": "markdown",
   "metadata": {
    "collapsed": false
   },
   "source": [
    "# разбираюсь с алломорфами"
   ]
  },
  {
   "cell_type": "code",
   "execution_count": 13,
   "metadata": {
    "collapsed": false
   },
   "outputs": [
    {
     "name": "stdout",
     "output_type": "stream",
     "text": [
      "360\n",
      "'\\\\lx =eː\\n\\\\a =ej\\n\\\\a =eːj\\n\\\\a =aː\\n\\\\a =oː\\n\\\\ge =emph\\n\\\\dt 29/Feb/2012'\n"
     ]
    }
   ],
   "source": [
    "with open('morpheme_2.txt') as f:\n",
    "    content = f.read().split('\\n\\n')\n",
    "print(len(content))\n",
    "pprint(content[39])"
   ]
  },
  {
   "cell_type": "code",
   "execution_count": 32,
   "metadata": {
    "collapsed": false
   },
   "outputs": [],
   "source": [
    "morphs = {}\n",
    "m_re = re.compile('\\Wlx (\\S+)\\n')\n",
    "g_re = re.compile('\\Wge (\\S+)\\n')\n",
    "a_re = re.compile('\\Wa (\\S+)\\n')\n",
    "for part in content:\n",
    "    morph = re.search(m_re, part)\n",
    "    if morph:\n",
    "        morph = morph.group(1)\n",
    "        gloss = re.search(g_re, part).group(1)\n",
    "        morphs[(morph, gloss)] = re.findall(a_re, part)"
   ]
  },
  {
   "cell_type": "code",
   "execution_count": 41,
   "metadata": {
    "collapsed": false
   },
   "outputs": [
    {
     "name": "stdout",
     "output_type": "stream",
     "text": [
      "('-E', 'ep')\n",
      "    gloss morpheme pos  s_count  k_count   s_freq  k_freq  s_expected  \\\n",
      "642    ep        i   v      1.0      0.0  0.00002     0.0    0.603085   \n",
      "\n",
      "     k_expected  log_l  ell  \n",
      "642    0.396915    NaN  NaN  \n",
      "('-G', 'advr')\n",
      "    gloss morpheme pos  s_count  k_count   s_freq  k_freq  s_expected  \\\n",
      "660  advr        k   v      1.0      0.0  0.00002     0.0    0.603085   \n",
      "\n",
      "     k_expected  log_l  ell  \n",
      "660    0.396915    NaN  NaN  \n",
      "('-n(I)', '3sg')\n",
      "    gloss morpheme pos  s_count  k_count   s_freq  k_freq  s_expected  \\\n",
      "573   3sg        n   v      1.0      0.0  0.00002     0.0    0.603085   \n",
      "\n",
      "     k_expected  log_l  ell  \n",
      "573    0.396915    NaN  NaN  \n",
      "('-G(I)', 'vr')\n",
      "    gloss morpheme pos  s_count  k_count   s_freq    k_freq  s_expected  \\\n",
      "681    vr        ŋ   v      1.0     12.0  0.00002  0.000366     7.84011   \n",
      "\n",
      "     k_expected     log_l       ell  \n",
      "681     5.15989  16.13729  0.000119  \n",
      "('-ssO', 'dur')\n",
      "    gloss morpheme pos  s_count  k_count   s_freq  k_freq  s_expected  \\\n",
      "401   dur      sso   v      4.0      0.0  0.00008     0.0    2.412342   \n",
      "\n",
      "     k_expected  log_l  ell  \n",
      "401    1.587658    NaN  NaN  \n",
      "('-n', 'mult')\n",
      "    gloss morpheme pos  s_count  k_count   s_freq    k_freq  s_expected  \\\n",
      "648  mult        m   v      1.0      3.0  0.00002  0.000092    2.412342   \n",
      "\n",
      "     k_expected     log_l       ell  \n",
      "648    1.587658  2.056917  0.000054  \n"
     ]
    }
   ],
   "source": [
    "for key in morphs:\n",
    "    for allo in morphs[key]:\n",
    "        res = total.loc[total['morpheme']==allo.strip('-=')].loc[total['gloss']==key[1]]\n",
    "        if len(res)>0:\n",
    "            print(key)\n",
    "            print(res)"
   ]
  },
  {
   "cell_type": "markdown",
   "metadata": {},
   "source": [
    "Они ничего не делают"
   ]
  },
  {
   "cell_type": "markdown",
   "metadata": {},
   "source": [
    "# разбираюсь с конвербами"
   ]
  },
  {
   "cell_type": "code",
   "execution_count": 48,
   "metadata": {
    "collapsed": false
   },
   "outputs": [
    {
     "name": "stdout",
     "output_type": "stream",
     "text": [
      "{'ant.cvb',\n",
      " 'caus.neg.cvb',\n",
      " 'cond.cvb',\n",
      " 'des.neg.cvb',\n",
      " 'dur.cvb',\n",
      " 'imm.cvb',\n",
      " 'impf.cvb',\n",
      " 'mult.cvb',\n",
      " 'neg.cvb',\n",
      " 'nmdl.cvb',\n",
      " 'pf.cvb.Y',\n",
      " 'purp.cvb',\n",
      " 'sim.cvb',\n",
      " 'trm.cvb',\n",
      " 'vr.cvb.Y'}\n"
     ]
    }
   ],
   "source": [
    "cvbs = []\n",
    "for corp in [seb_mor, kam_mor]:\n",
    "    for morph in corp:\n",
    "        if len(morph) > 1 and 'cvb' in morph[1]:\n",
    "            cvbs.append(morph[1].strip('-='))\n",
    "cvbs = set(cvbs)\n",
    "pprint(cvbs)"
   ]
  },
  {
   "cell_type": "code",
   "execution_count": 53,
   "metadata": {
    "collapsed": false
   },
   "outputs": [
    {
     "data": {
      "text/html": [
       "<div>\n",
       "<table border=\"1\" class=\"dataframe\">\n",
       "  <thead>\n",
       "    <tr style=\"text-align: right;\">\n",
       "      <th></th>\n",
       "      <th>gloss</th>\n",
       "      <th>morpheme</th>\n",
       "      <th>pos</th>\n",
       "      <th>s_count</th>\n",
       "      <th>k_count</th>\n",
       "      <th>s_freq</th>\n",
       "      <th>k_freq</th>\n",
       "      <th>s_expected</th>\n",
       "      <th>k_expected</th>\n",
       "      <th>log_l</th>\n",
       "      <th>ell</th>\n",
       "    </tr>\n",
       "  </thead>\n",
       "  <tbody>\n",
       "    <tr>\n",
       "      <th>970</th>\n",
       "      <td>imm.cvb</td>\n",
       "      <td>mnIn</td>\n",
       "      <td>v</td>\n",
       "      <td>0.0</td>\n",
       "      <td>1.0</td>\n",
       "      <td>0.000000</td>\n",
       "      <td>0.000031</td>\n",
       "      <td>0.603085</td>\n",
       "      <td>0.396915</td>\n",
       "      <td>NaN</td>\n",
       "      <td>NaN</td>\n",
       "    </tr>\n",
       "    <tr>\n",
       "      <th>39</th>\n",
       "      <td>purp.cvb</td>\n",
       "      <td>DE</td>\n",
       "      <td>v</td>\n",
       "      <td>307.0</td>\n",
       "      <td>405.0</td>\n",
       "      <td>0.006164</td>\n",
       "      <td>0.012356</td>\n",
       "      <td>429.396818</td>\n",
       "      <td>282.603182</td>\n",
       "      <td>85.455394</td>\n",
       "      <td>0.000183</td>\n",
       "    </tr>\n",
       "    <tr>\n",
       "      <th>26</th>\n",
       "      <td>cond.cvb</td>\n",
       "      <td>REk</td>\n",
       "      <td>v</td>\n",
       "      <td>488.0</td>\n",
       "      <td>197.0</td>\n",
       "      <td>0.009798</td>\n",
       "      <td>0.006010</td>\n",
       "      <td>413.113511</td>\n",
       "      <td>271.886489</td>\n",
       "      <td>35.655486</td>\n",
       "      <td>0.000077</td>\n",
       "    </tr>\n",
       "    <tr>\n",
       "      <th>29</th>\n",
       "      <td>cond.cvb</td>\n",
       "      <td>mI</td>\n",
       "      <td>v</td>\n",
       "      <td>442.0</td>\n",
       "      <td>223.0</td>\n",
       "      <td>0.008875</td>\n",
       "      <td>0.006803</td>\n",
       "      <td>401.051803</td>\n",
       "      <td>263.948197</td>\n",
       "      <td>10.754677</td>\n",
       "      <td>0.000023</td>\n",
       "    </tr>\n",
       "    <tr>\n",
       "      <th>12</th>\n",
       "      <td>sim.cvb</td>\n",
       "      <td>nIkEn</td>\n",
       "      <td>v</td>\n",
       "      <td>1083.0</td>\n",
       "      <td>59.0</td>\n",
       "      <td>0.021745</td>\n",
       "      <td>0.001800</td>\n",
       "      <td>688.723548</td>\n",
       "      <td>453.276452</td>\n",
       "      <td>739.842694</td>\n",
       "      <td>0.001465</td>\n",
       "    </tr>\n",
       "  </tbody>\n",
       "</table>\n",
       "</div>"
      ],
      "text/plain": [
       "        gloss morpheme pos  s_count  k_count    s_freq    k_freq  s_expected  \\\n",
       "970   imm.cvb     mnIn   v      0.0      1.0  0.000000  0.000031    0.603085   \n",
       "39   purp.cvb       DE   v    307.0    405.0  0.006164  0.012356  429.396818   \n",
       "26   cond.cvb      REk   v    488.0    197.0  0.009798  0.006010  413.113511   \n",
       "29   cond.cvb       mI   v    442.0    223.0  0.008875  0.006803  401.051803   \n",
       "12    sim.cvb    nIkEn   v   1083.0     59.0  0.021745  0.001800  688.723548   \n",
       "\n",
       "     k_expected       log_l       ell  \n",
       "970    0.396915         NaN       NaN  \n",
       "39   282.603182   85.455394  0.000183  \n",
       "26   271.886489   35.655486  0.000077  \n",
       "29   263.948197   10.754677  0.000023  \n",
       "12   453.276452  739.842694  0.001465  "
      ]
     },
     "execution_count": 53,
     "metadata": {},
     "output_type": "execute_result"
    }
   ],
   "source": [
    "cvb_pd = []\n",
    "for cvb in cvbs:\n",
    "    if len(cvb_pd)==0:\n",
    "        cvb_pd = total.loc[total['gloss']==cvb]\n",
    "        continue\n",
    "    cvb_pd = pd.concat([cvb_pd, total.loc[total['gloss']==cvb]])\n",
    "cvb_pd.head()"
   ]
  },
  {
   "cell_type": "code",
   "execution_count": 58,
   "metadata": {
    "collapsed": false
   },
   "outputs": [],
   "source": [
    "cvb_pd =cvb_pd.sort_values(['log_l'], ascending=False)"
   ]
  },
  {
   "cell_type": "code",
   "execution_count": 59,
   "metadata": {
    "collapsed": false
   },
   "outputs": [
    {
     "data": {
      "text/html": [
       "<div>\n",
       "<table border=\"1\" class=\"dataframe\">\n",
       "  <thead>\n",
       "    <tr style=\"text-align: right;\">\n",
       "      <th></th>\n",
       "      <th>gloss</th>\n",
       "      <th>morpheme</th>\n",
       "      <th>pos</th>\n",
       "      <th>s_count</th>\n",
       "      <th>k_count</th>\n",
       "      <th>s_freq</th>\n",
       "      <th>k_freq</th>\n",
       "      <th>s_expected</th>\n",
       "      <th>k_expected</th>\n",
       "      <th>log_l</th>\n",
       "      <th>ell</th>\n",
       "    </tr>\n",
       "  </thead>\n",
       "  <tbody>\n",
       "    <tr>\n",
       "      <th>12</th>\n",
       "      <td>sim.cvb</td>\n",
       "      <td>nIkEn</td>\n",
       "      <td>v</td>\n",
       "      <td>1083.0</td>\n",
       "      <td>59.0</td>\n",
       "      <td>0.021745</td>\n",
       "      <td>0.001800</td>\n",
       "      <td>688.723548</td>\n",
       "      <td>453.276452</td>\n",
       "      <td>739.842694</td>\n",
       "      <td>1.464707e-03</td>\n",
       "    </tr>\n",
       "    <tr>\n",
       "      <th>20</th>\n",
       "      <td>ant.cvb</td>\n",
       "      <td>RIdʒI</td>\n",
       "      <td>v</td>\n",
       "      <td>721.0</td>\n",
       "      <td>237.0</td>\n",
       "      <td>0.014477</td>\n",
       "      <td>0.007230</td>\n",
       "      <td>577.755831</td>\n",
       "      <td>380.244169</td>\n",
       "      <td>95.300264</td>\n",
       "      <td>1.942508e-04</td>\n",
       "    </tr>\n",
       "    <tr>\n",
       "      <th>39</th>\n",
       "      <td>purp.cvb</td>\n",
       "      <td>DE</td>\n",
       "      <td>v</td>\n",
       "      <td>307.0</td>\n",
       "      <td>405.0</td>\n",
       "      <td>0.006164</td>\n",
       "      <td>0.012356</td>\n",
       "      <td>429.396818</td>\n",
       "      <td>282.603182</td>\n",
       "      <td>85.455394</td>\n",
       "      <td>1.833427e-04</td>\n",
       "    </tr>\n",
       "    <tr>\n",
       "      <th>26</th>\n",
       "      <td>cond.cvb</td>\n",
       "      <td>REk</td>\n",
       "      <td>v</td>\n",
       "      <td>488.0</td>\n",
       "      <td>197.0</td>\n",
       "      <td>0.009798</td>\n",
       "      <td>0.006010</td>\n",
       "      <td>413.113511</td>\n",
       "      <td>271.886489</td>\n",
       "      <td>35.655486</td>\n",
       "      <td>7.702568e-05</td>\n",
       "    </tr>\n",
       "    <tr>\n",
       "      <th>256</th>\n",
       "      <td>nmdl.cvb</td>\n",
       "      <td>ŋE</td>\n",
       "      <td>v</td>\n",
       "      <td>11.0</td>\n",
       "      <td>33.0</td>\n",
       "      <td>0.000221</td>\n",
       "      <td>0.001007</td>\n",
       "      <td>26.535758</td>\n",
       "      <td>17.464242</td>\n",
       "      <td>22.626085</td>\n",
       "      <td>9.579313e-05</td>\n",
       "    </tr>\n",
       "    <tr>\n",
       "      <th>29</th>\n",
       "      <td>cond.cvb</td>\n",
       "      <td>mI</td>\n",
       "      <td>v</td>\n",
       "      <td>442.0</td>\n",
       "      <td>223.0</td>\n",
       "      <td>0.008875</td>\n",
       "      <td>0.006803</td>\n",
       "      <td>401.051803</td>\n",
       "      <td>263.948197</td>\n",
       "      <td>10.754677</td>\n",
       "      <td>2.335654e-05</td>\n",
       "    </tr>\n",
       "    <tr>\n",
       "      <th>171</th>\n",
       "      <td>trm.cvb</td>\n",
       "      <td>dle</td>\n",
       "      <td>v</td>\n",
       "      <td>31.0</td>\n",
       "      <td>9.0</td>\n",
       "      <td>0.000622</td>\n",
       "      <td>0.000275</td>\n",
       "      <td>24.123417</td>\n",
       "      <td>15.876583</td>\n",
       "      <td>5.332687</td>\n",
       "      <td>2.335554e-05</td>\n",
       "    </tr>\n",
       "    <tr>\n",
       "      <th>23</th>\n",
       "      <td>neg.cvb</td>\n",
       "      <td>R</td>\n",
       "      <td>v</td>\n",
       "      <td>615.0</td>\n",
       "      <td>361.0</td>\n",
       "      <td>0.012348</td>\n",
       "      <td>0.011013</td>\n",
       "      <td>588.611368</td>\n",
       "      <td>387.388632</td>\n",
       "      <td>3.005602</td>\n",
       "      <td>6.107191e-06</td>\n",
       "    </tr>\n",
       "    <tr>\n",
       "      <th>304</th>\n",
       "      <td>dur.cvb</td>\n",
       "      <td>mnIn</td>\n",
       "      <td>v</td>\n",
       "      <td>7.0</td>\n",
       "      <td>3.0</td>\n",
       "      <td>0.000141</td>\n",
       "      <td>0.000092</td>\n",
       "      <td>6.030854</td>\n",
       "      <td>3.969146</td>\n",
       "      <td>0.406669</td>\n",
       "      <td>3.572178e-06</td>\n",
       "    </tr>\n",
       "    <tr>\n",
       "      <th>230</th>\n",
       "      <td>trm.cvb</td>\n",
       "      <td>kEn</td>\n",
       "      <td>v</td>\n",
       "      <td>14.0</td>\n",
       "      <td>9.0</td>\n",
       "      <td>0.000281</td>\n",
       "      <td>0.000275</td>\n",
       "      <td>13.870965</td>\n",
       "      <td>9.129035</td>\n",
       "      <td>0.003029</td>\n",
       "      <td>1.658669e-08</td>\n",
       "    </tr>\n",
       "    <tr>\n",
       "      <th>970</th>\n",
       "      <td>imm.cvb</td>\n",
       "      <td>mnIn</td>\n",
       "      <td>v</td>\n",
       "      <td>0.0</td>\n",
       "      <td>1.0</td>\n",
       "      <td>0.000000</td>\n",
       "      <td>0.000031</td>\n",
       "      <td>0.603085</td>\n",
       "      <td>0.396915</td>\n",
       "      <td>NaN</td>\n",
       "      <td>NaN</td>\n",
       "    </tr>\n",
       "    <tr>\n",
       "      <th>698</th>\n",
       "      <td>caus.neg.cvb</td>\n",
       "      <td>WkEn</td>\n",
       "      <td>v</td>\n",
       "      <td>1.0</td>\n",
       "      <td>0.0</td>\n",
       "      <td>0.000020</td>\n",
       "      <td>0.000000</td>\n",
       "      <td>0.603085</td>\n",
       "      <td>0.396915</td>\n",
       "      <td>NaN</td>\n",
       "      <td>NaN</td>\n",
       "    </tr>\n",
       "    <tr>\n",
       "      <th>138</th>\n",
       "      <td>impf.cvb</td>\n",
       "      <td>ŋsI</td>\n",
       "      <td>v</td>\n",
       "      <td>44.0</td>\n",
       "      <td>0.0</td>\n",
       "      <td>0.000883</td>\n",
       "      <td>0.000000</td>\n",
       "      <td>26.535758</td>\n",
       "      <td>17.464242</td>\n",
       "      <td>NaN</td>\n",
       "      <td>NaN</td>\n",
       "    </tr>\n",
       "    <tr>\n",
       "      <th>548</th>\n",
       "      <td>vr.cvb.Y</td>\n",
       "      <td>dan</td>\n",
       "      <td>?</td>\n",
       "      <td>1.0</td>\n",
       "      <td>0.0</td>\n",
       "      <td>0.000020</td>\n",
       "      <td>0.000000</td>\n",
       "      <td>0.603085</td>\n",
       "      <td>0.396915</td>\n",
       "      <td>NaN</td>\n",
       "      <td>NaN</td>\n",
       "    </tr>\n",
       "    <tr>\n",
       "      <th>659</th>\n",
       "      <td>vr.cvb.Y</td>\n",
       "      <td>dan</td>\n",
       "      <td>adv</td>\n",
       "      <td>1.0</td>\n",
       "      <td>0.0</td>\n",
       "      <td>0.000020</td>\n",
       "      <td>0.000000</td>\n",
       "      <td>0.603085</td>\n",
       "      <td>0.396915</td>\n",
       "      <td>NaN</td>\n",
       "      <td>NaN</td>\n",
       "    </tr>\n",
       "    <tr>\n",
       "      <th>1042</th>\n",
       "      <td>vr.cvb.Y</td>\n",
       "      <td>dan</td>\n",
       "      <td>v</td>\n",
       "      <td>0.0</td>\n",
       "      <td>1.0</td>\n",
       "      <td>0.000000</td>\n",
       "      <td>0.000031</td>\n",
       "      <td>0.603085</td>\n",
       "      <td>0.396915</td>\n",
       "      <td>NaN</td>\n",
       "      <td>NaN</td>\n",
       "    </tr>\n",
       "    <tr>\n",
       "      <th>88</th>\n",
       "      <td>mult.cvb</td>\n",
       "      <td>ntEkEn</td>\n",
       "      <td>v</td>\n",
       "      <td>101.0</td>\n",
       "      <td>0.0</td>\n",
       "      <td>0.002028</td>\n",
       "      <td>0.000000</td>\n",
       "      <td>60.911627</td>\n",
       "      <td>40.088373</td>\n",
       "      <td>NaN</td>\n",
       "      <td>NaN</td>\n",
       "    </tr>\n",
       "    <tr>\n",
       "      <th>404</th>\n",
       "      <td>trm.cvb</td>\n",
       "      <td>klEːkE</td>\n",
       "      <td>v</td>\n",
       "      <td>4.0</td>\n",
       "      <td>0.0</td>\n",
       "      <td>0.000080</td>\n",
       "      <td>0.000000</td>\n",
       "      <td>2.412342</td>\n",
       "      <td>1.587658</td>\n",
       "      <td>NaN</td>\n",
       "      <td>NaN</td>\n",
       "    </tr>\n",
       "    <tr>\n",
       "      <th>269</th>\n",
       "      <td>pf.cvb.Y</td>\n",
       "      <td>An</td>\n",
       "      <td>v</td>\n",
       "      <td>10.0</td>\n",
       "      <td>0.0</td>\n",
       "      <td>0.000201</td>\n",
       "      <td>0.000000</td>\n",
       "      <td>6.030854</td>\n",
       "      <td>3.969146</td>\n",
       "      <td>NaN</td>\n",
       "      <td>NaN</td>\n",
       "    </tr>\n",
       "    <tr>\n",
       "      <th>605</th>\n",
       "      <td>pf.cvb.Y</td>\n",
       "      <td>An</td>\n",
       "      <td>?</td>\n",
       "      <td>1.0</td>\n",
       "      <td>0.0</td>\n",
       "      <td>0.000020</td>\n",
       "      <td>0.000000</td>\n",
       "      <td>0.603085</td>\n",
       "      <td>0.396915</td>\n",
       "      <td>NaN</td>\n",
       "      <td>NaN</td>\n",
       "    </tr>\n",
       "    <tr>\n",
       "      <th>626</th>\n",
       "      <td>des.neg.cvb</td>\n",
       "      <td>m</td>\n",
       "      <td>v</td>\n",
       "      <td>1.0</td>\n",
       "      <td>0.0</td>\n",
       "      <td>0.000020</td>\n",
       "      <td>0.000000</td>\n",
       "      <td>0.603085</td>\n",
       "      <td>0.396915</td>\n",
       "      <td>NaN</td>\n",
       "      <td>NaN</td>\n",
       "    </tr>\n",
       "  </tbody>\n",
       "</table>\n",
       "</div>"
      ],
      "text/plain": [
       "             gloss morpheme  pos  s_count  k_count    s_freq    k_freq  \\\n",
       "12         sim.cvb    nIkEn    v   1083.0     59.0  0.021745  0.001800   \n",
       "20         ant.cvb    RIdʒI    v    721.0    237.0  0.014477  0.007230   \n",
       "39        purp.cvb       DE    v    307.0    405.0  0.006164  0.012356   \n",
       "26        cond.cvb      REk    v    488.0    197.0  0.009798  0.006010   \n",
       "256       nmdl.cvb       ŋE    v     11.0     33.0  0.000221  0.001007   \n",
       "29        cond.cvb       mI    v    442.0    223.0  0.008875  0.006803   \n",
       "171        trm.cvb      dle    v     31.0      9.0  0.000622  0.000275   \n",
       "23         neg.cvb        R    v    615.0    361.0  0.012348  0.011013   \n",
       "304        dur.cvb     mnIn    v      7.0      3.0  0.000141  0.000092   \n",
       "230        trm.cvb      kEn    v     14.0      9.0  0.000281  0.000275   \n",
       "970        imm.cvb     mnIn    v      0.0      1.0  0.000000  0.000031   \n",
       "698   caus.neg.cvb     WkEn    v      1.0      0.0  0.000020  0.000000   \n",
       "138       impf.cvb      ŋsI    v     44.0      0.0  0.000883  0.000000   \n",
       "548       vr.cvb.Y      dan    ?      1.0      0.0  0.000020  0.000000   \n",
       "659       vr.cvb.Y      dan  adv      1.0      0.0  0.000020  0.000000   \n",
       "1042      vr.cvb.Y      dan    v      0.0      1.0  0.000000  0.000031   \n",
       "88        mult.cvb   ntEkEn    v    101.0      0.0  0.002028  0.000000   \n",
       "404        trm.cvb   klEːkE    v      4.0      0.0  0.000080  0.000000   \n",
       "269       pf.cvb.Y       An    v     10.0      0.0  0.000201  0.000000   \n",
       "605       pf.cvb.Y       An    ?      1.0      0.0  0.000020  0.000000   \n",
       "626    des.neg.cvb        m    v      1.0      0.0  0.000020  0.000000   \n",
       "\n",
       "      s_expected  k_expected       log_l           ell  \n",
       "12    688.723548  453.276452  739.842694  1.464707e-03  \n",
       "20    577.755831  380.244169   95.300264  1.942508e-04  \n",
       "39    429.396818  282.603182   85.455394  1.833427e-04  \n",
       "26    413.113511  271.886489   35.655486  7.702568e-05  \n",
       "256    26.535758   17.464242   22.626085  9.579313e-05  \n",
       "29    401.051803  263.948197   10.754677  2.335654e-05  \n",
       "171    24.123417   15.876583    5.332687  2.335554e-05  \n",
       "23    588.611368  387.388632    3.005602  6.107191e-06  \n",
       "304     6.030854    3.969146    0.406669  3.572178e-06  \n",
       "230    13.870965    9.129035    0.003029  1.658669e-08  \n",
       "970     0.603085    0.396915         NaN           NaN  \n",
       "698     0.603085    0.396915         NaN           NaN  \n",
       "138    26.535758   17.464242         NaN           NaN  \n",
       "548     0.603085    0.396915         NaN           NaN  \n",
       "659     0.603085    0.396915         NaN           NaN  \n",
       "1042    0.603085    0.396915         NaN           NaN  \n",
       "88     60.911627   40.088373         NaN           NaN  \n",
       "404     2.412342    1.587658         NaN           NaN  \n",
       "269     6.030854    3.969146         NaN           NaN  \n",
       "605     0.603085    0.396915         NaN           NaN  \n",
       "626     0.603085    0.396915         NaN           NaN  "
      ]
     },
     "execution_count": 59,
     "metadata": {},
     "output_type": "execute_result"
    }
   ],
   "source": [
    "cvb_pd"
   ]
  },
  {
   "cell_type": "code",
   "execution_count": 60,
   "metadata": {
    "collapsed": true
   },
   "outputs": [],
   "source": [
    "cvb_pd.to_pickle('converbs.pickle')"
   ]
  },
  {
   "cell_type": "markdown",
   "metadata": {},
   "source": [
    "# 1\n",
    "это уже начато там\n",
    "морфемы лежат в отдельном словаре, кажется; нужно приложить это знание на таблицу?\n",
    "или создать уже наконец промежуточное представление всего"
   ]
  },
  {
   "cell_type": "markdown",
   "metadata": {},
   "source": [
    "# 2\n",
    "сочетания морфем\n",
    "\n",
    "сначала надо вытащить представления (кажется это уже сделано)\n",
    "\n",
    "пройтись по всему, растащить каждое слово на пары морфем, первая (ROOT, morph), последняя (morph, END)\n"
   ]
  },
  {
   "cell_type": "markdown",
   "metadata": {
    "collapsed": true
   },
   "source": [
    "Сочетания хи-квадратом vs. то же самое что с одиночными морфемами но для биграммов!!!11!"
   ]
  },
  {
   "cell_type": "code",
   "execution_count": 61,
   "metadata": {
    "collapsed": false
   },
   "outputs": [
    {
     "name": "stdout",
     "output_type": "stream",
     "text": [
      "105395\n",
      "105394\n"
     ]
    }
   ],
   "source": [
    "# это очень тупое решение на O(n**2) чуть ли не но у меня так мало данных что плевать\n",
    "k_morph_pairs_list = [(kam_mor[x], kam_mor[x+1]) for x in range(len(kam_mor)-1)]\n",
    "s_morph_pairs_list = [(seb_mor[x], seb_mor[x+1]) for x in range(len(seb_mor)-1)]\n",
    "print(len(kam_mor))\n",
    "print(len(k_morph_pairs_list))"
   ]
  },
  {
   "cell_type": "code",
   "execution_count": 62,
   "metadata": {
    "collapsed": true
   },
   "outputs": [],
   "source": [
    "from collections import Counter\n",
    "# вытаскиваю все морфемы из первого слота, считаю, с чем они сочитаются, записываю в словарь\n",
    "k_morph_pairs_dict = {x: Counter([pair for pair in k_morph_pairs_list if pair[0]==x]) for x in set(map(lambda pair: pair[0], k_morph_pairs_list))}"
   ]
  },
  {
   "cell_type": "code",
   "execution_count": 63,
   "metadata": {
    "collapsed": true
   },
   "outputs": [],
   "source": [
    "s_morph_pairs_dict = {x: Counter([pair for pair in s_morph_pairs_list if pair[0]==x]) for x in set(map(lambda pair: pair[0], s_morph_pairs_list))}"
   ]
  },
  {
   "cell_type": "code",
   "execution_count": 66,
   "metadata": {
    "collapsed": false
   },
   "outputs": [
    {
     "data": {
      "text/plain": [
       "Counter({(('-WEːČ', '-gnr', 'v'), ('-nrI', '-2sg', 'v')): 3,\n",
       "         (('-WEːČ', '-gnr', 'v'), ('-ldIwUn', '-nr', 'v')): 2,\n",
       "         (('-WEːČ', '-gnr', 'v'), ('-mI', '-vr', 'v')): 1,\n",
       "         (('-WEːČ', '-gnr', 'v'), ('-L', '-inch', 'v')): 2,\n",
       "         (('-WEːČ', '-gnr', 'v'), ('-RI', '-impf.ptc', 'v')): 5,\n",
       "         (('-WEːČ', '-gnr', 'v'), (1,)): 12,\n",
       "         (('-WEːČ', '-gnr', 'v'), ('-ŋE', '-nmdl.cvb', 'v')): 2,\n",
       "         (('-WEːČ', '-gnr', 'v'), ('-D', '-prog', 'v')): 6,\n",
       "         (('-WEːČ', '-gnr', 'v'), ('-(R)U', '-1pl.ex', 'v')): 195,\n",
       "         (('-WEːČ', '-gnr', 'v'), ('=DE', '=ptl', 'v')): 1,\n",
       "         (('-WEːČ', '-gnr', 'v'), ('-DE', '-purp.cvb', 'v')): 2,\n",
       "         (('-WEːČ', '-gnr', 'v'), ('-RI', '-pst', 'v')): 18,\n",
       "         (('-WEːČ', '-gnr', 'v'), ('-DʒI', '-fut', 'v')): 3,\n",
       "         (('-WEːČ', '-gnr', 'v'), ('-WkEn', '-caus', 'v')): 1,\n",
       "         (('-WEːČ', '-gnr', 'v'), ('-RIdʒI', '-ant.cvb', 'v')): 1,\n",
       "         (('-WEːČ', '-gnr', 'v'), ('-m', '-des', 'v')): 1,\n",
       "         (('-WEːČ', '-gnr', 'v'), ('-R', '-neg.cvb', 'v')): 79,\n",
       "         (('-WEːČ', '-gnr', 'v'), ('-R(U)', '-1pl.ex', 'v')): 1,\n",
       "         (('-WEːČ', '-gnr', 'v'), ('-s', '-2pl', 'v')): 2,\n",
       "         (('-WEːČ', '-gnr', 'v'), ('-WEːČ', '-gnr', 'v')): 13,\n",
       "         (('-WEːČ', '-gnr', 'v'), ('-R(E)', '-nonfut', 'v')): 1506,\n",
       "         (('-WEːČ', '-gnr', 'v'), ('-D(I)ŋE', '-fut.ptcp', 'v')): 1,\n",
       "         (('-WEːČ', '-gnr', 'v'), ('-mEgEn', '-nr', 'v')): 1,\n",
       "         (('-WEːČ', '-gnr', 'v'), ('-E', '-ep', 'v')): 33})"
      ]
     },
     "execution_count": 66,
     "metadata": {},
     "output_type": "execute_result"
    }
   ],
   "source": [
    "k_morph_pairs_dict[('-WEːČ', '-gnr', 'v')]"
   ]
  },
  {
   "cell_type": "code",
   "execution_count": null,
   "metadata": {
    "collapsed": true
   },
   "outputs": [],
   "source": []
  }
 ],
 "metadata": {
  "kernelspec": {
   "display_name": "Python 3",
   "language": "python",
   "name": "python3"
  },
  "language_info": {
   "codemirror_mode": {
    "name": "ipython",
    "version": 3
   },
   "file_extension": ".py",
   "mimetype": "text/x-python",
   "name": "python",
   "nbconvert_exporter": "python",
   "pygments_lexer": "ipython3",
   "version": "3.5.2"
  }
 },
 "nbformat": 4,
 "nbformat_minor": 0
}
