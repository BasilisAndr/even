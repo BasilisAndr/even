{
 "cells": [
  {
   "cell_type": "markdown",
   "metadata": {},
   "source": [
    "Здесь будут исправления и исправления и исправления"
   ]
  },
  {
   "cell_type": "code",
   "execution_count": 23,
   "metadata": {
    "collapsed": false
   },
   "outputs": [],
   "source": [
    "import re, os\n",
    "\n",
    "\n",
    "def morphs_2_words(line):\n",
    "    '''берёт на вход массив расчленённой строки, возвращает массив слов'''\n",
    "    words, word = [], []\n",
    "    for morph in line:\n",
    "        print(morph)\n",
    "        if morph.strip()[0] in '=-':\n",
    "            word.append(morph)\n",
    "        else:\n",
    "            if len(word) > 0:\n",
    "                words.append(word)\n",
    "            word = [morph]\n",
    "    words.append(word)\n",
    "    return words\n",
    "\n",
    "\n",
    "def read_file(fname):\n",
    "    with open(fname) as f:\n",
    "        text = f.readlines()\n",
    "    return text\n",
    "\n",
    "\n",
    "def replacer(line, what, how, index):\n",
    "    count = 0\n",
    "    start = re.split('\\s', line)\n",
    "    for i in range(len(start)):\n",
    "        if start[i] != '':\n",
    "            if count in index:\n",
    "                start[i] = how\n",
    "            count += 1\n",
    "    finish = ' '.join(start)\n",
    "    return finish\n",
    "\n",
    "\n",
    "def searcher(content, patterns=('-nr', 'v', 'n'), rows=('\\ge', '\\ps')):\n",
    "    wachaut = False\n",
    "    for i in range(len(content)):\n",
    "        if content[i].startswith(rows[0]):\n",
    "            if patterns[0] in content[i].split():\n",
    "                wachaut = [i for i, x in enumerate(morphs_2_words(content[i].split())) if patterns[0] in x]\n",
    "        elif wachaut and content[i].startswith(rows[1]):\n",
    "            content[i] = replacer(content[i], patterns[1], patterns[2], wachaut)\n",
    "            wachaut = False\n",
    "    return content\n",
    "\n",
    "def writer(content, fname):\n",
    "    with open(fname, 'w') as f:\n",
    "        f.write('\\n'.join(content))\n",
    "\n",
    "def main(corp):\n",
    "    dir = 'Corpus_Text_{}_postagged'.format(corp)\n",
    "    for file in os.listdir(dir):\n",
    "        writer(searcher(read_file(os.path.join(dir, file))))"
   ]
  },
  {
   "cell_type": "code",
   "execution_count": 24,
   "metadata": {
    "collapsed": false
   },
   "outputs": [
    {
     "name": "stdout",
     "output_type": "stream",
     "text": [
      "\\ge\n",
      "rik\n",
      "-su\n",
      "-nr\n",
      "=gen\n",
      "fue\n",
      "ba\n",
      "-rj\n"
     ]
    },
    {
     "data": {
      "text/plain": [
       "['',\n",
       " '\\\\mb eti -rhb -eruybsu =sv   fug rs   -d',\n",
       " '\\\\ge rik -su  -nr      =gen  fue ba    -rj ',\n",
       " '\\\\ps n                       n   v  ',\n",
       " '',\n",
       " '']"
      ]
     },
     "execution_count": 24,
     "metadata": {},
     "output_type": "execute_result"
    }
   ],
   "source": [
    "piece = \"\"\"\n",
    "\\mb eti -rhb -eruybsu =sv   fug rs   -d\n",
    "\\ge rik -su  -nr      =gen  fue ba    -rj \n",
    "\\ps v                       n   v  \n",
    "\n",
    "\"\"\"\n",
    "\n",
    "searcher(piece.split('\\n'))"
   ]
  },
  {
   "cell_type": "code",
   "execution_count": 25,
   "metadata": {
    "collapsed": false
   },
   "outputs": [],
   "source": [
    "corpora = ['Kamchatka', 'Sebjan']"
   ]
  },
  {
   "cell_type": "code",
   "execution_count": null,
   "metadata": {
    "collapsed": true
   },
   "outputs": [],
   "source": [
    "for corp in corpora:\n",
    "    "
   ]
  }
 ],
 "metadata": {
  "kernelspec": {
   "display_name": "Python 3",
   "language": "python",
   "name": "python3"
  },
  "language_info": {
   "codemirror_mode": {
    "name": "ipython",
    "version": 3
   },
   "file_extension": ".py",
   "mimetype": "text/x-python",
   "name": "python",
   "nbconvert_exporter": "python",
   "pygments_lexer": "ipython3",
   "version": "3.5.2"
  }
 },
 "nbformat": 4,
 "nbformat_minor": 0
}
