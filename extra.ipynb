{
 "cells": [
  {
   "cell_type": "markdown",
   "metadata": {},
   "source": [
    "Наброски кода для\n",
    "0. сведения алломорфов морфем в одно (хотя бы в таблице)\n",
    "1. подсчёта сочетаний морфем\n",
    "2. вытаскивания конвербов\n",
    "3. вытаскивания цепочек частей речи"
   ]
  },
  {
   "cell_type": "markdown",
   "metadata": {},
   "source": [
    "Все манипуляции можно тестировать на корпусах, которые в почте."
   ]
  },
  {
   "cell_type": "markdown",
   "metadata": {},
   "source": [
    "# 0\n",
    "Действительно надо вытащить всё, положить в словарину и радоваться\n",
    "\n",
    "Формат:\n",
    "\n",
    "`корпус{\n",
    "    название:документ{    # done\n",
    "        мета:мета,    # done\n",
    "        текст:[\n",
    "            предложение{\n",
    "                слой:[\n",
    "                    морфемы\n",
    "                    ],\n",
    "                перевод:''\n",
    "            }\n",
    "        ]\n",
    "    }\n",
    "}`"
   ]
  },
  {
   "cell_type": "code",
   "execution_count": 4,
   "metadata": {
    "collapsed": true
   },
   "outputs": [],
   "source": [
    "corpora = ['Kamchatka', 'Sebjan']"
   ]
  },
  {
   "cell_type": "code",
   "execution_count": 3,
   "metadata": {
    "collapsed": true
   },
   "outputs": [],
   "source": [
    "import os, re, pickle\n",
    "from pprint import pprint"
   ]
  },
  {
   "cell_type": "code",
   "execution_count": 4,
   "metadata": {
    "collapsed": false
   },
   "outputs": [],
   "source": [
    "def morphs_2_words(line):\n",
    "    '''берёт на вход массив расчленённой строки, возвращает массив слов'''\n",
    "    words = []\n",
    "    word = []\n",
    "    for morph in line:\n",
    "        if morph.strip()[0] in '=-':\n",
    "            word.append(morph)\n",
    "        else:\n",
    "            if len(word) > 0:\n",
    "                words.append(word)\n",
    "            word = [morph]\n",
    "    words.append(word)\n",
    "    return words\n",
    "\n",
    "\n",
    "def handle_startline(line, res, current_layer):\n",
    "    line = line.split()\n",
    "    layer = line[0].strip('\\\\')\n",
    "    parted_layers = ['tx', 'mb', 'ge', 'ps']\n",
    "    if not (len(line) == 1): # чтобы не считать пустые строки\n",
    "        if layer in parted_layers:\n",
    "            line_content = morphs_2_words(line[1:]) # делим на слова, состоящие из морфем\n",
    "        else:\n",
    "            line_content = [' '.join(line[1:])] # просто целые строки (комментарии и тп)\n",
    "            current_layer = layer\n",
    "        if layer in res and res[layer][0] != '':\n",
    "            res[layer] += line_content\n",
    "        else:\n",
    "            res[layer] = line_content\n",
    "    return res, current_layer\n",
    "\n",
    "\n",
    "def lines_2_dict(part):\n",
    "    '''\n",
    "    i: кусок текста (предложение) в несколько строк, в каждой строке несколько слоёв, и с другими данными предложения\n",
    "    o: джейсонина вида {'слой': [сл, о, ва], 'слой': содержимое}\n",
    "    доп. ограничения: длина всех строк-массивов равна\n",
    "    '''\n",
    "    res = {}\n",
    "    lines = [line for line in part.split('\\n') if len(line) > 1]\n",
    "    res['index'] = [lines[0].split('_')[-1]]\n",
    "    parted_layers = ['tx', 'mb', 'ge', 'ps']\n",
    "    current_layer = '' # для переносов\n",
    "    for line in lines[1:]:\n",
    "        if line.startswith('\\\\'):\n",
    "            res, current_layer = handle_startline(line, res, current_layer)\n",
    "        else:\n",
    "            if current_layer:\n",
    "                res[current_layer][0] += ' ' + line\n",
    "    return res\n",
    "\n",
    "\n",
    "def check_len(p_sent, fil):\n",
    "    parted_layers = ['mb', 'ge', 'ps']\n",
    "    selected_layers = [key for key in p_sent if key in parted_layers and len(p_sent[key])>1]\n",
    "    # 1. check that the number of words is the same\n",
    "    lengths = set([len(p_sent[key]) for key in selected_layers])\n",
    "    if len(lengths) > 1:\n",
    "        print('Error in {}, here:'.format(fil))\n",
    "        print(lengths)\n",
    "        for l in selected_layers:\n",
    "            print(len(p_sent[l]))\n",
    "            pprint(p_sent[l])\n",
    "        return lengths\n",
    "    # 2. check that morphemes are aligned\n",
    "    if 'mb' in selected_layers and 'ge' in selected_layers:\n",
    "        for i in range(len(p_sent['ge'])):\n",
    "            if len(p_sent['ge'][i]) != len(p_sent['mb'][i]):\n",
    "                print('што-то слиплось в {}'.format(fil))\n",
    "                pprint(p_sent)\n",
    "    return lengths\n",
    "\n",
    "\n",
    "def make_readable(corp):\n",
    "    \"переводит текст корпусов в удобомашиночитаемую джейсонину\"\n",
    "    folder = 'Corpus_Text_{}_postagged'.format(corp)\n",
    "    corpus_dict = {}\n",
    "    for fil in os.listdir(folder):\n",
    "        if 'pyzhik' in fil:\n",
    "            continue\n",
    "        if not fil.endswith('.txt'):\n",
    "            continue\n",
    "        with open(os.path.join(folder, fil), 'r') as f:\n",
    "            text = f.read()\n",
    "        file_content, text_content = {}, []\n",
    "        sents = text.split('\\id')\n",
    "        file_content['meta'] = sents[1] # metainfo at the beginning of the file; not parsed\n",
    "        for sent in sents[2:]:\n",
    "            sent_content = lines_2_dict(sent)\n",
    "            check_len(sent_content, fil)\n",
    "            text_content.append(sent_content)\n",
    "        file_content['text'] = text_content\n",
    "        corpus_dict[fil] = file_content\n",
    "    with open('{}.pickle'.format(corp), 'wb') as f:\n",
    "        pickle.dump(corpus_dict, f)\n",
    "    return corpus_dict"
   ]
  },
  {
   "cell_type": "code",
   "execution_count": 60,
   "metadata": {
    "collapsed": false,
    "scrolled": true
   },
   "outputs": [],
   "source": [
    "for corp in corpora:\n",
    "    make_readable(corp)"
   ]
  },
  {
   "cell_type": "code",
   "execution_count": 27,
   "metadata": {
    "collapsed": false
   },
   "outputs": [],
   "source": [
    "def detect(what, where, replace=False, corpora=corpora, show=True):\n",
    "    for corpus in corpora:\n",
    "        hits = []\n",
    "        with open('{}.pickle'.format(corpus), 'rb') as f:\n",
    "            content = pickle.load(f)\n",
    "        for doc in content:\n",
    "            for i in range(len(content[doc]['text'])): # looping through sentences\n",
    "                if not where in content[doc]['text'][i]:\n",
    "                    continue\n",
    "                for word in content[doc]['text'][i][where]:\n",
    "                    if what in word:\n",
    "                        print('Found in {}, {} at {}'.format(corpus, doc, i))\n",
    "                        if show:\n",
    "                            pprint(content[doc]['text'][i])\n",
    "                        hits.append(doc)\n",
    "        if len(hits) == 0:\n",
    "            print('noth found. cool! or not?')\n",
    "        else:\n",
    "            inp = input('correct all these ({} hits) & press Enter and I\\'ll reload.\\n'.format(len(hits)))\n",
    "            if replace:\n",
    "                target = replace\n",
    "                for doc in list(set(hits)):\n",
    "                    with open(os.path.join('Corpus_Text_{}_postagged'.format(corpus), doc), 'r') as f:\n",
    "                        text = f.read()\n",
    "                    a_hits = re.findall('{}\\\\b'.format(what), text)\n",
    "                    while len(a_hits) > len(hits):\n",
    "                        print('what is not accurate. see what\\'d be affected')\n",
    "                        pprint(a_hits[:15])\n",
    "                        what = input('change the what: ')\n",
    "                        a_hits = re.findall('{} '.format(what.replace('.', '\\.')), text)\n",
    "                    text = re.sub('{}(\\\\b)'.format(what.replace('.', '\\.')), '{}\\\\1'.format(target), text)\n",
    "                    with open(os.path.join('Corpus_Text_{}_postagged'.format(corpus), doc), 'w') as f:\n",
    "                        f.write(text)\n",
    "            make_readable(corpus)\n",
    "            print('done!')"
   ]
  },
  {
   "cell_type": "code",
   "execution_count": 43,
   "metadata": {
    "collapsed": false
   },
   "outputs": [
    {
     "name": "stdout",
     "output_type": "stream",
     "text": [
      "noth found. cool! or not?\n",
      "noth found. cool! or not?\n",
      "noth found. cool! or not?\n",
      "noth found. cool! or not?\n",
      "noth found. cool! or not?\n",
      "noth found. cool! or not?\n",
      "noth found. cool! or not?\n",
      "noth found. cool! or not?\n",
      "\n",
      "\n",
      "regalar nfs done\n",
      "\n",
      "noth found. cool! or not?\n",
      "noth found. cool! or not?\n",
      "noth found. cool! or not?\n",
      "noth found. cool! or not?\n",
      "noth found. cool! or not?\n",
      "Found in Sebjan, SlepcovaNA_her_class.txt at 27\n",
      "Found in Sebjan, Zaxarova_JP_pear_story.txt at 21\n",
      "correct all these (2 hits) & press Enter and I'll reload.\n",
      "\n",
      "done!\n",
      "noth found. cool! or not?\n",
      "noth found. cool! or not?\n",
      "noth found. cool! or not?\n",
      "noth found. cool! or not?\n",
      "noth found. cool! or not?\n",
      "noth found. cool! or not?\n",
      "noth found. cool! or not?\n",
      "Found in Sebjan, Krivoshapkina_AE_childhood.txt at 114\n",
      "Found in Sebjan, Krivoshapkin_DM_Segen.txt at 40\n",
      "Found in Sebjan, Krivoshapkin_DM_Segen.txt at 40\n",
      "correct all these (3 hits) & press Enter and I'll reload.\n",
      "\n",
      "done!\n",
      "noth found. cool! or not?\n",
      "noth found. cool! or not?\n"
     ]
    }
   ],
   "source": [
    "nfs = ['-nonfut3pl', '-nonfut3sg', '-nonfut.3pl', '-nonfut.3sg']\n",
    "for nf in nfs:\n",
    "    detect(nf, 'ge', replace='-nonfut', show=False)\n",
    "print('\\n\\nregalar nfs done\\n')\n",
    "other_nfs = ['-hab.nonfut3pl', '-hab.nonfut3sg', '-hab.nonfut.3pl', '-hab.nonfut.3sg']\n",
    "for nf in other_nfs:\n",
    "    detect(nf, 'ge', replace='-hab.nonfut', show=False)\n",
    "other_nfs = ['-caus.nonfut3pl', '-caus.nonfut3sg', '-caus.nonfut.3pl', '-caus.nonfut.3sg']\n",
    "for nf in other_nfs:\n",
    "    detect(nf, 'ge', replace='-caus.nonfut', show=False)"
   ]
  },
  {
   "cell_type": "markdown",
   "metadata": {},
   "source": [
    "Здесь повторяю таблицу которая была"
   ]
  },
  {
   "cell_type": "code",
   "execution_count": 2,
   "metadata": {
    "collapsed": true
   },
   "outputs": [],
   "source": [
    "import numpy as np\n",
    "import pandas as pd "
   ]
  },
  {
   "cell_type": "code",
   "execution_count": 108,
   "metadata": {
    "collapsed": true
   },
   "outputs": [],
   "source": [
    "def extract_morphs(corpus):\n",
    "    with open('{}.pickle'.format(corpus), 'rb') as f:\n",
    "        content = pickle.load(f)\n",
    "    morphs = []\n",
    "    for doc in content:\n",
    "        for sent in content[doc]['text']:\n",
    "            if 'mb' in sent and 'ge' in sent and 'ps' in sent:\n",
    "                for i in range(len(sent['mb'])):\n",
    "                    morphs.append(tuple([0]))\n",
    "                    ps = sent['ps'][i][0]\n",
    "                    for l in range(1, len(sent['mb'][i])):\n",
    "                        try:\n",
    "                            morphs.append((sent['mb'][i][l], sent['ge'][i][l], ps))\n",
    "                        except:\n",
    "                            print(doc)\n",
    "                            pprint(sent)\n",
    "                    morphs.append(tuple([1]))\n",
    "    with open('{}_morphemes.pickle'.format(corpus), 'wb') as f:\n",
    "        pickle.dump(morphs, f)\n",
    "    print(len(morphs))\n",
    "    pprint(morphs[:15])"
   ]
  },
  {
   "cell_type": "code",
   "execution_count": 109,
   "metadata": {
    "collapsed": false
   },
   "outputs": [
    {
     "name": "stdout",
     "output_type": "stream",
     "text": [
      "105395\n",
      "[(0,),\n",
      " ('-L', '-pl', 'n'),\n",
      " ('-W', '-acc', 'n'),\n",
      " (1,),\n",
      " (0,),\n",
      " ('-L', '-pl', 'n'),\n",
      " ('-W', '-acc', 'n'),\n",
      " (1,),\n",
      " (0,),\n",
      " (1,),\n",
      " (0,),\n",
      " ('-W', '-poss.1sg', 'n'),\n",
      " (1,),\n",
      " (0,),\n",
      " ('-WkEn', '-caus', 'v')]\n",
      "149704\n",
      "[(0,),\n",
      " ('-WEːČ', '-gnr', 'v'),\n",
      " ('-RI', '-impf.ptc', 'v'),\n",
      " (1,),\n",
      " (0,),\n",
      " (1,),\n",
      " (0,),\n",
      " (1,),\n",
      " (0,),\n",
      " ('-(dU)LE', '-loc', 'n'),\n",
      " (1,),\n",
      " (0,),\n",
      " ('-B', '-med', 'v'),\n",
      " ('-DEŋ', '-pst.ptc', 'v'),\n",
      " ('-E', '-ep', 'v')]\n"
     ]
    }
   ],
   "source": [
    "for corp in corpora:\n",
    "    extract_morphs(corp)"
   ]
  },
  {
   "cell_type": "code",
   "execution_count": 47,
   "metadata": {
    "collapsed": false
   },
   "outputs": [],
   "source": [
    "with open('Kamchatka_morphemes.pickle', 'rb') as f:\n",
    "    kam_mor = pickle.load(f)\n",
    "with open('Sebjan_morphemes.pickle', 'rb') as f:\n",
    "    seb_mor = pickle.load(f)"
   ]
  },
  {
   "cell_type": "code",
   "execution_count": 8,
   "metadata": {
    "collapsed": false
   },
   "outputs": [],
   "source": [
    "from collections import Counter\n",
    "\n",
    "seb_count = Counter(seb_mor)\n",
    "kam_count = Counter(kam_mor)"
   ]
  },
  {
   "cell_type": "code",
   "execution_count": 9,
   "metadata": {
    "collapsed": false
   },
   "outputs": [
    {
     "name": "stdout",
     "output_type": "stream",
     "text": [
      "49804\n",
      "32778\n"
     ]
    }
   ],
   "source": [
    "# число слов в каждом\n",
    "# в прошлый раз было 34933 на камчатке и 51148 в себъяне\n",
    "print(seb_count[(0,)])\n",
    "print(kam_count[(0,)])"
   ]
  },
  {
   "cell_type": "markdown",
   "metadata": {},
   "source": [
    "ЛАДНО"
   ]
  },
  {
   "cell_type": "code",
   "execution_count": 113,
   "metadata": {
    "collapsed": false
   },
   "outputs": [],
   "source": [
    "kam_pd = pd.DataFrame({\n",
    "                       'morpheme': [x[0] for x in kam_count if len(x)==3], \n",
    "                       'gloss': [x[1] for x in kam_count if len(x)==3],\n",
    "                       'pos': [x[2] for x in kam_count if len(x)==3],\n",
    "                       'k_count': [kam_count[x] for x in kam_count if len(x)==3]\n",
    "    })\n",
    "\n",
    "seb_pd = pd.DataFrame({\n",
    "                       'morpheme': [x[0] for x in seb_count if len(x)==3], \n",
    "                       'gloss': [x[1] for x in seb_count if len(x)==3],\n",
    "                       'pos': [x[2] for x in seb_count if len(x)==3],\n",
    "                       's_count': [seb_count[x] for x in seb_count if len(x)==3]\n",
    "    })"
   ]
  },
  {
   "cell_type": "code",
   "execution_count": null,
   "metadata": {
    "collapsed": true
   },
   "outputs": [],
   "source": [
    "seb_pd = seb_pd.sort_values(('s_count'), ascending=False)\n",
    "kam_pd = kam_pd.sort_values(('k_count'), ascending=False)\n",
    "seb_pd['gloss'] = seb_pd['gloss'].map(lambda x: x.strip('-='))\n",
    "seb_pd['morpheme'] = seb_pd['morpheme'].map(lambda x: x.strip('-='))\n",
    "kam_pd['gloss'] = kam_pd['gloss'].map(lambda x: x.strip('-='))\n",
    "kam_pd['morpheme'] = kam_pd['morpheme'].map(lambda x: x.strip('-='))"
   ]
  },
  {
   "cell_type": "code",
   "execution_count": 117,
   "metadata": {
    "collapsed": false
   },
   "outputs": [
    {
     "data": {
      "text/html": [
       "<div>\n",
       "<table border=\"1\" class=\"dataframe\">\n",
       "  <thead>\n",
       "    <tr style=\"text-align: right;\">\n",
       "      <th></th>\n",
       "      <th>gloss</th>\n",
       "      <th>k_count</th>\n",
       "      <th>morpheme</th>\n",
       "      <th>pos</th>\n",
       "    </tr>\n",
       "  </thead>\n",
       "  <tbody>\n",
       "    <tr>\n",
       "      <th>120</th>\n",
       "      <td>nonfut</td>\n",
       "      <td>2956</td>\n",
       "      <td>R(E)</td>\n",
       "      <td>v</td>\n",
       "    </tr>\n",
       "    <tr>\n",
       "      <th>283</th>\n",
       "      <td>pst</td>\n",
       "      <td>2712</td>\n",
       "      <td>RI</td>\n",
       "      <td>v</td>\n",
       "    </tr>\n",
       "    <tr>\n",
       "      <th>161</th>\n",
       "      <td>gnr</td>\n",
       "      <td>1891</td>\n",
       "      <td>WEːČ</td>\n",
       "      <td>v</td>\n",
       "    </tr>\n",
       "    <tr>\n",
       "      <th>296</th>\n",
       "      <td>3sg</td>\n",
       "      <td>1786</td>\n",
       "      <td>n(I)</td>\n",
       "      <td>v</td>\n",
       "    </tr>\n",
       "    <tr>\n",
       "      <th>270</th>\n",
       "      <td>prog</td>\n",
       "      <td>1675</td>\n",
       "      <td>D</td>\n",
       "      <td>v</td>\n",
       "    </tr>\n",
       "  </tbody>\n",
       "</table>\n",
       "</div>"
      ],
      "text/plain": [
       "      gloss  k_count morpheme pos\n",
       "120  nonfut     2956     R(E)   v\n",
       "283     pst     2712       RI   v\n",
       "161     gnr     1891     WEːČ   v\n",
       "296     3sg     1786     n(I)   v\n",
       "270    prog     1675        D   v"
      ]
     },
     "execution_count": 117,
     "metadata": {},
     "output_type": "execute_result"
    }
   ],
   "source": [
    "kam_pd.head()"
   ]
  },
  {
   "cell_type": "code",
   "execution_count": 118,
   "metadata": {
    "collapsed": false
   },
   "outputs": [],
   "source": [
    "seb_pd.to_pickle('Sebjan_morphemes_only.pickle')\n",
    "kam_pd.to_pickle('Kamchatka_morphemes_only.pickle')"
   ]
  },
  {
   "cell_type": "code",
   "execution_count": 10,
   "metadata": {
    "collapsed": true
   },
   "outputs": [],
   "source": [
    "seb_pd = pd.read_pickle('Sebjan_morphemes_only.pickle')\n",
    "kam_pd = pd.read_pickle('Kamchatka_morphemes_only.pickle')"
   ]
  },
  {
   "cell_type": "markdown",
   "metadata": {},
   "source": [
    "А теперь надо джойнить ))00"
   ]
  },
  {
   "cell_type": "code",
   "execution_count": 11,
   "metadata": {
    "collapsed": false
   },
   "outputs": [],
   "source": [
    "total = pd.merge(seb_pd, kam_pd, how='outer', on=['morpheme', 'gloss', 'pos'])"
   ]
  },
  {
   "cell_type": "code",
   "execution_count": 12,
   "metadata": {
    "collapsed": true
   },
   "outputs": [],
   "source": [
    "total = total.fillna(0)"
   ]
  },
  {
   "cell_type": "code",
   "execution_count": 14,
   "metadata": {
    "collapsed": true
   },
   "outputs": [],
   "source": [
    "total['s_freq'] = total['s_count'].map(lambda x: x/49804)\n",
    "total['k_freq'] = total['k_count'].map(lambda x: x/32778)"
   ]
  },
  {
   "cell_type": "code",
   "execution_count": 70,
   "metadata": {
    "collapsed": false
   },
   "outputs": [
    {
     "data": {
      "text/html": [
       "<div>\n",
       "<table border=\"1\" class=\"dataframe\">\n",
       "  <thead>\n",
       "    <tr style=\"text-align: right;\">\n",
       "      <th></th>\n",
       "      <th>gloss</th>\n",
       "      <th>morpheme</th>\n",
       "      <th>pos</th>\n",
       "      <th>s_count</th>\n",
       "      <th>k_count</th>\n",
       "      <th>s_freq</th>\n",
       "      <th>k_freq</th>\n",
       "      <th>s_expected</th>\n",
       "      <th>k_expected</th>\n",
       "      <th>log_l</th>\n",
       "      <th>ell</th>\n",
       "    </tr>\n",
       "  </thead>\n",
       "  <tbody>\n",
       "    <tr>\n",
       "      <th>37</th>\n",
       "      <td>gnr</td>\n",
       "      <td>WEːČ</td>\n",
       "      <td>v</td>\n",
       "      <td>335.0</td>\n",
       "      <td>1891.0</td>\n",
       "      <td>0.006726</td>\n",
       "      <td>0.057691</td>\n",
       "      <td>1342.468141</td>\n",
       "      <td>883.531859</td>\n",
       "      <td>1947.801162</td>\n",
       "      <td>0.003477</td>\n",
       "    </tr>\n",
       "    <tr>\n",
       "      <th>4</th>\n",
       "      <td>hab</td>\n",
       "      <td>Gr(E)</td>\n",
       "      <td>v</td>\n",
       "      <td>1747.0</td>\n",
       "      <td>41.0</td>\n",
       "      <td>0.035078</td>\n",
       "      <td>0.001251</td>\n",
       "      <td>1078.316728</td>\n",
       "      <td>709.683272</td>\n",
       "      <td>1452.048547</td>\n",
       "      <td>0.002678</td>\n",
       "    </tr>\n",
       "    <tr>\n",
       "      <th>7</th>\n",
       "      <td>pst</td>\n",
       "      <td>RI</td>\n",
       "      <td>v</td>\n",
       "      <td>1308.0</td>\n",
       "      <td>2712.0</td>\n",
       "      <td>0.026263</td>\n",
       "      <td>0.082738</td>\n",
       "      <td>2424.403381</td>\n",
       "      <td>1595.596619</td>\n",
       "      <td>1262.801694</td>\n",
       "      <td>0.002073</td>\n",
       "    </tr>\n",
       "    <tr>\n",
       "      <th>3</th>\n",
       "      <td>pf.ptc</td>\n",
       "      <td>čE</td>\n",
       "      <td>v</td>\n",
       "      <td>1895.0</td>\n",
       "      <td>211.0</td>\n",
       "      <td>0.038049</td>\n",
       "      <td>0.006437</td>\n",
       "      <td>1270.097891</td>\n",
       "      <td>835.902109</td>\n",
       "      <td>935.525501</td>\n",
       "      <td>0.001684</td>\n",
       "    </tr>\n",
       "    <tr>\n",
       "      <th>17</th>\n",
       "      <td>prog</td>\n",
       "      <td>D</td>\n",
       "      <td>v</td>\n",
       "      <td>765.0</td>\n",
       "      <td>1675.0</td>\n",
       "      <td>0.015360</td>\n",
       "      <td>0.051101</td>\n",
       "      <td>1471.528420</td>\n",
       "      <td>968.471580</td>\n",
       "      <td>834.398174</td>\n",
       "      <td>0.001470</td>\n",
       "    </tr>\n",
       "  </tbody>\n",
       "</table>\n",
       "</div>"
      ],
      "text/plain": [
       "     gloss morpheme pos  s_count  k_count    s_freq    k_freq   s_expected  \\\n",
       "37     gnr     WEːČ   v    335.0   1891.0  0.006726  0.057691  1342.468141   \n",
       "4      hab    Gr(E)   v   1747.0     41.0  0.035078  0.001251  1078.316728   \n",
       "7      pst       RI   v   1308.0   2712.0  0.026263  0.082738  2424.403381   \n",
       "3   pf.ptc       čE   v   1895.0    211.0  0.038049  0.006437  1270.097891   \n",
       "17    prog        D   v    765.0   1675.0  0.015360  0.051101  1471.528420   \n",
       "\n",
       "     k_expected        log_l       ell  \n",
       "37   883.531859  1947.801162  0.003477  \n",
       "4    709.683272  1452.048547  0.002678  \n",
       "7   1595.596619  1262.801694  0.002073  \n",
       "3    835.902109   935.525501  0.001684  \n",
       "17   968.471580   834.398174  0.001470  "
      ]
     },
     "execution_count": 70,
     "metadata": {},
     "output_type": "execute_result"
    }
   ],
   "source": [
    "total.head()"
   ]
  },
  {
   "cell_type": "code",
   "execution_count": 25,
   "metadata": {
    "collapsed": true
   },
   "outputs": [],
   "source": [
    "total['s_expected'] = 49804*(total['s_count']+total['k_count'])/(82582)\n",
    "total['k_expected'] = 32778*(total['s_count']+total['k_count'])/(82582)"
   ]
  },
  {
   "cell_type": "code",
   "execution_count": 38,
   "metadata": {
    "collapsed": false
   },
   "outputs": [],
   "source": [
    "total['log_l'] = 2*(total['s_semi_l'] + total['k_semi_l'])"
   ]
  },
  {
   "cell_type": "code",
   "execution_count": 39,
   "metadata": {
    "collapsed": true
   },
   "outputs": [],
   "source": [
    "# здесь есть вытаскивание минимального значения из двух столбцов\n",
    "total['ell'] = total['log_l']/(82582*np.log(\n",
    "        total['s_expected']*(total['s_expected']<total['k_expected'])+total['k_expected']*(total['k_expected']<total['s_expected'])\n",
    "                                     )\n",
    "                              )"
   ]
  },
  {
   "cell_type": "code",
   "execution_count": 40,
   "metadata": {
    "collapsed": false
   },
   "outputs": [],
   "source": [
    "del total['s_freq']\n",
    "del total['k_freq']\n",
    "del total['k_semi_l']\n",
    "del total['s_semi_l']"
   ]
  },
  {
   "cell_type": "code",
   "execution_count": 57,
   "metadata": {
    "collapsed": false
   },
   "outputs": [
    {
     "data": {
      "text/html": [
       "<div>\n",
       "<table border=\"1\" class=\"dataframe\">\n",
       "  <thead>\n",
       "    <tr style=\"text-align: right;\">\n",
       "      <th></th>\n",
       "      <th>gloss</th>\n",
       "      <th>morpheme</th>\n",
       "      <th>pos</th>\n",
       "      <th>s_count</th>\n",
       "      <th>k_count</th>\n",
       "      <th>s_expected</th>\n",
       "      <th>k_expected</th>\n",
       "      <th>log_l</th>\n",
       "      <th>ell</th>\n",
       "    </tr>\n",
       "  </thead>\n",
       "  <tbody>\n",
       "    <tr>\n",
       "      <th>37</th>\n",
       "      <td>gnr</td>\n",
       "      <td>WEːČ</td>\n",
       "      <td>v</td>\n",
       "      <td>335.0</td>\n",
       "      <td>1891.0</td>\n",
       "      <td>1342.468141</td>\n",
       "      <td>883.531859</td>\n",
       "      <td>1947.801162</td>\n",
       "      <td>0.003477</td>\n",
       "    </tr>\n",
       "    <tr>\n",
       "      <th>4</th>\n",
       "      <td>hab</td>\n",
       "      <td>Gr(E)</td>\n",
       "      <td>v</td>\n",
       "      <td>1747.0</td>\n",
       "      <td>41.0</td>\n",
       "      <td>1078.316728</td>\n",
       "      <td>709.683272</td>\n",
       "      <td>1452.048547</td>\n",
       "      <td>0.002678</td>\n",
       "    </tr>\n",
       "    <tr>\n",
       "      <th>7</th>\n",
       "      <td>pst</td>\n",
       "      <td>RI</td>\n",
       "      <td>v</td>\n",
       "      <td>1308.0</td>\n",
       "      <td>2712.0</td>\n",
       "      <td>2424.403381</td>\n",
       "      <td>1595.596619</td>\n",
       "      <td>1262.801694</td>\n",
       "      <td>0.002073</td>\n",
       "    </tr>\n",
       "    <tr>\n",
       "      <th>3</th>\n",
       "      <td>pf.ptc</td>\n",
       "      <td>čE</td>\n",
       "      <td>v</td>\n",
       "      <td>1895.0</td>\n",
       "      <td>211.0</td>\n",
       "      <td>1270.097891</td>\n",
       "      <td>835.902109</td>\n",
       "      <td>935.525501</td>\n",
       "      <td>0.001684</td>\n",
       "    </tr>\n",
       "    <tr>\n",
       "      <th>17</th>\n",
       "      <td>prog</td>\n",
       "      <td>D</td>\n",
       "      <td>v</td>\n",
       "      <td>765.0</td>\n",
       "      <td>1675.0</td>\n",
       "      <td>1471.528420</td>\n",
       "      <td>968.471580</td>\n",
       "      <td>834.398174</td>\n",
       "      <td>0.001470</td>\n",
       "    </tr>\n",
       "  </tbody>\n",
       "</table>\n",
       "</div>"
      ],
      "text/plain": [
       "     gloss morpheme pos  s_count  k_count   s_expected   k_expected  \\\n",
       "37     gnr     WEːČ   v    335.0   1891.0  1342.468141   883.531859   \n",
       "4      hab    Gr(E)   v   1747.0     41.0  1078.316728   709.683272   \n",
       "7      pst       RI   v   1308.0   2712.0  2424.403381  1595.596619   \n",
       "3   pf.ptc       čE   v   1895.0    211.0  1270.097891   835.902109   \n",
       "17    prog        D   v    765.0   1675.0  1471.528420   968.471580   \n",
       "\n",
       "          log_l       ell  \n",
       "37  1947.801162  0.003477  \n",
       "4   1452.048547  0.002678  \n",
       "7   1262.801694  0.002073  \n",
       "3    935.525501  0.001684  \n",
       "17   834.398174  0.001470  "
      ]
     },
     "execution_count": 57,
     "metadata": {},
     "output_type": "execute_result"
    }
   ],
   "source": [
    "total.head()"
   ]
  },
  {
   "cell_type": "code",
   "execution_count": 56,
   "metadata": {
    "collapsed": false
   },
   "outputs": [],
   "source": [
    "total = total.sort_values('log_l', ascending=False)"
   ]
  },
  {
   "cell_type": "code",
   "execution_count": 43,
   "metadata": {
    "collapsed": true
   },
   "outputs": [],
   "source": [
    "total.to_pickle('total_morphemes.pickle')"
   ]
  },
  {
   "cell_type": "code",
   "execution_count": 35,
   "metadata": {
    "collapsed": true
   },
   "outputs": [],
   "source": [
    "total = pd.read_pickle('total_morphemes.pickle')"
   ]
  },
  {
   "cell_type": "code",
   "execution_count": 37,
   "metadata": {
    "collapsed": false,
    "scrolled": true
   },
   "outputs": [
    {
     "data": {
      "text/html": [
       "<div>\n",
       "<table border=\"1\" class=\"dataframe\">\n",
       "  <thead>\n",
       "    <tr style=\"text-align: right;\">\n",
       "      <th></th>\n",
       "      <th>gloss</th>\n",
       "      <th>morpheme</th>\n",
       "      <th>pos</th>\n",
       "      <th>s_count</th>\n",
       "      <th>k_count</th>\n",
       "      <th>s_freq</th>\n",
       "      <th>k_freq</th>\n",
       "      <th>s_expected</th>\n",
       "      <th>k_expected</th>\n",
       "      <th>log_l</th>\n",
       "      <th>ell</th>\n",
       "      <th>k_semi_l</th>\n",
       "      <th>s_semi_l</th>\n",
       "    </tr>\n",
       "  </thead>\n",
       "  <tbody>\n",
       "    <tr>\n",
       "      <th>1061</th>\n",
       "      <td>dim.def</td>\n",
       "      <td>jEkEn</td>\n",
       "      <td>adv</td>\n",
       "      <td>0.0</td>\n",
       "      <td>1.0</td>\n",
       "      <td>0.0</td>\n",
       "      <td>0.000031</td>\n",
       "      <td>0.603085</td>\n",
       "      <td>0.396915</td>\n",
       "      <td>NaN</td>\n",
       "      <td>NaN</td>\n",
       "      <td>0.924034</td>\n",
       "      <td>0.0</td>\n",
       "    </tr>\n",
       "    <tr>\n",
       "      <th>1062</th>\n",
       "      <td>restr</td>\n",
       "      <td>mEːk</td>\n",
       "      <td>rel.n</td>\n",
       "      <td>0.0</td>\n",
       "      <td>1.0</td>\n",
       "      <td>0.0</td>\n",
       "      <td>0.000031</td>\n",
       "      <td>0.603085</td>\n",
       "      <td>0.396915</td>\n",
       "      <td>NaN</td>\n",
       "      <td>NaN</td>\n",
       "      <td>0.924034</td>\n",
       "      <td>0.0</td>\n",
       "    </tr>\n",
       "    <tr>\n",
       "      <th>1063</th>\n",
       "      <td>ord</td>\n",
       "      <td>(G)I</td>\n",
       "      <td>v</td>\n",
       "      <td>0.0</td>\n",
       "      <td>1.0</td>\n",
       "      <td>0.0</td>\n",
       "      <td>0.000031</td>\n",
       "      <td>0.603085</td>\n",
       "      <td>0.396915</td>\n",
       "      <td>NaN</td>\n",
       "      <td>NaN</td>\n",
       "      <td>0.924034</td>\n",
       "      <td>0.0</td>\n",
       "    </tr>\n",
       "    <tr>\n",
       "      <th>1064</th>\n",
       "      <td>adjr</td>\n",
       "      <td>pčVn</td>\n",
       "      <td>adj</td>\n",
       "      <td>0.0</td>\n",
       "      <td>1.0</td>\n",
       "      <td>0.0</td>\n",
       "      <td>0.000031</td>\n",
       "      <td>0.603085</td>\n",
       "      <td>0.396915</td>\n",
       "      <td>NaN</td>\n",
       "      <td>NaN</td>\n",
       "      <td>0.924034</td>\n",
       "      <td>0.0</td>\n",
       "    </tr>\n",
       "    <tr>\n",
       "      <th>1065</th>\n",
       "      <td>agnr</td>\n",
       "      <td>mŋE</td>\n",
       "      <td>pron</td>\n",
       "      <td>0.0</td>\n",
       "      <td>1.0</td>\n",
       "      <td>0.0</td>\n",
       "      <td>0.000031</td>\n",
       "      <td>0.603085</td>\n",
       "      <td>0.396915</td>\n",
       "      <td>NaN</td>\n",
       "      <td>NaN</td>\n",
       "      <td>0.924034</td>\n",
       "      <td>0.0</td>\n",
       "    </tr>\n",
       "  </tbody>\n",
       "</table>\n",
       "</div>"
      ],
      "text/plain": [
       "        gloss morpheme    pos  s_count  k_count  s_freq    k_freq  s_expected  \\\n",
       "1061  dim.def    jEkEn    adv      0.0      1.0     0.0  0.000031    0.603085   \n",
       "1062    restr     mEːk  rel.n      0.0      1.0     0.0  0.000031    0.603085   \n",
       "1063      ord     (G)I      v      0.0      1.0     0.0  0.000031    0.603085   \n",
       "1064     adjr     pčVn    adj      0.0      1.0     0.0  0.000031    0.603085   \n",
       "1065     agnr      mŋE   pron      0.0      1.0     0.0  0.000031    0.603085   \n",
       "\n",
       "      k_expected  log_l  ell  k_semi_l  s_semi_l  \n",
       "1061    0.396915    NaN  NaN  0.924034       0.0  \n",
       "1062    0.396915    NaN  NaN  0.924034       0.0  \n",
       "1063    0.396915    NaN  NaN  0.924034       0.0  \n",
       "1064    0.396915    NaN  NaN  0.924034       0.0  \n",
       "1065    0.396915    NaN  NaN  0.924034       0.0  "
      ]
     },
     "execution_count": 37,
     "metadata": {},
     "output_type": "execute_result"
    }
   ],
   "source": [
    "total['k_semi_l'] = total['k_count']*np.log(total['k_count']/total['k_expected'])\n",
    "total['s_semi_l'] = total['s_count']*np.log(total['s_count']/total['s_expected'])\n",
    "total['k_semi_l'] = total['k_semi_l'].fillna(0)\n",
    "total['s_semi_l'] = total['s_semi_l'].fillna(0)\n",
    "total.tail()"
   ]
  },
  {
   "cell_type": "code",
   "execution_count": 58,
   "metadata": {
    "collapsed": false
   },
   "outputs": [],
   "source": [
    "total.to_excel('morphemes_new.xlsx')"
   ]
  },
  {
   "cell_type": "markdown",
   "metadata": {
    "collapsed": false
   },
   "source": [
    "# разбираюсь с алломорфами"
   ]
  },
  {
   "cell_type": "code",
   "execution_count": 13,
   "metadata": {
    "collapsed": false
   },
   "outputs": [
    {
     "name": "stdout",
     "output_type": "stream",
     "text": [
      "360\n",
      "'\\\\lx =eː\\n\\\\a =ej\\n\\\\a =eːj\\n\\\\a =aː\\n\\\\a =oː\\n\\\\ge =emph\\n\\\\dt 29/Feb/2012'\n"
     ]
    }
   ],
   "source": [
    "with open('morpheme_2.txt') as f:\n",
    "    content = f.read().split('\\n\\n')\n",
    "print(len(content))\n",
    "pprint(content[39])"
   ]
  },
  {
   "cell_type": "code",
   "execution_count": 32,
   "metadata": {
    "collapsed": false
   },
   "outputs": [],
   "source": [
    "morphs = {}\n",
    "m_re = re.compile('\\Wlx (\\S+)\\n')\n",
    "g_re = re.compile('\\Wge (\\S+)\\n')\n",
    "a_re = re.compile('\\Wa (\\S+)\\n')\n",
    "for part in content:\n",
    "    morph = re.search(m_re, part)\n",
    "    if morph:\n",
    "        morph = morph.group(1)\n",
    "        gloss = re.search(g_re, part).group(1)\n",
    "        morphs[(morph, gloss)] = re.findall(a_re, part)"
   ]
  },
  {
   "cell_type": "code",
   "execution_count": 41,
   "metadata": {
    "collapsed": false
   },
   "outputs": [
    {
     "name": "stdout",
     "output_type": "stream",
     "text": [
      "('-E', 'ep')\n",
      "    gloss morpheme pos  s_count  k_count   s_freq  k_freq  s_expected  \\\n",
      "642    ep        i   v      1.0      0.0  0.00002     0.0    0.603085   \n",
      "\n",
      "     k_expected  log_l  ell  \n",
      "642    0.396915    NaN  NaN  \n",
      "('-G', 'advr')\n",
      "    gloss morpheme pos  s_count  k_count   s_freq  k_freq  s_expected  \\\n",
      "660  advr        k   v      1.0      0.0  0.00002     0.0    0.603085   \n",
      "\n",
      "     k_expected  log_l  ell  \n",
      "660    0.396915    NaN  NaN  \n",
      "('-n(I)', '3sg')\n",
      "    gloss morpheme pos  s_count  k_count   s_freq  k_freq  s_expected  \\\n",
      "573   3sg        n   v      1.0      0.0  0.00002     0.0    0.603085   \n",
      "\n",
      "     k_expected  log_l  ell  \n",
      "573    0.396915    NaN  NaN  \n",
      "('-G(I)', 'vr')\n",
      "    gloss morpheme pos  s_count  k_count   s_freq    k_freq  s_expected  \\\n",
      "681    vr        ŋ   v      1.0     12.0  0.00002  0.000366     7.84011   \n",
      "\n",
      "     k_expected     log_l       ell  \n",
      "681     5.15989  16.13729  0.000119  \n",
      "('-ssO', 'dur')\n",
      "    gloss morpheme pos  s_count  k_count   s_freq  k_freq  s_expected  \\\n",
      "401   dur      sso   v      4.0      0.0  0.00008     0.0    2.412342   \n",
      "\n",
      "     k_expected  log_l  ell  \n",
      "401    1.587658    NaN  NaN  \n",
      "('-n', 'mult')\n",
      "    gloss morpheme pos  s_count  k_count   s_freq    k_freq  s_expected  \\\n",
      "648  mult        m   v      1.0      3.0  0.00002  0.000092    2.412342   \n",
      "\n",
      "     k_expected     log_l       ell  \n",
      "648    1.587658  2.056917  0.000054  \n"
     ]
    }
   ],
   "source": [
    "for key in morphs:\n",
    "    for allo in morphs[key]:\n",
    "        res = total.loc[total['morpheme']==allo.strip('-=')].loc[total['gloss']==key[1]]\n",
    "        if len(res)>0:\n",
    "            print(key)\n",
    "            print(res)"
   ]
  },
  {
   "cell_type": "markdown",
   "metadata": {},
   "source": [
    "Они ничего не делают"
   ]
  },
  {
   "cell_type": "markdown",
   "metadata": {},
   "source": [
    "# разбираюсь с конвербами"
   ]
  },
  {
   "cell_type": "code",
   "execution_count": 48,
   "metadata": {
    "collapsed": false
   },
   "outputs": [
    {
     "name": "stdout",
     "output_type": "stream",
     "text": [
      "{'ant.cvb',\n",
      " 'caus.neg.cvb',\n",
      " 'cond.cvb',\n",
      " 'des.neg.cvb',\n",
      " 'dur.cvb',\n",
      " 'imm.cvb',\n",
      " 'impf.cvb',\n",
      " 'mult.cvb',\n",
      " 'neg.cvb',\n",
      " 'nmdl.cvb',\n",
      " 'pf.cvb.Y',\n",
      " 'purp.cvb',\n",
      " 'sim.cvb',\n",
      " 'trm.cvb',\n",
      " 'vr.cvb.Y'}\n"
     ]
    }
   ],
   "source": [
    "cvbs = []\n",
    "for corp in [seb_mor, kam_mor]:\n",
    "    for morph in corp:\n",
    "        if len(morph) > 1 and 'cvb' in morph[1]:\n",
    "            cvbs.append(morph[1].strip('-='))\n",
    "cvbs = set(cvbs)\n",
    "pprint(cvbs)"
   ]
  },
  {
   "cell_type": "code",
   "execution_count": 49,
   "metadata": {
    "collapsed": false
   },
   "outputs": [
    {
     "data": {
      "text/html": [
       "<div>\n",
       "<table border=\"1\" class=\"dataframe\">\n",
       "  <thead>\n",
       "    <tr style=\"text-align: right;\">\n",
       "      <th></th>\n",
       "      <th>gloss</th>\n",
       "      <th>morpheme</th>\n",
       "      <th>pos</th>\n",
       "      <th>s_count</th>\n",
       "      <th>k_count</th>\n",
       "      <th>s_expected</th>\n",
       "      <th>k_expected</th>\n",
       "      <th>log_l</th>\n",
       "      <th>ell</th>\n",
       "    </tr>\n",
       "  </thead>\n",
       "  <tbody>\n",
       "    <tr>\n",
       "      <th>404</th>\n",
       "      <td>trm.cvb</td>\n",
       "      <td>klEːkE</td>\n",
       "      <td>v</td>\n",
       "      <td>4.0</td>\n",
       "      <td>0.0</td>\n",
       "      <td>2.412342</td>\n",
       "      <td>1.587658</td>\n",
       "      <td>4.045571</td>\n",
       "      <td>1.059761e-04</td>\n",
       "    </tr>\n",
       "    <tr>\n",
       "      <th>171</th>\n",
       "      <td>trm.cvb</td>\n",
       "      <td>dle</td>\n",
       "      <td>v</td>\n",
       "      <td>31.0</td>\n",
       "      <td>9.0</td>\n",
       "      <td>24.123417</td>\n",
       "      <td>15.876583</td>\n",
       "      <td>5.332687</td>\n",
       "      <td>2.335554e-05</td>\n",
       "    </tr>\n",
       "    <tr>\n",
       "      <th>230</th>\n",
       "      <td>trm.cvb</td>\n",
       "      <td>kEn</td>\n",
       "      <td>v</td>\n",
       "      <td>14.0</td>\n",
       "      <td>9.0</td>\n",
       "      <td>13.870965</td>\n",
       "      <td>9.129035</td>\n",
       "      <td>0.003029</td>\n",
       "      <td>1.658669e-08</td>\n",
       "    </tr>\n",
       "    <tr>\n",
       "      <th>269</th>\n",
       "      <td>pf.cvb.Y</td>\n",
       "      <td>An</td>\n",
       "      <td>v</td>\n",
       "      <td>10.0</td>\n",
       "      <td>0.0</td>\n",
       "      <td>6.030854</td>\n",
       "      <td>3.969146</td>\n",
       "      <td>10.113929</td>\n",
       "      <td>8.884064e-05</td>\n",
       "    </tr>\n",
       "    <tr>\n",
       "      <th>605</th>\n",
       "      <td>pf.cvb.Y</td>\n",
       "      <td>An</td>\n",
       "      <td>?</td>\n",
       "      <td>1.0</td>\n",
       "      <td>0.0</td>\n",
       "      <td>0.603085</td>\n",
       "      <td>0.396915</td>\n",
       "      <td>1.011393</td>\n",
       "      <td>-1.325398e-05</td>\n",
       "    </tr>\n",
       "  </tbody>\n",
       "</table>\n",
       "</div>"
      ],
      "text/plain": [
       "        gloss morpheme pos  s_count  k_count  s_expected  k_expected  \\\n",
       "404   trm.cvb   klEːkE   v      4.0      0.0    2.412342    1.587658   \n",
       "171   trm.cvb      dle   v     31.0      9.0   24.123417   15.876583   \n",
       "230   trm.cvb      kEn   v     14.0      9.0   13.870965    9.129035   \n",
       "269  pf.cvb.Y       An   v     10.0      0.0    6.030854    3.969146   \n",
       "605  pf.cvb.Y       An   ?      1.0      0.0    0.603085    0.396915   \n",
       "\n",
       "         log_l           ell  \n",
       "404   4.045571  1.059761e-04  \n",
       "171   5.332687  2.335554e-05  \n",
       "230   0.003029  1.658669e-08  \n",
       "269  10.113929  8.884064e-05  \n",
       "605   1.011393 -1.325398e-05  "
      ]
     },
     "execution_count": 49,
     "metadata": {},
     "output_type": "execute_result"
    }
   ],
   "source": [
    "cvb_pd = []\n",
    "for cvb in cvbs:\n",
    "    if len(cvb_pd)==0:\n",
    "        cvb_pd = total.loc[total['gloss']==cvb]\n",
    "        continue\n",
    "    cvb_pd = pd.concat([cvb_pd, total.loc[total['gloss']==cvb]])\n",
    "cvb_pd.head()"
   ]
  },
  {
   "cell_type": "code",
   "execution_count": 59,
   "metadata": {
    "collapsed": false
   },
   "outputs": [],
   "source": [
    "cvb_pd = cvb_pd.sort_values(['log_l'], ascending=False)"
   ]
  },
  {
   "cell_type": "code",
   "execution_count": 60,
   "metadata": {
    "collapsed": false
   },
   "outputs": [
    {
     "data": {
      "text/html": [
       "<div>\n",
       "<table border=\"1\" class=\"dataframe\">\n",
       "  <thead>\n",
       "    <tr style=\"text-align: right;\">\n",
       "      <th></th>\n",
       "      <th>gloss</th>\n",
       "      <th>morpheme</th>\n",
       "      <th>pos</th>\n",
       "      <th>s_count</th>\n",
       "      <th>k_count</th>\n",
       "      <th>s_expected</th>\n",
       "      <th>k_expected</th>\n",
       "      <th>log_l</th>\n",
       "      <th>ell</th>\n",
       "    </tr>\n",
       "  </thead>\n",
       "  <tbody>\n",
       "    <tr>\n",
       "      <th>12</th>\n",
       "      <td>sim.cvb</td>\n",
       "      <td>nIkEn</td>\n",
       "      <td>v</td>\n",
       "      <td>1083.0</td>\n",
       "      <td>59.0</td>\n",
       "      <td>688.723548</td>\n",
       "      <td>453.276452</td>\n",
       "      <td>739.842694</td>\n",
       "      <td>1.464707e-03</td>\n",
       "    </tr>\n",
       "    <tr>\n",
       "      <th>88</th>\n",
       "      <td>mult.cvb</td>\n",
       "      <td>ntEkEn</td>\n",
       "      <td>v</td>\n",
       "      <td>101.0</td>\n",
       "      <td>0.0</td>\n",
       "      <td>60.911627</td>\n",
       "      <td>40.088373</td>\n",
       "      <td>102.150680</td>\n",
       "      <td>3.351210e-04</td>\n",
       "    </tr>\n",
       "    <tr>\n",
       "      <th>20</th>\n",
       "      <td>ant.cvb</td>\n",
       "      <td>RIdʒI</td>\n",
       "      <td>v</td>\n",
       "      <td>721.0</td>\n",
       "      <td>237.0</td>\n",
       "      <td>577.755831</td>\n",
       "      <td>380.244169</td>\n",
       "      <td>95.300264</td>\n",
       "      <td>1.942508e-04</td>\n",
       "    </tr>\n",
       "    <tr>\n",
       "      <th>39</th>\n",
       "      <td>purp.cvb</td>\n",
       "      <td>DE</td>\n",
       "      <td>v</td>\n",
       "      <td>307.0</td>\n",
       "      <td>405.0</td>\n",
       "      <td>429.396818</td>\n",
       "      <td>282.603182</td>\n",
       "      <td>85.455394</td>\n",
       "      <td>1.833427e-04</td>\n",
       "    </tr>\n",
       "    <tr>\n",
       "      <th>138</th>\n",
       "      <td>impf.cvb</td>\n",
       "      <td>ŋsI</td>\n",
       "      <td>v</td>\n",
       "      <td>44.0</td>\n",
       "      <td>0.0</td>\n",
       "      <td>26.535758</td>\n",
       "      <td>17.464242</td>\n",
       "      <td>44.501286</td>\n",
       "      <td>1.884072e-04</td>\n",
       "    </tr>\n",
       "    <tr>\n",
       "      <th>26</th>\n",
       "      <td>cond.cvb</td>\n",
       "      <td>REk</td>\n",
       "      <td>v</td>\n",
       "      <td>488.0</td>\n",
       "      <td>197.0</td>\n",
       "      <td>413.113511</td>\n",
       "      <td>271.886489</td>\n",
       "      <td>35.655486</td>\n",
       "      <td>7.702568e-05</td>\n",
       "    </tr>\n",
       "    <tr>\n",
       "      <th>256</th>\n",
       "      <td>nmdl.cvb</td>\n",
       "      <td>ŋE</td>\n",
       "      <td>v</td>\n",
       "      <td>11.0</td>\n",
       "      <td>33.0</td>\n",
       "      <td>26.535758</td>\n",
       "      <td>17.464242</td>\n",
       "      <td>22.626085</td>\n",
       "      <td>9.579313e-05</td>\n",
       "    </tr>\n",
       "    <tr>\n",
       "      <th>29</th>\n",
       "      <td>cond.cvb</td>\n",
       "      <td>mI</td>\n",
       "      <td>v</td>\n",
       "      <td>442.0</td>\n",
       "      <td>223.0</td>\n",
       "      <td>401.051803</td>\n",
       "      <td>263.948197</td>\n",
       "      <td>10.754677</td>\n",
       "      <td>2.335654e-05</td>\n",
       "    </tr>\n",
       "    <tr>\n",
       "      <th>269</th>\n",
       "      <td>pf.cvb.Y</td>\n",
       "      <td>An</td>\n",
       "      <td>v</td>\n",
       "      <td>10.0</td>\n",
       "      <td>0.0</td>\n",
       "      <td>6.030854</td>\n",
       "      <td>3.969146</td>\n",
       "      <td>10.113929</td>\n",
       "      <td>8.884064e-05</td>\n",
       "    </tr>\n",
       "    <tr>\n",
       "      <th>171</th>\n",
       "      <td>trm.cvb</td>\n",
       "      <td>dle</td>\n",
       "      <td>v</td>\n",
       "      <td>31.0</td>\n",
       "      <td>9.0</td>\n",
       "      <td>24.123417</td>\n",
       "      <td>15.876583</td>\n",
       "      <td>5.332687</td>\n",
       "      <td>2.335554e-05</td>\n",
       "    </tr>\n",
       "    <tr>\n",
       "      <th>404</th>\n",
       "      <td>trm.cvb</td>\n",
       "      <td>klEːkE</td>\n",
       "      <td>v</td>\n",
       "      <td>4.0</td>\n",
       "      <td>0.0</td>\n",
       "      <td>2.412342</td>\n",
       "      <td>1.587658</td>\n",
       "      <td>4.045571</td>\n",
       "      <td>1.059761e-04</td>\n",
       "    </tr>\n",
       "    <tr>\n",
       "      <th>23</th>\n",
       "      <td>neg.cvb</td>\n",
       "      <td>R</td>\n",
       "      <td>v</td>\n",
       "      <td>615.0</td>\n",
       "      <td>361.0</td>\n",
       "      <td>588.611368</td>\n",
       "      <td>387.388632</td>\n",
       "      <td>3.005602</td>\n",
       "      <td>6.107191e-06</td>\n",
       "    </tr>\n",
       "    <tr>\n",
       "      <th>1042</th>\n",
       "      <td>vr.cvb.Y</td>\n",
       "      <td>dan</td>\n",
       "      <td>v</td>\n",
       "      <td>0.0</td>\n",
       "      <td>1.0</td>\n",
       "      <td>0.603085</td>\n",
       "      <td>0.396915</td>\n",
       "      <td>1.848068</td>\n",
       "      <td>-2.421835e-05</td>\n",
       "    </tr>\n",
       "    <tr>\n",
       "      <th>970</th>\n",
       "      <td>imm.cvb</td>\n",
       "      <td>mnIn</td>\n",
       "      <td>v</td>\n",
       "      <td>0.0</td>\n",
       "      <td>1.0</td>\n",
       "      <td>0.603085</td>\n",
       "      <td>0.396915</td>\n",
       "      <td>1.848068</td>\n",
       "      <td>-2.421835e-05</td>\n",
       "    </tr>\n",
       "    <tr>\n",
       "      <th>548</th>\n",
       "      <td>vr.cvb.Y</td>\n",
       "      <td>dan</td>\n",
       "      <td>?</td>\n",
       "      <td>1.0</td>\n",
       "      <td>0.0</td>\n",
       "      <td>0.603085</td>\n",
       "      <td>0.396915</td>\n",
       "      <td>1.011393</td>\n",
       "      <td>-1.325398e-05</td>\n",
       "    </tr>\n",
       "    <tr>\n",
       "      <th>659</th>\n",
       "      <td>vr.cvb.Y</td>\n",
       "      <td>dan</td>\n",
       "      <td>adv</td>\n",
       "      <td>1.0</td>\n",
       "      <td>0.0</td>\n",
       "      <td>0.603085</td>\n",
       "      <td>0.396915</td>\n",
       "      <td>1.011393</td>\n",
       "      <td>-1.325398e-05</td>\n",
       "    </tr>\n",
       "    <tr>\n",
       "      <th>698</th>\n",
       "      <td>caus.neg.cvb</td>\n",
       "      <td>WkEn</td>\n",
       "      <td>v</td>\n",
       "      <td>1.0</td>\n",
       "      <td>0.0</td>\n",
       "      <td>0.603085</td>\n",
       "      <td>0.396915</td>\n",
       "      <td>1.011393</td>\n",
       "      <td>-1.325398e-05</td>\n",
       "    </tr>\n",
       "    <tr>\n",
       "      <th>605</th>\n",
       "      <td>pf.cvb.Y</td>\n",
       "      <td>An</td>\n",
       "      <td>?</td>\n",
       "      <td>1.0</td>\n",
       "      <td>0.0</td>\n",
       "      <td>0.603085</td>\n",
       "      <td>0.396915</td>\n",
       "      <td>1.011393</td>\n",
       "      <td>-1.325398e-05</td>\n",
       "    </tr>\n",
       "    <tr>\n",
       "      <th>626</th>\n",
       "      <td>des.neg.cvb</td>\n",
       "      <td>m</td>\n",
       "      <td>v</td>\n",
       "      <td>1.0</td>\n",
       "      <td>0.0</td>\n",
       "      <td>0.603085</td>\n",
       "      <td>0.396915</td>\n",
       "      <td>1.011393</td>\n",
       "      <td>-1.325398e-05</td>\n",
       "    </tr>\n",
       "    <tr>\n",
       "      <th>304</th>\n",
       "      <td>dur.cvb</td>\n",
       "      <td>mnIn</td>\n",
       "      <td>v</td>\n",
       "      <td>7.0</td>\n",
       "      <td>3.0</td>\n",
       "      <td>6.030854</td>\n",
       "      <td>3.969146</td>\n",
       "      <td>0.406669</td>\n",
       "      <td>3.572178e-06</td>\n",
       "    </tr>\n",
       "    <tr>\n",
       "      <th>230</th>\n",
       "      <td>trm.cvb</td>\n",
       "      <td>kEn</td>\n",
       "      <td>v</td>\n",
       "      <td>14.0</td>\n",
       "      <td>9.0</td>\n",
       "      <td>13.870965</td>\n",
       "      <td>9.129035</td>\n",
       "      <td>0.003029</td>\n",
       "      <td>1.658669e-08</td>\n",
       "    </tr>\n",
       "  </tbody>\n",
       "</table>\n",
       "</div>"
      ],
      "text/plain": [
       "             gloss morpheme  pos  s_count  k_count  s_expected  k_expected  \\\n",
       "12         sim.cvb    nIkEn    v   1083.0     59.0  688.723548  453.276452   \n",
       "88        mult.cvb   ntEkEn    v    101.0      0.0   60.911627   40.088373   \n",
       "20         ant.cvb    RIdʒI    v    721.0    237.0  577.755831  380.244169   \n",
       "39        purp.cvb       DE    v    307.0    405.0  429.396818  282.603182   \n",
       "138       impf.cvb      ŋsI    v     44.0      0.0   26.535758   17.464242   \n",
       "26        cond.cvb      REk    v    488.0    197.0  413.113511  271.886489   \n",
       "256       nmdl.cvb       ŋE    v     11.0     33.0   26.535758   17.464242   \n",
       "29        cond.cvb       mI    v    442.0    223.0  401.051803  263.948197   \n",
       "269       pf.cvb.Y       An    v     10.0      0.0    6.030854    3.969146   \n",
       "171        trm.cvb      dle    v     31.0      9.0   24.123417   15.876583   \n",
       "404        trm.cvb   klEːkE    v      4.0      0.0    2.412342    1.587658   \n",
       "23         neg.cvb        R    v    615.0    361.0  588.611368  387.388632   \n",
       "1042      vr.cvb.Y      dan    v      0.0      1.0    0.603085    0.396915   \n",
       "970        imm.cvb     mnIn    v      0.0      1.0    0.603085    0.396915   \n",
       "548       vr.cvb.Y      dan    ?      1.0      0.0    0.603085    0.396915   \n",
       "659       vr.cvb.Y      dan  adv      1.0      0.0    0.603085    0.396915   \n",
       "698   caus.neg.cvb     WkEn    v      1.0      0.0    0.603085    0.396915   \n",
       "605       pf.cvb.Y       An    ?      1.0      0.0    0.603085    0.396915   \n",
       "626    des.neg.cvb        m    v      1.0      0.0    0.603085    0.396915   \n",
       "304        dur.cvb     mnIn    v      7.0      3.0    6.030854    3.969146   \n",
       "230        trm.cvb      kEn    v     14.0      9.0   13.870965    9.129035   \n",
       "\n",
       "           log_l           ell  \n",
       "12    739.842694  1.464707e-03  \n",
       "88    102.150680  3.351210e-04  \n",
       "20     95.300264  1.942508e-04  \n",
       "39     85.455394  1.833427e-04  \n",
       "138    44.501286  1.884072e-04  \n",
       "26     35.655486  7.702568e-05  \n",
       "256    22.626085  9.579313e-05  \n",
       "29     10.754677  2.335654e-05  \n",
       "269    10.113929  8.884064e-05  \n",
       "171     5.332687  2.335554e-05  \n",
       "404     4.045571  1.059761e-04  \n",
       "23      3.005602  6.107191e-06  \n",
       "1042    1.848068 -2.421835e-05  \n",
       "970     1.848068 -2.421835e-05  \n",
       "548     1.011393 -1.325398e-05  \n",
       "659     1.011393 -1.325398e-05  \n",
       "698     1.011393 -1.325398e-05  \n",
       "605     1.011393 -1.325398e-05  \n",
       "626     1.011393 -1.325398e-05  \n",
       "304     0.406669  3.572178e-06  \n",
       "230     0.003029  1.658669e-08  "
      ]
     },
     "execution_count": 60,
     "metadata": {},
     "output_type": "execute_result"
    }
   ],
   "source": [
    "cvb_pd"
   ]
  },
  {
   "cell_type": "code",
   "execution_count": 61,
   "metadata": {
    "collapsed": true
   },
   "outputs": [],
   "source": [
    "cvb_pd.to_pickle('converbs.pickle')"
   ]
  },
  {
   "cell_type": "code",
   "execution_count": 62,
   "metadata": {
    "collapsed": true
   },
   "outputs": [],
   "source": [
    "cvb_pd.to_excel('converbs.xlsx')"
   ]
  },
  {
   "cell_type": "markdown",
   "metadata": {},
   "source": [
    "# 1\n",
    "это уже начато там\n",
    "морфемы лежат в отдельном словаре, кажется; нужно приложить это знание на таблицу?\n",
    "или создать уже наконец промежуточное представление всего"
   ]
  },
  {
   "cell_type": "markdown",
   "metadata": {},
   "source": [
    "# 2\n",
    "сочетания морфем\n",
    "\n",
    "сначала надо вытащить представления (кажется это уже сделано)\n",
    "\n",
    "пройтись по всему, растащить каждое слово на пары морфем, первая (ROOT, morph), последняя (morph, END)\n"
   ]
  },
  {
   "cell_type": "markdown",
   "metadata": {
    "collapsed": true
   },
   "source": [
    "Сочетания хи-квадратом vs. то же самое что с одиночными морфемами но для биграммов!!!11!"
   ]
  },
  {
   "cell_type": "code",
   "execution_count": 88,
   "metadata": {
    "collapsed": false
   },
   "outputs": [],
   "source": [
    "def list_afters(corp_m_list):\n",
    "    res = {}\n",
    "    for i in range(len(corp_m_list)-1):\n",
    "        if corp_m_list[i] in res:\n",
    "            res[corp_m_list[i]].append(corp_m_list[i+1])\n",
    "        else:\n",
    "            res[corp_m_list[i]] = [corp_m_list[i+1]]\n",
    "    return res"
   ]
  },
  {
   "cell_type": "code",
   "execution_count": 89,
   "metadata": {
    "collapsed": true
   },
   "outputs": [],
   "source": [
    "from collections import Counter\n",
    "# словарь морфема: список(каждый последующий), потом по списку считаю частотность\n",
    "k_morph_dl = list_afters(kam_mor)\n",
    "k_morph_pairs_dict = {x: Counter(k_morph_dl[x]) for x in k_morph_dl}\n",
    "\n",
    "s_morph_dl = list_afters(seb_mor)\n",
    "s_morph_pairs_dict = {x: Counter(s_morph_dl[x]) for x in s_morph_dl}"
   ]
  },
  {
   "cell_type": "code",
   "execution_count": 90,
   "metadata": {
    "collapsed": false
   },
   "outputs": [
    {
     "data": {
      "text/plain": [
       "Counter({('-RIdʒI', '-ant.cvb', 'v'): 5,\n",
       "         ('-nIkEn', '-sim.cvb', 'v'): 26,\n",
       "         ('-mEČ', '-rec', 'v'): 2,\n",
       "         ('-RI', '-pst', 'v'): 35,\n",
       "         ('-mI', '-cond.cvb', 'v'): 15,\n",
       "         ('-REk', '-cond.cvb', 'v'): 3,\n",
       "         ('-R(E)', '-nonfut', 'v'): 19,\n",
       "         ('-nE', '-intent', 'v'): 1,\n",
       "         ('-čE', '-pf.ptc', 'v'): 19,\n",
       "         ('-DEŋ', '-pst.ptc', 'v'): 6,\n",
       "         (1,): 10,\n",
       "         ('-m', '-des', 'v'): 1,\n",
       "         ('-R', '-neg.cvb', 'v'): 11,\n",
       "         ('-DʒI', '-fut', 'v'): 14,\n",
       "         ('-Gr(E)', '-hab', 'v'): 67,\n",
       "         ('-D', '-prog', 'v'): 3,\n",
       "         ('-RI', '-impf.ptc', 'v'): 33,\n",
       "         ('-E', '-ep', 'v'): 58,\n",
       "         ('-DU', '-dat', 'v'): 1,\n",
       "         ('-Gr(E)', '-hab.nonfut', 'v'): 5,\n",
       "         ('-sčI', '-conat', 'v'): 1})"
      ]
     },
     "execution_count": 90,
     "metadata": {},
     "output_type": "execute_result"
    }
   ],
   "source": [
    "s_morph_pairs_dict[('-WEːČ', '-gnr', 'v')]"
   ]
  },
  {
   "cell_type": "code",
   "execution_count": 83,
   "metadata": {
    "collapsed": true
   },
   "outputs": [],
   "source": [
    "# bigramm-style!\n",
    "k_pairs = Counter([(kam_mor[i], kam_mor[i+1]) for i in range(len(kam_mor)-1)])\n",
    "s_pairs = Counter([(seb_mor[i], seb_mor[i+1]) for i in range(len(seb_mor)-1)])"
   ]
  },
  {
   "cell_type": "code",
   "execution_count": 105,
   "metadata": {
    "collapsed": false
   },
   "outputs": [],
   "source": [
    "kpd_pairs = pd.DataFrame({\n",
    "                       '1morpheme': [x[0][0] for x in k_pairs], \n",
    "                       '1gloss': [x[0][1] if len(x[0])==3 else x[0][0] for x in k_pairs],\n",
    "                       '1pos': [x[0][2] if len(x[0])==3 else x[0][0] for x in k_pairs],\n",
    "                       '2morpheme': [x[1][0] for x in k_pairs], \n",
    "                       '2gloss': [x[1][1] if len(x[1])==3 else x[1][0] for x in k_pairs],\n",
    "                       '2pos': [x[1][2] if len(x[1])==3 else x[1][0] for x in k_pairs],\n",
    "                       'k_count': [k_pairs[x] for x in k_pairs]\n",
    "    })\n",
    "\n",
    "spd_pairs = pd.DataFrame({\n",
    "                       '1morpheme': [x[0][0] for x in s_pairs], \n",
    "                       '1gloss': [x[0][1] if len(x[0])==3 else x[0][0] for x in s_pairs],\n",
    "                       '1pos': [x[0][2] if len(x[0])==3 else x[0][0] for x in s_pairs],\n",
    "                       '2morpheme': [x[1][0] for x in s_pairs], \n",
    "                       '2gloss': [x[1][1] if len(x[1])==3 else x[1][0] for x in s_pairs],\n",
    "                       '2pos': [x[1][2] if len(x[1])==3 else x[1][0] for x in s_pairs],\n",
    "                       's_count': [s_pairs[x] for x in s_pairs]\n",
    "    })"
   ]
  },
  {
   "cell_type": "code",
   "execution_count": 89,
   "metadata": {
    "collapsed": false
   },
   "outputs": [
    {
     "data": {
      "text/html": [
       "<div>\n",
       "<table border=\"1\" class=\"dataframe\">\n",
       "  <thead>\n",
       "    <tr style=\"text-align: right;\">\n",
       "      <th></th>\n",
       "      <th>1gloss</th>\n",
       "      <th>1morpheme</th>\n",
       "      <th>1pos</th>\n",
       "      <th>2gloss</th>\n",
       "      <th>2morpheme</th>\n",
       "      <th>2pos</th>\n",
       "      <th>k_count</th>\n",
       "    </tr>\n",
       "  </thead>\n",
       "  <tbody>\n",
       "    <tr>\n",
       "      <th>0</th>\n",
       "      <td>-abl</td>\n",
       "      <td>-DUk(U)</td>\n",
       "      <td>rel.n</td>\n",
       "      <td>1</td>\n",
       "      <td>1</td>\n",
       "      <td>1</td>\n",
       "      <td>1</td>\n",
       "    </tr>\n",
       "    <tr>\n",
       "      <th>1</th>\n",
       "      <td>0</td>\n",
       "      <td>0</td>\n",
       "      <td>0</td>\n",
       "      <td>=q</td>\n",
       "      <td>=GU</td>\n",
       "      <td>adv</td>\n",
       "      <td>1</td>\n",
       "    </tr>\n",
       "    <tr>\n",
       "      <th>2</th>\n",
       "      <td>-poss.3sg</td>\n",
       "      <td>-n(I)</td>\n",
       "      <td>ptl</td>\n",
       "      <td>-ep</td>\n",
       "      <td>-E</td>\n",
       "      <td>ptl</td>\n",
       "      <td>1</td>\n",
       "    </tr>\n",
       "    <tr>\n",
       "      <th>3</th>\n",
       "      <td>-poss.3sg</td>\n",
       "      <td>-n(I)</td>\n",
       "      <td>adv</td>\n",
       "      <td>-acc</td>\n",
       "      <td>-W</td>\n",
       "      <td>adv</td>\n",
       "      <td>2</td>\n",
       "    </tr>\n",
       "    <tr>\n",
       "      <th>4</th>\n",
       "      <td>0</td>\n",
       "      <td>0</td>\n",
       "      <td>0</td>\n",
       "      <td>-desig</td>\n",
       "      <td>-GE</td>\n",
       "      <td>pron</td>\n",
       "      <td>2</td>\n",
       "    </tr>\n",
       "  </tbody>\n",
       "</table>\n",
       "</div>"
      ],
      "text/plain": [
       "      1gloss 1morpheme   1pos  2gloss 2morpheme  2pos  k_count\n",
       "0       -abl   -DUk(U)  rel.n       1         1     1        1\n",
       "1          0         0      0      =q       =GU   adv        1\n",
       "2  -poss.3sg     -n(I)    ptl     -ep        -E   ptl        1\n",
       "3  -poss.3sg     -n(I)    adv    -acc        -W   adv        2\n",
       "4          0         0      0  -desig       -GE  pron        2"
      ]
     },
     "execution_count": 89,
     "metadata": {},
     "output_type": "execute_result"
    }
   ],
   "source": [
    "kpd_pairs.head()"
   ]
  },
  {
   "cell_type": "code",
   "execution_count": 114,
   "metadata": {
    "collapsed": true
   },
   "outputs": [],
   "source": [
    "total_pairs = pd.merge(spd_pairs, kpd_pairs, how='outer', on=['1morpheme', '1gloss', '1pos', '2morpheme', '2gloss', '2pos'])"
   ]
  },
  {
   "cell_type": "code",
   "execution_count": 127,
   "metadata": {
    "collapsed": false
   },
   "outputs": [],
   "source": [
    "for column in ['1morpheme', '1gloss', '1pos', '2morpheme', '2gloss', '2pos']:\n",
    "    total_pairs[column] = total_pairs[column].map(lambda x: x.strip('-=') if x not in [0, 1] else x)"
   ]
  },
  {
   "cell_type": "code",
   "execution_count": 116,
   "metadata": {
    "collapsed": false
   },
   "outputs": [],
   "source": [
    "total_pairs = total_pairs.sort_values(['1gloss', '1morpheme', '1pos'])"
   ]
  },
  {
   "cell_type": "code",
   "execution_count": 109,
   "metadata": {
    "collapsed": false
   },
   "outputs": [
    {
     "data": {
      "text/html": [
       "<div>\n",
       "<table border=\"1\" class=\"dataframe\">\n",
       "  <thead>\n",
       "    <tr style=\"text-align: right;\">\n",
       "      <th></th>\n",
       "      <th>1gloss</th>\n",
       "      <th>1morpheme</th>\n",
       "      <th>1pos</th>\n",
       "      <th>2gloss</th>\n",
       "      <th>2morpheme</th>\n",
       "      <th>2pos</th>\n",
       "      <th>s_count</th>\n",
       "      <th>k_count</th>\n",
       "    </tr>\n",
       "  </thead>\n",
       "  <tbody>\n",
       "    <tr>\n",
       "      <th>4</th>\n",
       "      <td>0</td>\n",
       "      <td>0</td>\n",
       "      <td>0</td>\n",
       "      <td>ptl</td>\n",
       "      <td>DE</td>\n",
       "      <td>interj</td>\n",
       "      <td>1.0</td>\n",
       "      <td>NaN</td>\n",
       "    </tr>\n",
       "    <tr>\n",
       "      <th>5</th>\n",
       "      <td>0</td>\n",
       "      <td>0</td>\n",
       "      <td>0</td>\n",
       "      <td>sml</td>\n",
       "      <td>mdEs</td>\n",
       "      <td>pron</td>\n",
       "      <td>17.0</td>\n",
       "      <td>NaN</td>\n",
       "    </tr>\n",
       "    <tr>\n",
       "      <th>10</th>\n",
       "      <td>0</td>\n",
       "      <td>0</td>\n",
       "      <td>0</td>\n",
       "      <td>ints</td>\n",
       "      <td>mEkEn</td>\n",
       "      <td>adj</td>\n",
       "      <td>6.0</td>\n",
       "      <td>4.0</td>\n",
       "    </tr>\n",
       "    <tr>\n",
       "      <th>16</th>\n",
       "      <td>0</td>\n",
       "      <td>0</td>\n",
       "      <td>0</td>\n",
       "      <td>restr</td>\n",
       "      <td>ńUn</td>\n",
       "      <td>adv</td>\n",
       "      <td>10.0</td>\n",
       "      <td>1.0</td>\n",
       "    </tr>\n",
       "    <tr>\n",
       "      <th>18</th>\n",
       "      <td>0</td>\n",
       "      <td>0</td>\n",
       "      <td>0</td>\n",
       "      <td>attn</td>\n",
       "      <td>sUkEn</td>\n",
       "      <td>adv</td>\n",
       "      <td>1.0</td>\n",
       "      <td>3.0</td>\n",
       "    </tr>\n",
       "  </tbody>\n",
       "</table>\n",
       "</div>"
      ],
      "text/plain": [
       "   1gloss 1morpheme 1pos 2gloss 2morpheme    2pos  s_count  k_count\n",
       "4       0         0    0    ptl        DE  interj      1.0      NaN\n",
       "5       0         0    0    sml      mdEs    pron     17.0      NaN\n",
       "10      0         0    0   ints     mEkEn     adj      6.0      4.0\n",
       "16      0         0    0  restr       ńUn     adv     10.0      1.0\n",
       "18      0         0    0   attn     sUkEn     adv      1.0      3.0"
      ]
     },
     "execution_count": 109,
     "metadata": {},
     "output_type": "execute_result"
    }
   ],
   "source": [
    "total_pairs.head()"
   ]
  },
  {
   "cell_type": "code",
   "execution_count": 14,
   "metadata": {
    "collapsed": true
   },
   "outputs": [],
   "source": [
    "total_pairs.to_pickle('pairs.pickle')"
   ]
  },
  {
   "cell_type": "code",
   "execution_count": 63,
   "metadata": {
    "collapsed": false
   },
   "outputs": [
    {
     "data": {
      "text/html": [
       "<div>\n",
       "<table border=\"1\" class=\"dataframe\">\n",
       "  <thead>\n",
       "    <tr style=\"text-align: right;\">\n",
       "      <th></th>\n",
       "      <th>1gloss</th>\n",
       "      <th>1morpheme</th>\n",
       "      <th>1pos</th>\n",
       "      <th>2gloss</th>\n",
       "      <th>2morpheme</th>\n",
       "      <th>2pos</th>\n",
       "      <th>s_count</th>\n",
       "      <th>k_count</th>\n",
       "    </tr>\n",
       "  </thead>\n",
       "  <tbody>\n",
       "    <tr>\n",
       "      <th>1016</th>\n",
       "      <td>1pl.Y</td>\n",
       "      <td>BIt</td>\n",
       "      <td>ptl</td>\n",
       "      <td>1</td>\n",
       "      <td>1</td>\n",
       "      <td>1</td>\n",
       "      <td>1.0</td>\n",
       "      <td>NaN</td>\n",
       "    </tr>\n",
       "    <tr>\n",
       "      <th>2875</th>\n",
       "      <td>1pl.Y</td>\n",
       "      <td>BIt</td>\n",
       "      <td>v</td>\n",
       "      <td>1</td>\n",
       "      <td>1</td>\n",
       "      <td>1</td>\n",
       "      <td>5.0</td>\n",
       "      <td>NaN</td>\n",
       "    </tr>\n",
       "    <tr>\n",
       "      <th>4064</th>\n",
       "      <td>1pl.ex</td>\n",
       "      <td>(R)U</td>\n",
       "      <td>?</td>\n",
       "      <td>1</td>\n",
       "      <td>1</td>\n",
       "      <td>1</td>\n",
       "      <td>NaN</td>\n",
       "      <td>4.0</td>\n",
       "    </tr>\n",
       "    <tr>\n",
       "      <th>3880</th>\n",
       "      <td>1pl.ex</td>\n",
       "      <td>(R)U</td>\n",
       "      <td>n</td>\n",
       "      <td>1</td>\n",
       "      <td>1</td>\n",
       "      <td>1</td>\n",
       "      <td>NaN</td>\n",
       "      <td>1.0</td>\n",
       "    </tr>\n",
       "    <tr>\n",
       "      <th>3061</th>\n",
       "      <td>1pl.ex</td>\n",
       "      <td>(R)U</td>\n",
       "      <td>v</td>\n",
       "      <td>ptl</td>\n",
       "      <td>DE</td>\n",
       "      <td>v</td>\n",
       "      <td>NaN</td>\n",
       "      <td>17.0</td>\n",
       "    </tr>\n",
       "  </tbody>\n",
       "</table>\n",
       "</div>"
      ],
      "text/plain": [
       "      1gloss 1morpheme 1pos 2gloss 2morpheme 2pos  s_count  k_count\n",
       "1016   1pl.Y       BIt  ptl      1         1    1      1.0      NaN\n",
       "2875   1pl.Y       BIt    v      1         1    1      5.0      NaN\n",
       "4064  1pl.ex      (R)U    ?      1         1    1      NaN      4.0\n",
       "3880  1pl.ex      (R)U    n      1         1    1      NaN      1.0\n",
       "3061  1pl.ex      (R)U    v    ptl        DE    v      NaN     17.0"
      ]
     },
     "execution_count": 63,
     "metadata": {},
     "output_type": "execute_result"
    }
   ],
   "source": [
    "total_pairs.head()"
   ]
  },
  {
   "cell_type": "markdown",
   "metadata": {},
   "source": [
    "49804\n",
    "32778"
   ]
  },
  {
   "cell_type": "code",
   "execution_count": 12,
   "metadata": {
    "collapsed": false
   },
   "outputs": [],
   "source": [
    "total_pairs = total_pairs.loc[total_pairs['s_count'] != 49803]\n",
    "total_pairs = total_pairs.loc[total_pairs['1gloss'] != 0]\n",
    "total_pairs = total_pairs.loc[total_pairs['1gloss'] != '']\n",
    "total_pairs = total_pairs.loc[total_pairs['1gloss'] != '*']\n",
    "total_pairs = total_pairs.loc[total_pairs['1gloss'] != '***']\n",
    "total_pairs = total_pairs.loc[total_pairs['1gloss'] != '******']"
   ]
  },
  {
   "cell_type": "code",
   "execution_count": 5,
   "metadata": {
    "collapsed": false
   },
   "outputs": [],
   "source": [
    "total_pairs = pd.read_pickle('pairs.pickle')"
   ]
  },
  {
   "cell_type": "code",
   "execution_count": 69,
   "metadata": {
    "collapsed": false
   },
   "outputs": [],
   "source": [
    "total_pairs['s_count'] = total_pairs['s_count'].fillna(0)\n",
    "total_pairs['k_count'] = total_pairs['k_count'].fillna(0)"
   ]
  },
  {
   "cell_type": "code",
   "execution_count": 75,
   "metadata": {
    "collapsed": false
   },
   "outputs": [
    {
     "data": {
      "text/html": [
       "<div>\n",
       "<table border=\"1\" class=\"dataframe\">\n",
       "  <thead>\n",
       "    <tr style=\"text-align: right;\">\n",
       "      <th></th>\n",
       "      <th>1gloss</th>\n",
       "      <th>1morpheme</th>\n",
       "      <th>1pos</th>\n",
       "      <th>2gloss</th>\n",
       "      <th>2morpheme</th>\n",
       "      <th>2pos</th>\n",
       "      <th>s_count</th>\n",
       "      <th>k_count</th>\n",
       "      <th>s_expected</th>\n",
       "      <th>k_expected</th>\n",
       "      <th>log_l</th>\n",
       "      <th>ell</th>\n",
       "    </tr>\n",
       "  </thead>\n",
       "  <tbody>\n",
       "    <tr>\n",
       "      <th>1558</th>\n",
       "      <td>gnr</td>\n",
       "      <td>WEːČ</td>\n",
       "      <td>v</td>\n",
       "      <td>nonfut</td>\n",
       "      <td>R(E)</td>\n",
       "      <td>v</td>\n",
       "      <td>19.0</td>\n",
       "      <td>1506.0</td>\n",
       "      <td>919.705263</td>\n",
       "      <td>605.294737</td>\n",
       "      <td>2598.003320</td>\n",
       "      <td>0.004911</td>\n",
       "    </tr>\n",
       "    <tr>\n",
       "      <th>4680</th>\n",
       "      <td>prog</td>\n",
       "      <td>D</td>\n",
       "      <td>v</td>\n",
       "      <td>gnr</td>\n",
       "      <td>WEːČ</td>\n",
       "      <td>v</td>\n",
       "      <td>0.0</td>\n",
       "      <td>458.0</td>\n",
       "      <td>276.213122</td>\n",
       "      <td>181.786878</td>\n",
       "      <td>846.415309</td>\n",
       "      <td>0.001970</td>\n",
       "    </tr>\n",
       "    <tr>\n",
       "      <th>2445</th>\n",
       "      <td>sim.cvb</td>\n",
       "      <td>nIkEn</td>\n",
       "      <td>v</td>\n",
       "      <td>1</td>\n",
       "      <td>1</td>\n",
       "      <td>1</td>\n",
       "      <td>1039.0</td>\n",
       "      <td>34.0</td>\n",
       "      <td>647.110654</td>\n",
       "      <td>425.889346</td>\n",
       "      <td>812.034418</td>\n",
       "      <td>0.001624</td>\n",
       "    </tr>\n",
       "    <tr>\n",
       "      <th>999</th>\n",
       "      <td>pf.ptc</td>\n",
       "      <td>čE</td>\n",
       "      <td>v</td>\n",
       "      <td>1</td>\n",
       "      <td>1</td>\n",
       "      <td>1</td>\n",
       "      <td>1083.0</td>\n",
       "      <td>73.0</td>\n",
       "      <td>697.166743</td>\n",
       "      <td>458.833257</td>\n",
       "      <td>685.667361</td>\n",
       "      <td>0.001355</td>\n",
       "    </tr>\n",
       "    <tr>\n",
       "      <th>4769</th>\n",
       "      <td>poss.1pl.ex</td>\n",
       "      <td>WUn</td>\n",
       "      <td>v</td>\n",
       "      <td>1</td>\n",
       "      <td>1</td>\n",
       "      <td>1</td>\n",
       "      <td>0.0</td>\n",
       "      <td>327.0</td>\n",
       "      <td>197.208932</td>\n",
       "      <td>129.791068</td>\n",
       "      <td>604.318354</td>\n",
       "      <td>0.001504</td>\n",
       "    </tr>\n",
       "  </tbody>\n",
       "</table>\n",
       "</div>"
      ],
      "text/plain": [
       "           1gloss 1morpheme 1pos  2gloss 2morpheme 2pos  s_count  k_count  \\\n",
       "1558          gnr      WEːČ    v  nonfut      R(E)    v     19.0   1506.0   \n",
       "4680         prog         D    v     gnr      WEːČ    v      0.0    458.0   \n",
       "2445      sim.cvb     nIkEn    v       1         1    1   1039.0     34.0   \n",
       "999        pf.ptc        čE    v       1         1    1   1083.0     73.0   \n",
       "4769  poss.1pl.ex       WUn    v       1         1    1      0.0    327.0   \n",
       "\n",
       "      s_expected  k_expected        log_l       ell  \n",
       "1558  919.705263  605.294737  2598.003320  0.004911  \n",
       "4680  276.213122  181.786878   846.415309  0.001970  \n",
       "2445  647.110654  425.889346   812.034418  0.001624  \n",
       "999   697.166743  458.833257   685.667361  0.001355  \n",
       "4769  197.208932  129.791068   604.318354  0.001504  "
      ]
     },
     "execution_count": 75,
     "metadata": {},
     "output_type": "execute_result"
    }
   ],
   "source": [
    "total_pairs['s_expected'] = 49804*(total_pairs['s_count']+total_pairs['k_count'])/(82582)\n",
    "total_pairs['k_expected'] = 32778*(total_pairs['s_count']+total_pairs['k_count'])/(82582)\n",
    "total_pairs['k_semi_l'] = total_pairs['k_count']*np.log(total_pairs['k_count']/total_pairs['k_expected'])\n",
    "total_pairs['s_semi_l'] = total_pairs['s_count']*np.log(total_pairs['s_count']/total_pairs['s_expected'])\n",
    "total_pairs['k_semi_l'] = total_pairs['k_semi_l'].fillna(0)\n",
    "total_pairs['s_semi_l'] = total_pairs['s_semi_l'].fillna(0)\n",
    "total_pairs['log_l'] = 2*(total_pairs['s_semi_l']+total_pairs['k_semi_l'])\n",
    "total_pairs['ell'] = total_pairs['log_l']/(82582*np.log(\n",
    "        total_pairs['s_expected']*(total_pairs['s_expected']<total_pairs['k_expected'])+total_pairs['k_expected']*(total_pairs['k_expected']<total_pairs['s_expected'])\n",
    "                                     )\n",
    "                              )\n",
    "del total_pairs['k_semi_l']\n",
    "del total_pairs['s_semi_l']\n",
    "total_pairs = total_pairs.sort_values('log_l', ascending=False)\n",
    "total_pairs.head()"
   ]
  },
  {
   "cell_type": "code",
   "execution_count": 77,
   "metadata": {
    "collapsed": false
   },
   "outputs": [],
   "source": [
    "total_pairs.to_pickle('pairs_by_ll.pickle')\n",
    "total_pairs.to_excel('pairs_by_ll.xlsx')"
   ]
  },
  {
   "cell_type": "code",
   "execution_count": 86,
   "metadata": {
    "collapsed": false
   },
   "outputs": [],
   "source": [
    "pairs = pd.read_pickle('pairs_by_ll.pickle')\n",
    "del pairs['s_expected']\n",
    "del pairs['k_expected']\n",
    "del pairs['log_l']\n",
    "del pairs['ell']"
   ]
  },
  {
   "cell_type": "code",
   "execution_count": 87,
   "metadata": {
    "collapsed": false
   },
   "outputs": [
    {
     "data": {
      "text/html": [
       "<div>\n",
       "<table border=\"1\" class=\"dataframe\">\n",
       "  <thead>\n",
       "    <tr style=\"text-align: right;\">\n",
       "      <th></th>\n",
       "      <th>1gloss</th>\n",
       "      <th>1morpheme</th>\n",
       "      <th>1pos</th>\n",
       "      <th>2gloss</th>\n",
       "      <th>2morpheme</th>\n",
       "      <th>2pos</th>\n",
       "      <th>s_count</th>\n",
       "      <th>k_count</th>\n",
       "    </tr>\n",
       "  </thead>\n",
       "  <tbody>\n",
       "    <tr>\n",
       "      <th>1558</th>\n",
       "      <td>gnr</td>\n",
       "      <td>WEːČ</td>\n",
       "      <td>v</td>\n",
       "      <td>nonfut</td>\n",
       "      <td>R(E)</td>\n",
       "      <td>v</td>\n",
       "      <td>19.0</td>\n",
       "      <td>1506.0</td>\n",
       "    </tr>\n",
       "    <tr>\n",
       "      <th>4680</th>\n",
       "      <td>prog</td>\n",
       "      <td>D</td>\n",
       "      <td>v</td>\n",
       "      <td>gnr</td>\n",
       "      <td>WEːČ</td>\n",
       "      <td>v</td>\n",
       "      <td>0.0</td>\n",
       "      <td>458.0</td>\n",
       "    </tr>\n",
       "    <tr>\n",
       "      <th>2445</th>\n",
       "      <td>sim.cvb</td>\n",
       "      <td>nIkEn</td>\n",
       "      <td>v</td>\n",
       "      <td>1</td>\n",
       "      <td>1</td>\n",
       "      <td>1</td>\n",
       "      <td>1039.0</td>\n",
       "      <td>34.0</td>\n",
       "    </tr>\n",
       "    <tr>\n",
       "      <th>999</th>\n",
       "      <td>pf.ptc</td>\n",
       "      <td>čE</td>\n",
       "      <td>v</td>\n",
       "      <td>1</td>\n",
       "      <td>1</td>\n",
       "      <td>1</td>\n",
       "      <td>1083.0</td>\n",
       "      <td>73.0</td>\n",
       "    </tr>\n",
       "    <tr>\n",
       "      <th>4769</th>\n",
       "      <td>poss.1pl.ex</td>\n",
       "      <td>WUn</td>\n",
       "      <td>v</td>\n",
       "      <td>1</td>\n",
       "      <td>1</td>\n",
       "      <td>1</td>\n",
       "      <td>0.0</td>\n",
       "      <td>327.0</td>\n",
       "    </tr>\n",
       "  </tbody>\n",
       "</table>\n",
       "</div>"
      ],
      "text/plain": [
       "           1gloss 1morpheme 1pos  2gloss 2morpheme 2pos  s_count  k_count\n",
       "1558          gnr      WEːČ    v  nonfut      R(E)    v     19.0   1506.0\n",
       "4680         prog         D    v     gnr      WEːČ    v      0.0    458.0\n",
       "2445      sim.cvb     nIkEn    v       1         1    1   1039.0     34.0\n",
       "999        pf.ptc        čE    v       1         1    1   1083.0     73.0\n",
       "4769  poss.1pl.ex       WUn    v       1         1    1      0.0    327.0"
      ]
     },
     "execution_count": 87,
     "metadata": {},
     "output_type": "execute_result"
    }
   ],
   "source": []
  },
  {
   "cell_type": "code",
   "execution_count": null,
   "metadata": {
    "collapsed": true
   },
   "outputs": [],
   "source": [
    "# вернёмся к вложенной структуре\n",
    "# k_morph_pairs_dict\n",
    "# s_morph_pairs_dict\n",
    "from scipy import stats\n",
    "\n",
    "\n",
    "def cramers_corrected_stat(confusion_matrix):\n",
    "    \"\"\" calculate Cramers V statistic for categorial-categorial association.\n",
    "        uses correction from Bergsma and Wicher, \n",
    "        Journal of the Korean Statistical Society 42 (2013): 323-328\n",
    "    \"\"\"\n",
    "    chi2 = stats.chi2_contingency(confusion_matrix)[0]\n",
    "    n = confusion_matrix.sum()\n",
    "    phi2 = chi2/n\n",
    "    r,k = confusion_matrix.shape\n",
    "    phi2corr = max(0, phi2 - ((k-1)*(r-1))/(n-1))    \n",
    "    rcorr = r - ((r-1)**2)/(n-1)\n",
    "    kcorr = k - ((k-1)**2)/(n-1)\n",
    "    return np.sqrt(phi2corr / min( (kcorr-1), (rcorr-1)))\n",
    "\n",
    "\n",
    "for key in k_morph_pairs_dict:\n",
    "    if key in s_morph_pairs_dict:\n",
    "        lines = list(set(k_morph_pairs_dict[key].keys())|set(s_morph_pairs_dict[key].keys()))\n",
    "        obs_s = [s_morph_pairs_dict[key][x] if x in s_morph_pairs_dict else 0]\n",
    "        obs_k = [k_morph_pairs_dict[key][x] if x in k_morph_pairs_dict else 0]\n",
    "        obs = np.array([obs_s, obs_k])\n",
    "        chi2, p, dof, expected = stats.chi2_contingency(obs)\n",
    "        if all(expected>5):\n",
    "            confusion_matrix = pd.crosstab(pd.Series('obs_s': obs_s), pd.Series('obs_k': obs_k))\n",
    "            c_v = cramers_corrected_stat(confusion_matrix)\n",
    "            "
   ]
  },
  {
   "cell_type": "code",
   "execution_count": 96,
   "metadata": {
    "collapsed": false
   },
   "outputs": [
    {
     "data": {
      "text/plain": [
       "array([ True,  True,  True,  True], dtype=bool)"
      ]
     },
     "execution_count": 96,
     "metadata": {},
     "output_type": "execute_result"
    }
   ],
   "source": [
    "a = np.array([24, 7, 37, 445])\n",
    "a>5"
   ]
  },
  {
   "cell_type": "code",
   "execution_count": null,
   "metadata": {
    "collapsed": true
   },
   "outputs": [],
   "source": []
  }
 ],
 "metadata": {
  "kernelspec": {
   "display_name": "Python 3",
   "language": "python",
   "name": "python3"
  },
  "language_info": {
   "codemirror_mode": {
    "name": "ipython",
    "version": 3
   },
   "file_extension": ".py",
   "mimetype": "text/x-python",
   "name": "python",
   "nbconvert_exporter": "python",
   "pygments_lexer": "ipython3",
   "version": "3.5.2"
  }
 },
 "nbformat": 4,
 "nbformat_minor": 0
}
