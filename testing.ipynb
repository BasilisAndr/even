{
 "cells": [
  {
   "cell_type": "code",
   "execution_count": 3,
   "metadata": {
    "collapsed": true
   },
   "outputs": [],
   "source": [
    "import pickle\n",
    "from pprint import pprint"
   ]
  },
  {
   "cell_type": "code",
   "execution_count": null,
   "metadata": {
    "collapsed": true
   },
   "outputs": [],
   "source": [
    "corpora = ['Kamchatka', 'Sebjan']"
   ]
  },
  {
   "cell_type": "code",
   "execution_count": 9,
   "metadata": {
    "collapsed": false
   },
   "outputs": [
    {
     "name": "stdout",
     "output_type": "stream",
     "text": [
      "i\n",
      "i\n",
      "i\n",
      "i\n",
      "i\n",
      "i\n",
      "i\n",
      "i\n",
      "i\n",
      "i\n",
      "i\n",
      "i\n",
      "i\n",
      "i\n",
      "i\n",
      "i\n",
      "i\n",
      "i\n",
      "i\n",
      "i\n",
      "i\n",
      "i\n",
      "i\n",
      "i\n",
      "i\n",
      "i\n",
      "i\n",
      "i\n",
      "i\n",
      "i\n",
      "i\n",
      "i\n",
      "i\n",
      "i\n",
      "i\n",
      "i\n",
      "i\n",
      "i\n",
      "i\n",
      "i\n",
      "i\n",
      "i\n",
      "i\n",
      "i\n",
      "i\n",
      "i\n",
      "i\n",
      "i\n",
      "i\n",
      "i\n",
      "i\n",
      "i\n",
      "i\n",
      "i\n",
      "i\n",
      "i\n",
      "i\n",
      "i\n",
      "i\n",
      "i\n",
      "i\n",
      "i\n",
      "i\n",
      "i\n",
      "i\n",
      "i\n",
      "i\n",
      "i\n",
      "i\n",
      "i\n",
      "i\n",
      "i\n",
      "i\n"
     ]
    }
   ],
   "source": [
    "# снова тестовое что-то\n",
    "with open('Sebjan.pickle', 'rb') as f:\n",
    "    content = pickle.load(f)\n",
    "# pprint(content['Alekseeva_RD_lost_tapes_znatoki_NA.txt']['text'][55])\n",
    "for doc in content:\n",
    "    print()\n",
    "for sent in content['Alekseeva_RD_lost_tapes_znatoki_NA.txt']['text']:\n",
    "    if 'mb' in sent and 'ge' in sent and 'ps' in sent:\n",
    "        print('i')\n",
    "# fil = 'Kejmetinova_AA_headmistress_Yakutsk_310310_LZ.txt'\n",
    "# with open(os.path.join('Corpus_Text_Sebjan_postagged', fil), 'r') as f:\n",
    "#     text = f.read()\n",
    "# sents = text.split('\\id')\n",
    "# for i in range(len(sents)):\n",
    "#     sent_content = lines_2_dict(sents[i])\n",
    "#     check_len(sent_content, fil)"
   ]
  },
  {
   "cell_type": "code",
   "execution_count": null,
   "metadata": {
    "collapsed": true
   },
   "outputs": [],
   "source": [
    "# здесь я в лоб проверяю не налажал ли (всё ли заменил)\n",
    "\n",
    "token = '-nonfut.3pl'\n",
    "for corp in corpora:\n",
    "    folder = 'Corpus_Text_{}_postagged'.format(corp)\n",
    "    for fil in os.listdir(folder):\n",
    "        with open(os.path.join(folder, fil)) as f:\n",
    "            text = f.read()\n",
    "        if token in text:\n",
    "            print(fil)\n",
    "    print('done')"
   ]
  },
  {
   "cell_type": "code",
   "execution_count": null,
   "metadata": {
    "collapsed": true
   },
   "outputs": [],
   "source": []
  }
 ],
 "metadata": {
  "kernelspec": {
   "display_name": "Python 3",
   "language": "python",
   "name": "python3"
  },
  "language_info": {
   "codemirror_mode": {
    "name": "ipython",
    "version": 3
   },
   "file_extension": ".py",
   "mimetype": "text/x-python",
   "name": "python",
   "nbconvert_exporter": "python",
   "pygments_lexer": "ipython3",
   "version": "3.5.2"
  }
 },
 "nbformat": 4,
 "nbformat_minor": 0
}
