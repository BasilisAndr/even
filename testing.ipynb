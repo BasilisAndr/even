{
 "cells": [
  {
   "cell_type": "code",
   "execution_count": 3,
   "metadata": {
    "collapsed": true
   },
   "outputs": [],
   "source": [
    "import pickle\n",
    "from pprint import pprint"
   ]
  },
  {
   "cell_type": "code",
   "execution_count": null,
   "metadata": {
    "collapsed": true
   },
   "outputs": [],
   "source": [
    "corpora = ['Kamchatka', 'Sebjan']"
   ]
  },
  {
   "cell_type": "code",
   "execution_count": 7,
   "metadata": {
    "collapsed": false
   },
   "outputs": [
    {
     "name": "stdout",
     "output_type": "stream",
     "text": [
      "{'ELANBegin': ['00:04:34.530'],\n",
      " 'ELANEnd': ['00:04:44.570'],\n",
      " 'ft': ['Once also, sometimes we also sit , talking, remembering old times.'],\n",
      " 'ge': [['dist'],\n",
      "        ['also.Y'],\n",
      "        ['one', '-iter.adv'],\n",
      "        ['also.Y'],\n",
      "        ['sit.down', '-ep', '-res', '-sim.cvb'],\n",
      "        ['front', '-adjr'],\n",
      "        ['what', '-acc'],\n",
      "        ['remember', '-sim.cvb'],\n",
      "        ['ask', '-ipf???'],\n",
      "        ['prox.qual'],\n",
      "        ['tell', '-rec', '-sim.cvb'],\n",
      "        ['sometimes'],\n",
      "        ['sit.down', '-ep', '-res', '-hab', '-nonfut', '-1pl.in']],\n",
      " 'index': ['056'],\n",
      " 'mb': [['tarak'],\n",
      "        ['emie'],\n",
      "        ['omen', '-REkEn'],\n",
      "        ['emie'],\n",
      "        ['teg', '-E', '-Č', '-nIkEn'],\n",
      "        ['dʒul', '-(E)rEp'],\n",
      "        ['ịak', '-W'],\n",
      "        ['dʒọn', '-nIkEn'],\n",
      "        ['ulgim', '-i'],\n",
      "        ['erroːčin'],\n",
      "        ['ukčen', '-mEČ', '-nIkEn'],\n",
      "        ['haːdụn'],\n",
      "        ['teg', '-E', '-Č', '-Gr(E)', '-R(E)', '-p']],\n",
      " 'ph': ['emneken = omneken'],\n",
      " 'ps': [['pron'],\n",
      "        ['adv'],\n",
      "        ['num'],\n",
      "        ['adv'],\n",
      "        ['v'],\n",
      "        ['rel.n'],\n",
      "        ['pron'],\n",
      "        ['v'],\n",
      "        ['v'],\n",
      "        ['pron'],\n",
      "        ['v'],\n",
      "        ['adv'],\n",
      "        ['v']],\n",
      " 'ru': ['Однажды тоже, сидя, прежнее вспоминая, так разговаривая, тоже иногда '\n",
      "        'сидим.'],\n",
      " 'tx': [['Tara'],\n",
      "        ['emie'],\n",
      "        ['omneken'],\n",
      "        ['emie'],\n",
      "        ['tegetniken'],\n",
      "        ['dʒulep'],\n",
      "        ['ịaw'],\n",
      "        ['dʒọnịkan,'],\n",
      "        ['ulgimin...'],\n",
      "        ['ečimur'],\n",
      "        ['ukčemmetniken'],\n",
      "        ['haːdụn'],\n",
      "        ['tegekkererep.']]}\n"
     ]
    }
   ],
   "source": [
    "# снова тестовое что-то\n",
    "with open('Sebjan.pickle', 'rb') as f:\n",
    "    content = pickle.load(f)\n",
    "pprint(content['Alekseeva_RD_lost_tapes_znatoki_NA.txt']['text'][55])\n",
    "# fil = 'Kejmetinova_AA_headmistress_Yakutsk_310310_LZ.txt'\n",
    "# with open(os.path.join('Corpus_Text_Sebjan_postagged', fil), 'r') as f:\n",
    "#     text = f.read()\n",
    "# sents = text.split('\\id')\n",
    "# for i in range(len(sents)):\n",
    "#     sent_content = lines_2_dict(sents[i])\n",
    "#     check_len(sent_content, fil)"
   ]
  },
  {
   "cell_type": "code",
   "execution_count": null,
   "metadata": {
    "collapsed": true
   },
   "outputs": [],
   "source": [
    "# здесь я в лоб проверяю не налажал ли (всё ли заменил)\n",
    "\n",
    "token = '-nonfut.3pl'\n",
    "for corp in corpora:\n",
    "    folder = 'Corpus_Text_{}_postagged'.format(corp)\n",
    "    for fil in os.listdir(folder):\n",
    "        with open(os.path.join(folder, fil)) as f:\n",
    "            text = f.read()\n",
    "        if token in text:\n",
    "            print(fil)\n",
    "    print('done')"
   ]
  },
  {
   "cell_type": "code",
   "execution_count": null,
   "metadata": {
    "collapsed": true
   },
   "outputs": [],
   "source": []
  }
 ],
 "metadata": {
  "kernelspec": {
   "display_name": "Python 3",
   "language": "python",
   "name": "python3"
  },
  "language_info": {
   "codemirror_mode": {
    "name": "ipython",
    "version": 3
   },
   "file_extension": ".py",
   "mimetype": "text/x-python",
   "name": "python",
   "nbconvert_exporter": "python",
   "pygments_lexer": "ipython3",
   "version": "3.5.2"
  }
 },
 "nbformat": 4,
 "nbformat_minor": 0
}
